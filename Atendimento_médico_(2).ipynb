{
  "nbformat": 4,
  "nbformat_minor": 0,
  "metadata": {
    "colab": {
      "name": "Atendimento médico (2).ipynb",
      "provenance": [],
      "collapsed_sections": [],
      "include_colab_link": true
    },
    "kernelspec": {
      "name": "python3",
      "display_name": "Python 3"
    }
  },
  "cells": [
    {
      "cell_type": "markdown",
      "metadata": {
        "id": "view-in-github",
        "colab_type": "text"
      },
      "source": [
        "<a href=\"https://colab.research.google.com/github/FGalvao77/data-science/blob/main/Atendimento_m%C3%A9dico_(2).ipynb\" target=\"_parent\"><img src=\"https://colab.research.google.com/assets/colab-badge.svg\" alt=\"Open In Colab\"/></a>"
      ]
    },
    {
      "cell_type": "markdown",
      "metadata": {
        "id": "_RLoUTqeuLRj"
      },
      "source": [
        "# **Atendimento médico**\n",
        " - Notebook utilizado para o bootcamp de machine learning"
      ]
    },
    {
      "cell_type": "markdown",
      "metadata": {
        "id": "X3ck7keZya7z"
      },
      "source": [
        "**Introdução**\n",
        "\n",
        "Este conjunto de dados contém informações sobre os pacientes no Brasil, suas características e informações sobre a consulta, e se compareceram ou não à consulta. \n",
        "\n",
        "`Para cada ID do paciente, os dados listam a ID da consulta, o sexo do paciente, o dia em que a consulta foi agendada, o dia da consulta, a idade do paciente, o bairro em que o paciente reside, se o paciente é coberto por Bolsa Família, programa de assistência social no Brasil (bolsa de estudos), se o paciente tem diagnóstico de hipertensão, diabetes, alcoolismo ou deficiência, se o paciente recebeu mensagem de texto para lembrete de consulta (SMS)` e, por fim, se o paciente não faltou à consulta. \n",
        "\n",
        " - Se eles compareceram ao compromisso, esta coluna indica **\"No\"**, não faltou ao comparecimento. Se eles NÃO compareceram à consulta, esta coluna indica **\"Yes\"**, faltaram à consulta.\n",
        "\n",
        "Iremos explorar as seguintes questões que faz um paciente comparecer ou não a consulta. Segue as perguntas:\n",
        "\n",
        "  - Os beneficiários do Bolsa Família tiveram uma taxa maior ou menor de não comparecimento?\n",
        "  - Os pacientes com diagnóstico ou deficiência tiveram uma taxa maior ou menor de não comparecimento?\n",
        "  - A idade ou o sexo afetaram a frequência às consultas?\n",
        "  - Qual foi o impacto da diferença de tempo entre o dia em que a consulta foi agendada e o dia da consulta?\n",
        "  - Como o recebimento de um lembrete por SMS afetou o comparecimento as consultas?"
      ]
    },
    {
      "cell_type": "code",
      "metadata": {
        "id": "POMuaVlDQYIx",
        "colab": {
          "resources": {
            "http://localhost:8080/nbextensions/google.colab/files.js": {
              "data": "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",
              "ok": true,
              "headers": [
                [
                  "content-type",
                  "application/javascript"
                ]
              ],
              "status": 200,
              "status_text": ""
            }
          },
          "base_uri": "https://localhost:8080/",
          "height": 72
        },
        "outputId": "12efe1f4-0f61-48fb-d06e-f15eeab9a1a6"
      },
      "source": [
        "# importando os dados para o google colab\n",
        "from google.colab import files\n",
        "uploaded = files.upload()"
      ],
      "execution_count": 1,
      "outputs": [
        {
          "output_type": "display_data",
          "data": {
            "text/html": [
              "\n",
              "     <input type=\"file\" id=\"files-e360b6bd-5028-44ab-a097-6ed3bcee4e1c\" name=\"files[]\" multiple disabled\n",
              "        style=\"border:none\" />\n",
              "     <output id=\"result-e360b6bd-5028-44ab-a097-6ed3bcee4e1c\">\n",
              "      Upload widget is only available when the cell has been executed in the\n",
              "      current browser session. Please rerun this cell to enable.\n",
              "      </output>\n",
              "      <script src=\"/nbextensions/google.colab/files.js\"></script> "
            ],
            "text/plain": [
              "<IPython.core.display.HTML object>"
            ]
          },
          "metadata": {
            "tags": []
          }
        },
        {
          "output_type": "stream",
          "text": [
            "Saving KaggleV2-May-2016.csv to KaggleV2-May-2016.csv\n"
          ],
          "name": "stdout"
        }
      ]
    },
    {
      "cell_type": "code",
      "metadata": {
        "id": "2HwwgCDFQvO_"
      },
      "source": [
        "# importando as bibliotecas\n",
        "import pandas as pd  # bibioteca responsável para o tratamento e limpeza dos dados\n",
        "import numpy as np # biblioteca utilizada para o tratamento eficiente de dados numéricos\n",
        "import datetime  # biblioteca utilizada para trabalhar com datas\n",
        "from matplotlib import pyplot as plt  # plotar os gráficos\n",
        "import seaborn as sns # plot de gráficos"
      ],
      "execution_count": 3,
      "outputs": []
    },
    {
      "cell_type": "code",
      "metadata": {
        "id": "z2EnE_9fQzp3"
      },
      "source": [
        "# carregando os dados para o pandas\n",
        "df_consultas=pd.read_csv('KaggleV2-May-2016.csv')"
      ],
      "execution_count": 4,
      "outputs": []
    },
    {
      "cell_type": "markdown",
      "metadata": {
        "id": "oRYM8oMFSWMQ"
      },
      "source": [
        "## **Iniciando a análise exploratória dos dados**"
      ]
    },
    {
      "cell_type": "code",
      "metadata": {
        "id": "WIHYpOPSQzuG",
        "colab": {
          "base_uri": "https://localhost:8080/",
          "height": 566
        },
        "outputId": "9e88b2e0-0756-481e-cf8f-815905db81b3"
      },
      "source": [
        "# mostrando as características do dataset\n",
        "df_consultas.head(10) # visualizando as 10 primeiras linhas"
      ],
      "execution_count": 5,
      "outputs": [
        {
          "output_type": "execute_result",
          "data": {
            "text/html": [
              "<div>\n",
              "<style scoped>\n",
              "    .dataframe tbody tr th:only-of-type {\n",
              "        vertical-align: middle;\n",
              "    }\n",
              "\n",
              "    .dataframe tbody tr th {\n",
              "        vertical-align: top;\n",
              "    }\n",
              "\n",
              "    .dataframe thead th {\n",
              "        text-align: right;\n",
              "    }\n",
              "</style>\n",
              "<table border=\"1\" class=\"dataframe\">\n",
              "  <thead>\n",
              "    <tr style=\"text-align: right;\">\n",
              "      <th></th>\n",
              "      <th>PatientId</th>\n",
              "      <th>AppointmentID</th>\n",
              "      <th>Gender</th>\n",
              "      <th>ScheduledDay</th>\n",
              "      <th>AppointmentDay</th>\n",
              "      <th>Age</th>\n",
              "      <th>Neighbourhood</th>\n",
              "      <th>Scholarship</th>\n",
              "      <th>Hipertension</th>\n",
              "      <th>Diabetes</th>\n",
              "      <th>Alcoholism</th>\n",
              "      <th>Handcap</th>\n",
              "      <th>SMS_received</th>\n",
              "      <th>No-show</th>\n",
              "    </tr>\n",
              "  </thead>\n",
              "  <tbody>\n",
              "    <tr>\n",
              "      <th>0</th>\n",
              "      <td>2.987250e+13</td>\n",
              "      <td>5642903</td>\n",
              "      <td>F</td>\n",
              "      <td>2016-04-29T18:38:08Z</td>\n",
              "      <td>2016-04-29T00:00:00Z</td>\n",
              "      <td>62</td>\n",
              "      <td>JARDIM DA PENHA</td>\n",
              "      <td>0</td>\n",
              "      <td>1</td>\n",
              "      <td>0</td>\n",
              "      <td>0</td>\n",
              "      <td>0</td>\n",
              "      <td>0</td>\n",
              "      <td>No</td>\n",
              "    </tr>\n",
              "    <tr>\n",
              "      <th>1</th>\n",
              "      <td>5.589978e+14</td>\n",
              "      <td>5642503</td>\n",
              "      <td>M</td>\n",
              "      <td>2016-04-29T16:08:27Z</td>\n",
              "      <td>2016-04-29T00:00:00Z</td>\n",
              "      <td>56</td>\n",
              "      <td>JARDIM DA PENHA</td>\n",
              "      <td>0</td>\n",
              "      <td>0</td>\n",
              "      <td>0</td>\n",
              "      <td>0</td>\n",
              "      <td>0</td>\n",
              "      <td>0</td>\n",
              "      <td>No</td>\n",
              "    </tr>\n",
              "    <tr>\n",
              "      <th>2</th>\n",
              "      <td>4.262962e+12</td>\n",
              "      <td>5642549</td>\n",
              "      <td>F</td>\n",
              "      <td>2016-04-29T16:19:04Z</td>\n",
              "      <td>2016-04-29T00:00:00Z</td>\n",
              "      <td>62</td>\n",
              "      <td>MATA DA PRAIA</td>\n",
              "      <td>0</td>\n",
              "      <td>0</td>\n",
              "      <td>0</td>\n",
              "      <td>0</td>\n",
              "      <td>0</td>\n",
              "      <td>0</td>\n",
              "      <td>No</td>\n",
              "    </tr>\n",
              "    <tr>\n",
              "      <th>3</th>\n",
              "      <td>8.679512e+11</td>\n",
              "      <td>5642828</td>\n",
              "      <td>F</td>\n",
              "      <td>2016-04-29T17:29:31Z</td>\n",
              "      <td>2016-04-29T00:00:00Z</td>\n",
              "      <td>8</td>\n",
              "      <td>PONTAL DE CAMBURI</td>\n",
              "      <td>0</td>\n",
              "      <td>0</td>\n",
              "      <td>0</td>\n",
              "      <td>0</td>\n",
              "      <td>0</td>\n",
              "      <td>0</td>\n",
              "      <td>No</td>\n",
              "    </tr>\n",
              "    <tr>\n",
              "      <th>4</th>\n",
              "      <td>8.841186e+12</td>\n",
              "      <td>5642494</td>\n",
              "      <td>F</td>\n",
              "      <td>2016-04-29T16:07:23Z</td>\n",
              "      <td>2016-04-29T00:00:00Z</td>\n",
              "      <td>56</td>\n",
              "      <td>JARDIM DA PENHA</td>\n",
              "      <td>0</td>\n",
              "      <td>1</td>\n",
              "      <td>1</td>\n",
              "      <td>0</td>\n",
              "      <td>0</td>\n",
              "      <td>0</td>\n",
              "      <td>No</td>\n",
              "    </tr>\n",
              "    <tr>\n",
              "      <th>5</th>\n",
              "      <td>9.598513e+13</td>\n",
              "      <td>5626772</td>\n",
              "      <td>F</td>\n",
              "      <td>2016-04-27T08:36:51Z</td>\n",
              "      <td>2016-04-29T00:00:00Z</td>\n",
              "      <td>76</td>\n",
              "      <td>REPÚBLICA</td>\n",
              "      <td>0</td>\n",
              "      <td>1</td>\n",
              "      <td>0</td>\n",
              "      <td>0</td>\n",
              "      <td>0</td>\n",
              "      <td>0</td>\n",
              "      <td>No</td>\n",
              "    </tr>\n",
              "    <tr>\n",
              "      <th>6</th>\n",
              "      <td>7.336882e+14</td>\n",
              "      <td>5630279</td>\n",
              "      <td>F</td>\n",
              "      <td>2016-04-27T15:05:12Z</td>\n",
              "      <td>2016-04-29T00:00:00Z</td>\n",
              "      <td>23</td>\n",
              "      <td>GOIABEIRAS</td>\n",
              "      <td>0</td>\n",
              "      <td>0</td>\n",
              "      <td>0</td>\n",
              "      <td>0</td>\n",
              "      <td>0</td>\n",
              "      <td>0</td>\n",
              "      <td>Yes</td>\n",
              "    </tr>\n",
              "    <tr>\n",
              "      <th>7</th>\n",
              "      <td>3.449833e+12</td>\n",
              "      <td>5630575</td>\n",
              "      <td>F</td>\n",
              "      <td>2016-04-27T15:39:58Z</td>\n",
              "      <td>2016-04-29T00:00:00Z</td>\n",
              "      <td>39</td>\n",
              "      <td>GOIABEIRAS</td>\n",
              "      <td>0</td>\n",
              "      <td>0</td>\n",
              "      <td>0</td>\n",
              "      <td>0</td>\n",
              "      <td>0</td>\n",
              "      <td>0</td>\n",
              "      <td>Yes</td>\n",
              "    </tr>\n",
              "    <tr>\n",
              "      <th>8</th>\n",
              "      <td>5.639473e+13</td>\n",
              "      <td>5638447</td>\n",
              "      <td>F</td>\n",
              "      <td>2016-04-29T08:02:16Z</td>\n",
              "      <td>2016-04-29T00:00:00Z</td>\n",
              "      <td>21</td>\n",
              "      <td>ANDORINHAS</td>\n",
              "      <td>0</td>\n",
              "      <td>0</td>\n",
              "      <td>0</td>\n",
              "      <td>0</td>\n",
              "      <td>0</td>\n",
              "      <td>0</td>\n",
              "      <td>No</td>\n",
              "    </tr>\n",
              "    <tr>\n",
              "      <th>9</th>\n",
              "      <td>7.812456e+13</td>\n",
              "      <td>5629123</td>\n",
              "      <td>F</td>\n",
              "      <td>2016-04-27T12:48:25Z</td>\n",
              "      <td>2016-04-29T00:00:00Z</td>\n",
              "      <td>19</td>\n",
              "      <td>CONQUISTA</td>\n",
              "      <td>0</td>\n",
              "      <td>0</td>\n",
              "      <td>0</td>\n",
              "      <td>0</td>\n",
              "      <td>0</td>\n",
              "      <td>0</td>\n",
              "      <td>No</td>\n",
              "    </tr>\n",
              "  </tbody>\n",
              "</table>\n",
              "</div>"
            ],
            "text/plain": [
              "      PatientId  AppointmentID Gender  ... Handcap SMS_received  No-show\n",
              "0  2.987250e+13        5642903      F  ...       0            0       No\n",
              "1  5.589978e+14        5642503      M  ...       0            0       No\n",
              "2  4.262962e+12        5642549      F  ...       0            0       No\n",
              "3  8.679512e+11        5642828      F  ...       0            0       No\n",
              "4  8.841186e+12        5642494      F  ...       0            0       No\n",
              "5  9.598513e+13        5626772      F  ...       0            0       No\n",
              "6  7.336882e+14        5630279      F  ...       0            0      Yes\n",
              "7  3.449833e+12        5630575      F  ...       0            0      Yes\n",
              "8  5.639473e+13        5638447      F  ...       0            0       No\n",
              "9  7.812456e+13        5629123      F  ...       0            0       No\n",
              "\n",
              "[10 rows x 14 columns]"
            ]
          },
          "metadata": {
            "tags": []
          },
          "execution_count": 5
        }
      ]
    },
    {
      "cell_type": "markdown",
      "metadata": {
        "id": "-PjIjT8eUsJ2"
      },
      "source": [
        "**Quantas instâncias e atributos existem no dataset?**"
      ]
    },
    {
      "cell_type": "code",
      "metadata": {
        "id": "tbnj7HmTQzwt",
        "colab": {
          "base_uri": "https://localhost:8080/"
        },
        "outputId": "3b0628d7-6bec-42ec-8cd0-dc7879001e48"
      },
      "source": [
        "# visualizando as dimensões do dataset\n",
        "df_consultas.shape"
      ],
      "execution_count": 6,
      "outputs": [
        {
          "output_type": "execute_result",
          "data": {
            "text/plain": [
              "(110527, 14)"
            ]
          },
          "metadata": {
            "tags": []
          },
          "execution_count": 6
        }
      ]
    },
    {
      "cell_type": "markdown",
      "metadata": {
        "id": "CazOWSOc1gPv"
      },
      "source": [
        "**Quais os nomes das colunas?**"
      ]
    },
    {
      "cell_type": "code",
      "metadata": {
        "colab": {
          "base_uri": "https://localhost:8080/"
        },
        "id": "sTYWIvkIR6bN",
        "outputId": "2d932456-bf2f-43e0-c21e-157054ebb50f"
      },
      "source": [
        "# nome das colunas\n",
        "df_consultas.columns"
      ],
      "execution_count": 6,
      "outputs": [
        {
          "output_type": "execute_result",
          "data": {
            "text/plain": [
              "Index(['PatientId', 'AppointmentID', 'Gender', 'ScheduledDay',\n",
              "       'AppointmentDay', 'Age', 'Neighbourhood', 'Scholarship', 'Hipertension',\n",
              "       'Diabetes', 'Alcoholism', 'Handcap', 'SMS_received', 'No-show'],\n",
              "      dtype='object')"
            ]
          },
          "metadata": {
            "tags": []
          },
          "execution_count": 6
        }
      ]
    },
    {
      "cell_type": "markdown",
      "metadata": {
        "id": "WS7CYdwL1nT8"
      },
      "source": [
        "`Vamos traduzir o nome das colunas!`"
      ]
    },
    {
      "cell_type": "code",
      "metadata": {
        "id": "DMw4sysNRzFV"
      },
      "source": [
        "# traduzindo o nome das colunas\n",
        "colunas_traduzidas = [\n",
        "                      'Id_paciente',\n",
        "                      'Id_consulta',\n",
        "                      'Gênero',\n",
        "                      'Dia_agendado',\n",
        "                      'Dia_consulta',\n",
        "                      'Idade',\n",
        "                      'Bairro',\n",
        "                      'Bolsa_família',\n",
        "                      'Hipertensão',\n",
        "                      'Diabetes',\n",
        "                      'Alcoolismo',\n",
        "                      'Deficiência',\n",
        "                      'SMS_recebido',\n",
        "                      'Não_comparecimento'\n",
        "]"
      ],
      "execution_count": 7,
      "outputs": []
    },
    {
      "cell_type": "code",
      "metadata": {
        "colab": {
          "base_uri": "https://localhost:8080/"
        },
        "id": "u2ZBOzPKVGEX",
        "outputId": "664469d1-c554-4f47-eae5-2df466391ce8"
      },
      "source": [
        "# condicional para avaliar se a quantidade de colunas no \"df_consultas\" é igual a \"colunas_traduzidas\"\n",
        "len(df_consultas.columns) == len(colunas_traduzidas)"
      ],
      "execution_count": 11,
      "outputs": [
        {
          "output_type": "execute_result",
          "data": {
            "text/plain": [
              "True"
            ]
          },
          "metadata": {
            "tags": []
          },
          "execution_count": 11
        }
      ]
    },
    {
      "cell_type": "code",
      "metadata": {
        "colab": {
          "base_uri": "https://localhost:8080/",
          "height": 377
        },
        "id": "FJkF_b-YVlc6",
        "outputId": "29a240c5-8cfe-4a8a-8422-5f6bbe2f8aa7"
      },
      "source": [
        "# carregando novamente o conjunto de dados com as colunas traduzidas\n",
        "df_consultas = pd.read_csv('KaggleV2-May-2016.csv',\n",
        "                       names=colunas_traduzidas, \n",
        "                       skiprows=1)\n",
        "\n",
        "df_consultas.head()   # visualizando as 5 primeiras linhas"
      ],
      "execution_count": 8,
      "outputs": [
        {
          "output_type": "execute_result",
          "data": {
            "text/html": [
              "<div>\n",
              "<style scoped>\n",
              "    .dataframe tbody tr th:only-of-type {\n",
              "        vertical-align: middle;\n",
              "    }\n",
              "\n",
              "    .dataframe tbody tr th {\n",
              "        vertical-align: top;\n",
              "    }\n",
              "\n",
              "    .dataframe thead th {\n",
              "        text-align: right;\n",
              "    }\n",
              "</style>\n",
              "<table border=\"1\" class=\"dataframe\">\n",
              "  <thead>\n",
              "    <tr style=\"text-align: right;\">\n",
              "      <th></th>\n",
              "      <th>Id_paciente</th>\n",
              "      <th>Id_consulta</th>\n",
              "      <th>Gênero</th>\n",
              "      <th>Dia_agendado</th>\n",
              "      <th>Dia_consulta</th>\n",
              "      <th>Idade</th>\n",
              "      <th>Bairro</th>\n",
              "      <th>Bolsa_família</th>\n",
              "      <th>Hipertensão</th>\n",
              "      <th>Diabetes</th>\n",
              "      <th>Alcoolismo</th>\n",
              "      <th>Deficiência</th>\n",
              "      <th>SMS_recebido</th>\n",
              "      <th>Não_comparecimento</th>\n",
              "    </tr>\n",
              "  </thead>\n",
              "  <tbody>\n",
              "    <tr>\n",
              "      <th>0</th>\n",
              "      <td>2.987250e+13</td>\n",
              "      <td>5642903</td>\n",
              "      <td>F</td>\n",
              "      <td>2016-04-29T18:38:08Z</td>\n",
              "      <td>2016-04-29T00:00:00Z</td>\n",
              "      <td>62</td>\n",
              "      <td>JARDIM DA PENHA</td>\n",
              "      <td>0</td>\n",
              "      <td>1</td>\n",
              "      <td>0</td>\n",
              "      <td>0</td>\n",
              "      <td>0</td>\n",
              "      <td>0</td>\n",
              "      <td>No</td>\n",
              "    </tr>\n",
              "    <tr>\n",
              "      <th>1</th>\n",
              "      <td>5.589978e+14</td>\n",
              "      <td>5642503</td>\n",
              "      <td>M</td>\n",
              "      <td>2016-04-29T16:08:27Z</td>\n",
              "      <td>2016-04-29T00:00:00Z</td>\n",
              "      <td>56</td>\n",
              "      <td>JARDIM DA PENHA</td>\n",
              "      <td>0</td>\n",
              "      <td>0</td>\n",
              "      <td>0</td>\n",
              "      <td>0</td>\n",
              "      <td>0</td>\n",
              "      <td>0</td>\n",
              "      <td>No</td>\n",
              "    </tr>\n",
              "    <tr>\n",
              "      <th>2</th>\n",
              "      <td>4.262962e+12</td>\n",
              "      <td>5642549</td>\n",
              "      <td>F</td>\n",
              "      <td>2016-04-29T16:19:04Z</td>\n",
              "      <td>2016-04-29T00:00:00Z</td>\n",
              "      <td>62</td>\n",
              "      <td>MATA DA PRAIA</td>\n",
              "      <td>0</td>\n",
              "      <td>0</td>\n",
              "      <td>0</td>\n",
              "      <td>0</td>\n",
              "      <td>0</td>\n",
              "      <td>0</td>\n",
              "      <td>No</td>\n",
              "    </tr>\n",
              "    <tr>\n",
              "      <th>3</th>\n",
              "      <td>8.679512e+11</td>\n",
              "      <td>5642828</td>\n",
              "      <td>F</td>\n",
              "      <td>2016-04-29T17:29:31Z</td>\n",
              "      <td>2016-04-29T00:00:00Z</td>\n",
              "      <td>8</td>\n",
              "      <td>PONTAL DE CAMBURI</td>\n",
              "      <td>0</td>\n",
              "      <td>0</td>\n",
              "      <td>0</td>\n",
              "      <td>0</td>\n",
              "      <td>0</td>\n",
              "      <td>0</td>\n",
              "      <td>No</td>\n",
              "    </tr>\n",
              "    <tr>\n",
              "      <th>4</th>\n",
              "      <td>8.841186e+12</td>\n",
              "      <td>5642494</td>\n",
              "      <td>F</td>\n",
              "      <td>2016-04-29T16:07:23Z</td>\n",
              "      <td>2016-04-29T00:00:00Z</td>\n",
              "      <td>56</td>\n",
              "      <td>JARDIM DA PENHA</td>\n",
              "      <td>0</td>\n",
              "      <td>1</td>\n",
              "      <td>1</td>\n",
              "      <td>0</td>\n",
              "      <td>0</td>\n",
              "      <td>0</td>\n",
              "      <td>No</td>\n",
              "    </tr>\n",
              "  </tbody>\n",
              "</table>\n",
              "</div>"
            ],
            "text/plain": [
              "    Id_paciente  Id_consulta  ... SMS_recebido Não_comparecimento\n",
              "0  2.987250e+13      5642903  ...            0                 No\n",
              "1  5.589978e+14      5642503  ...            0                 No\n",
              "2  4.262962e+12      5642549  ...            0                 No\n",
              "3  8.679512e+11      5642828  ...            0                 No\n",
              "4  8.841186e+12      5642494  ...            0                 No\n",
              "\n",
              "[5 rows x 14 columns]"
            ]
          },
          "metadata": {
            "tags": []
          },
          "execution_count": 8
        }
      ]
    },
    {
      "cell_type": "code",
      "metadata": {
        "id": "ekhL7jp4QzzF",
        "colab": {
          "base_uri": "https://localhost:8080/"
        },
        "outputId": "409768f1-76f9-413d-fb81-afe633a7380f"
      },
      "source": [
        "# visualizando as \"características\" da base de dados\n",
        "df_consultas.info()"
      ],
      "execution_count": 430,
      "outputs": [
        {
          "output_type": "stream",
          "text": [
            "<class 'pandas.core.frame.DataFrame'>\n",
            "RangeIndex: 110527 entries, 0 to 110526\n",
            "Data columns (total 14 columns):\n",
            " #   Column              Non-Null Count   Dtype  \n",
            "---  ------              --------------   -----  \n",
            " 0   Id_paciente         110527 non-null  float64\n",
            " 1   Id_consulta         110527 non-null  int64  \n",
            " 2   Gênero              110527 non-null  object \n",
            " 3   Dia_agendado        110527 non-null  object \n",
            " 4   Dia_consulta        110527 non-null  object \n",
            " 5   Idade               110527 non-null  int64  \n",
            " 6   Bairro              110527 non-null  object \n",
            " 7   Bolsa_família       110527 non-null  int64  \n",
            " 8   Hipertensão         110527 non-null  int64  \n",
            " 9   Diabetes            110527 non-null  int64  \n",
            " 10  Alcoolismo          110527 non-null  int64  \n",
            " 11  Deficiência         110527 non-null  int64  \n",
            " 12  SMS_recebido        110527 non-null  int64  \n",
            " 13  Não_comparecimento  110527 non-null  object \n",
            "dtypes: float64(1), int64(8), object(5)\n",
            "memory usage: 11.8+ MB\n"
          ],
          "name": "stdout"
        }
      ]
    },
    {
      "cell_type": "markdown",
      "metadata": {
        "id": "XUQfrD74U-P6"
      },
      "source": [
        "**Existem valores nulos?**"
      ]
    },
    {
      "cell_type": "code",
      "metadata": {
        "id": "lKOaS6BcQz1e",
        "colab": {
          "base_uri": "https://localhost:8080/"
        },
        "outputId": "21230ffa-a389-4095-be43-287b04d6d54f"
      },
      "source": [
        "# contabilizando a quantidade de valores nulos\n",
        "df_consultas.isnull().sum()"
      ],
      "execution_count": 431,
      "outputs": [
        {
          "output_type": "execute_result",
          "data": {
            "text/plain": [
              "Id_paciente           0\n",
              "Id_consulta           0\n",
              "Gênero                0\n",
              "Dia_agendado          0\n",
              "Dia_consulta          0\n",
              "Idade                 0\n",
              "Bairro                0\n",
              "Bolsa_família         0\n",
              "Hipertensão           0\n",
              "Diabetes              0\n",
              "Alcoolismo            0\n",
              "Deficiência           0\n",
              "SMS_recebido          0\n",
              "Não_comparecimento    0\n",
              "dtype: int64"
            ]
          },
          "metadata": {
            "tags": []
          },
          "execution_count": 431
        }
      ]
    },
    {
      "cell_type": "markdown",
      "metadata": {
        "id": "FL4sI0aw17Fm"
      },
      "source": [
        "**Quantos pacientes não compareceram à consulta?**"
      ]
    },
    {
      "cell_type": "code",
      "metadata": {
        "id": "D2ZWAz8zpaws",
        "colab": {
          "base_uri": "https://localhost:8080/"
        },
        "outputId": "f8e3dbc7-4604-4c4e-b19f-e18683160edf"
      },
      "source": [
        "df_consultas['Não_comparecimento'].value_counts() # \"No\" o paciente compareceu / \"Yes\" o paciente não compareceu"
      ],
      "execution_count": 432,
      "outputs": [
        {
          "output_type": "execute_result",
          "data": {
            "text/plain": [
              "No     88208\n",
              "Yes    22319\n",
              "Name: Não_comparecimento, dtype: int64"
            ]
          },
          "metadata": {
            "tags": []
          },
          "execution_count": 432
        }
      ]
    },
    {
      "cell_type": "code",
      "metadata": {
        "colab": {
          "base_uri": "https://localhost:8080/"
        },
        "id": "1aApeapTMWw-",
        "outputId": "92ac6840-e268-4be2-e5c9-147999c0204c"
      },
      "source": [
        "# proporção de pacientes que não compareceu a consulta com o total de consultas\n",
        "# print(df_consultas[\"No-show\"].value_counts()) \n",
        "# print('')\n",
        "print((df_consultas['Não_comparecimento'].value_counts()) / df_consultas.shape[0]*100)"
      ],
      "execution_count": 433,
      "outputs": [
        {
          "output_type": "stream",
          "text": [
            "No     79.806744\n",
            "Yes    20.193256\n",
            "Name: Não_comparecimento, dtype: float64\n"
          ],
          "name": "stdout"
        }
      ]
    },
    {
      "cell_type": "code",
      "metadata": {
        "colab": {
          "base_uri": "https://localhost:8080/"
        },
        "id": "cKVN7qH8ONJi",
        "outputId": "a60868b0-482a-4790-a801-7cf8a5cec703"
      },
      "source": [
        "presente = (df_consultas['Não_comparecimento']).value_counts(True)*100\n",
        "print(f'Não faltou a consulta: {(presente[0]):.0f}%')\n",
        "print(f'Faltou a consulta: {(presente[1]):.0f}%')"
      ],
      "execution_count": 434,
      "outputs": [
        {
          "output_type": "stream",
          "text": [
            "Não faltou a consulta: 80%\n",
            "Faltou a consulta: 20%\n"
          ],
          "name": "stdout"
        }
      ]
    },
    {
      "cell_type": "code",
      "metadata": {
        "id": "E9Mt5JvmSX7N",
        "colab": {
          "base_uri": "https://localhost:8080/"
        },
        "outputId": "d7234372-3a3d-4fc2-b8d8-5d797ce30c43"
      },
      "source": [
        "# total geral de comparecimento e não comparecimento\n",
        "len(df_consultas['Não_comparecimento'])"
      ],
      "execution_count": 435,
      "outputs": [
        {
          "output_type": "execute_result",
          "data": {
            "text/plain": [
              "110527"
            ]
          },
          "metadata": {
            "tags": []
          },
          "execution_count": 435
        }
      ]
    },
    {
      "cell_type": "markdown",
      "metadata": {
        "id": "7Xs3wiCM25HA"
      },
      "source": [
        "**Quantos pacientes receberam ou não o SMS?**"
      ]
    },
    {
      "cell_type": "code",
      "metadata": {
        "id": "Lnzmmz4jNluf",
        "colab": {
          "base_uri": "https://localhost:8080/"
        },
        "outputId": "bb86d85b-3c7b-4ef2-b460-4fa0a50ce469"
      },
      "source": [
        "df_consultas.SMS_recebido.value_counts() # 0 não recebeu / 1 recebeu"
      ],
      "execution_count": 436,
      "outputs": [
        {
          "output_type": "execute_result",
          "data": {
            "text/plain": [
              "0    75045\n",
              "1    35482\n",
              "Name: SMS_recebido, dtype: int64"
            ]
          },
          "metadata": {
            "tags": []
          },
          "execution_count": 436
        }
      ]
    },
    {
      "cell_type": "code",
      "metadata": {
        "id": "hKFNsQI3XtKD"
      },
      "source": [
        "# df_consultas['SMS_recebido'].value_counts() # 0 não recebeu / 1 recebeu"
      ],
      "execution_count": 438,
      "outputs": []
    },
    {
      "cell_type": "code",
      "metadata": {
        "id": "mye_w8pVBm_z",
        "colab": {
          "base_uri": "https://localhost:8080/"
        },
        "outputId": "a53c55f2-542d-4c37-fea6-ab2f01af8c31"
      },
      "source": [
        "df_consultas['Não_comparecimento'].value_counts()['No']/len(df_consultas)"
      ],
      "execution_count": 439,
      "outputs": [
        {
          "output_type": "execute_result",
          "data": {
            "text/plain": [
              "0.798067440534892"
            ]
          },
          "metadata": {
            "tags": []
          },
          "execution_count": 439
        }
      ]
    },
    {
      "cell_type": "code",
      "metadata": {
        "id": "-nDYvwDfKYO9",
        "colab": {
          "base_uri": "https://localhost:8080/"
        },
        "outputId": "b9c8d8a0-68b8-4888-b2fd-6bd3353c1288"
      },
      "source": [
        "df_consultas['Não_comparecimento'].value_counts()['No']"
      ],
      "execution_count": 440,
      "outputs": [
        {
          "output_type": "execute_result",
          "data": {
            "text/plain": [
              "88208"
            ]
          },
          "metadata": {
            "tags": []
          },
          "execution_count": 440
        }
      ]
    },
    {
      "cell_type": "code",
      "metadata": {
        "id": "22e1rBC8Qz3v",
        "colab": {
          "base_uri": "https://localhost:8080/",
          "height": 297
        },
        "outputId": "b5a4d444-fb7d-46b6-a7ab-30e4b502639b"
      },
      "source": [
        "#analisando as \"estatísticas do dataset\"\n",
        "df_consultas.describe()"
      ],
      "execution_count": 441,
      "outputs": [
        {
          "output_type": "execute_result",
          "data": {
            "text/html": [
              "<div>\n",
              "<style scoped>\n",
              "    .dataframe tbody tr th:only-of-type {\n",
              "        vertical-align: middle;\n",
              "    }\n",
              "\n",
              "    .dataframe tbody tr th {\n",
              "        vertical-align: top;\n",
              "    }\n",
              "\n",
              "    .dataframe thead th {\n",
              "        text-align: right;\n",
              "    }\n",
              "</style>\n",
              "<table border=\"1\" class=\"dataframe\">\n",
              "  <thead>\n",
              "    <tr style=\"text-align: right;\">\n",
              "      <th></th>\n",
              "      <th>Id_paciente</th>\n",
              "      <th>Id_consulta</th>\n",
              "      <th>Idade</th>\n",
              "      <th>Bolsa_família</th>\n",
              "      <th>Hipertensão</th>\n",
              "      <th>Diabetes</th>\n",
              "      <th>Alcoolismo</th>\n",
              "      <th>Deficiência</th>\n",
              "      <th>SMS_recebido</th>\n",
              "    </tr>\n",
              "  </thead>\n",
              "  <tbody>\n",
              "    <tr>\n",
              "      <th>count</th>\n",
              "      <td>1.105270e+05</td>\n",
              "      <td>1.105270e+05</td>\n",
              "      <td>110527.000000</td>\n",
              "      <td>110527.000000</td>\n",
              "      <td>110527.000000</td>\n",
              "      <td>110527.000000</td>\n",
              "      <td>110527.000000</td>\n",
              "      <td>110527.000000</td>\n",
              "      <td>110527.000000</td>\n",
              "    </tr>\n",
              "    <tr>\n",
              "      <th>mean</th>\n",
              "      <td>1.474963e+14</td>\n",
              "      <td>5.675305e+06</td>\n",
              "      <td>37.088874</td>\n",
              "      <td>0.098266</td>\n",
              "      <td>0.197246</td>\n",
              "      <td>0.071865</td>\n",
              "      <td>0.030400</td>\n",
              "      <td>0.022248</td>\n",
              "      <td>0.321026</td>\n",
              "    </tr>\n",
              "    <tr>\n",
              "      <th>std</th>\n",
              "      <td>2.560949e+14</td>\n",
              "      <td>7.129575e+04</td>\n",
              "      <td>23.110205</td>\n",
              "      <td>0.297675</td>\n",
              "      <td>0.397921</td>\n",
              "      <td>0.258265</td>\n",
              "      <td>0.171686</td>\n",
              "      <td>0.161543</td>\n",
              "      <td>0.466873</td>\n",
              "    </tr>\n",
              "    <tr>\n",
              "      <th>min</th>\n",
              "      <td>3.921784e+04</td>\n",
              "      <td>5.030230e+06</td>\n",
              "      <td>-1.000000</td>\n",
              "      <td>0.000000</td>\n",
              "      <td>0.000000</td>\n",
              "      <td>0.000000</td>\n",
              "      <td>0.000000</td>\n",
              "      <td>0.000000</td>\n",
              "      <td>0.000000</td>\n",
              "    </tr>\n",
              "    <tr>\n",
              "      <th>25%</th>\n",
              "      <td>4.172614e+12</td>\n",
              "      <td>5.640286e+06</td>\n",
              "      <td>18.000000</td>\n",
              "      <td>0.000000</td>\n",
              "      <td>0.000000</td>\n",
              "      <td>0.000000</td>\n",
              "      <td>0.000000</td>\n",
              "      <td>0.000000</td>\n",
              "      <td>0.000000</td>\n",
              "    </tr>\n",
              "    <tr>\n",
              "      <th>50%</th>\n",
              "      <td>3.173184e+13</td>\n",
              "      <td>5.680573e+06</td>\n",
              "      <td>37.000000</td>\n",
              "      <td>0.000000</td>\n",
              "      <td>0.000000</td>\n",
              "      <td>0.000000</td>\n",
              "      <td>0.000000</td>\n",
              "      <td>0.000000</td>\n",
              "      <td>0.000000</td>\n",
              "    </tr>\n",
              "    <tr>\n",
              "      <th>75%</th>\n",
              "      <td>9.439172e+13</td>\n",
              "      <td>5.725524e+06</td>\n",
              "      <td>55.000000</td>\n",
              "      <td>0.000000</td>\n",
              "      <td>0.000000</td>\n",
              "      <td>0.000000</td>\n",
              "      <td>0.000000</td>\n",
              "      <td>0.000000</td>\n",
              "      <td>1.000000</td>\n",
              "    </tr>\n",
              "    <tr>\n",
              "      <th>max</th>\n",
              "      <td>9.999816e+14</td>\n",
              "      <td>5.790484e+06</td>\n",
              "      <td>115.000000</td>\n",
              "      <td>1.000000</td>\n",
              "      <td>1.000000</td>\n",
              "      <td>1.000000</td>\n",
              "      <td>1.000000</td>\n",
              "      <td>4.000000</td>\n",
              "      <td>1.000000</td>\n",
              "    </tr>\n",
              "  </tbody>\n",
              "</table>\n",
              "</div>"
            ],
            "text/plain": [
              "        Id_paciente   Id_consulta  ...    Deficiência   SMS_recebido\n",
              "count  1.105270e+05  1.105270e+05  ...  110527.000000  110527.000000\n",
              "mean   1.474963e+14  5.675305e+06  ...       0.022248       0.321026\n",
              "std    2.560949e+14  7.129575e+04  ...       0.161543       0.466873\n",
              "min    3.921784e+04  5.030230e+06  ...       0.000000       0.000000\n",
              "25%    4.172614e+12  5.640286e+06  ...       0.000000       0.000000\n",
              "50%    3.173184e+13  5.680573e+06  ...       0.000000       0.000000\n",
              "75%    9.439172e+13  5.725524e+06  ...       0.000000       1.000000\n",
              "max    9.999816e+14  5.790484e+06  ...       4.000000       1.000000\n",
              "\n",
              "[8 rows x 9 columns]"
            ]
          },
          "metadata": {
            "tags": []
          },
          "execution_count": 441
        }
      ]
    },
    {
      "cell_type": "markdown",
      "metadata": {
        "id": "Fblo03b6VDcw"
      },
      "source": [
        "**Qual é a idade média dos pacientes?**"
      ]
    },
    {
      "cell_type": "code",
      "metadata": {
        "colab": {
          "base_uri": "https://localhost:8080/"
        },
        "id": "vR8-24Ay2hkF",
        "outputId": "08bc7945-2340-4d67-b215-da5b57cf9a1d"
      },
      "source": [
        "# idade média dos pacientes\n",
        "df_consultas.Idade.mean()"
      ],
      "execution_count": 442,
      "outputs": [
        {
          "output_type": "execute_result",
          "data": {
            "text/plain": [
              "37.08887421173107"
            ]
          },
          "metadata": {
            "tags": []
          },
          "execution_count": 442
        }
      ]
    },
    {
      "cell_type": "markdown",
      "metadata": {
        "id": "TqMOkKRY3TZX"
      },
      "source": [
        "**Qual o paciente mais novo e de maior idade?**"
      ]
    },
    {
      "cell_type": "code",
      "metadata": {
        "colab": {
          "base_uri": "https://localhost:8080/"
        },
        "id": "7oKSSGLJ3dsT",
        "outputId": "3c56f42c-3acd-407f-9881-f0cf4969111d"
      },
      "source": [
        "print(f'Paciente de maior idade: {df_consultas.Idade.max()}')\n",
        "print(f'Paciente de menor idade: {df_consultas.Idade.min()}')"
      ],
      "execution_count": 443,
      "outputs": [
        {
          "output_type": "stream",
          "text": [
            "Paciente de maior idade: 115\n",
            "Paciente de menor idade: -1\n"
          ],
          "name": "stdout"
        }
      ]
    },
    {
      "cell_type": "code",
      "metadata": {
        "id": "iR_inFPSQz6H",
        "colab": {
          "base_uri": "https://localhost:8080/"
        },
        "outputId": "20517a5a-32df-4cdb-c7cc-72f96750f8ca"
      },
      "source": [
        "# contando a quantidade de valores distintos em cada uma das colunas\n",
        "for colunas in list(df_consultas.columns):\n",
        "  print( \"{0:25} {1}\".format(colunas, df_consultas[colunas].nunique()) )"
      ],
      "execution_count": 444,
      "outputs": [
        {
          "output_type": "stream",
          "text": [
            "Id_paciente               62299\n",
            "Id_consulta               110527\n",
            "Gênero                    2\n",
            "Dia_agendado              103549\n",
            "Dia_consulta              27\n",
            "Idade                     104\n",
            "Bairro                    81\n",
            "Bolsa_família             2\n",
            "Hipertensão               2\n",
            "Diabetes                  2\n",
            "Alcoolismo                2\n",
            "Deficiência               5\n",
            "SMS_recebido              2\n",
            "Não_comparecimento        2\n"
          ],
          "name": "stdout"
        }
      ]
    },
    {
      "cell_type": "markdown",
      "metadata": {
        "id": "JnJfL4-DVLR-"
      },
      "source": [
        "**Em quantas localidades diferentes (Bairro) os pacientes residem?**"
      ]
    },
    {
      "cell_type": "code",
      "metadata": {
        "colab": {
          "base_uri": "https://localhost:8080/"
        },
        "id": "MohdQ3yI3FwA",
        "outputId": "e35764c7-0c12-4ca4-a97f-d8e825afd610"
      },
      "source": [
        "df_consultas.Bairro.unique()"
      ],
      "execution_count": 446,
      "outputs": [
        {
          "output_type": "execute_result",
          "data": {
            "text/plain": [
              "array(['JARDIM DA PENHA', 'MATA DA PRAIA', 'PONTAL DE CAMBURI',\n",
              "       'REPÚBLICA', 'GOIABEIRAS', 'ANDORINHAS', 'CONQUISTA',\n",
              "       'NOVA PALESTINA', 'DA PENHA', 'TABUAZEIRO', 'BENTO FERREIRA',\n",
              "       'SÃO PEDRO', 'SANTA MARTHA', 'SÃO CRISTÓVÃO', 'MARUÍPE',\n",
              "       'GRANDE VITÓRIA', 'SÃO BENEDITO', 'ILHA DAS CAIEIRAS',\n",
              "       'SANTO ANDRÉ', 'SOLON BORGES', 'BONFIM', 'JARDIM CAMBURI',\n",
              "       'MARIA ORTIZ', 'JABOUR', 'ANTÔNIO HONÓRIO', 'RESISTÊNCIA',\n",
              "       'ILHA DE SANTA MARIA', 'JUCUTUQUARA', 'MONTE BELO',\n",
              "       'MÁRIO CYPRESTE', 'SANTO ANTÔNIO', 'BELA VISTA', 'PRAIA DO SUÁ',\n",
              "       'SANTA HELENA', 'ITARARÉ', 'INHANGUETÁ', 'UNIVERSITÁRIO',\n",
              "       'SÃO JOSÉ', 'REDENÇÃO', 'SANTA CLARA', 'CENTRO', 'PARQUE MOSCOSO',\n",
              "       'DO MOSCOSO', 'SANTOS DUMONT', 'CARATOÍRA', 'ARIOVALDO FAVALESSA',\n",
              "       'ILHA DO FRADE', 'GURIGICA', 'JOANA D´ARC', 'CONSOLAÇÃO',\n",
              "       'PRAIA DO CANTO', 'BOA VISTA', 'MORADA DE CAMBURI', 'SANTA LUÍZA',\n",
              "       'SANTA LÚCIA', 'BARRO VERMELHO', 'ESTRELINHA', 'FORTE SÃO JOÃO',\n",
              "       'FONTE GRANDE', 'ENSEADA DO SUÁ', 'SANTOS REIS', 'PIEDADE',\n",
              "       'JESUS DE NAZARETH', 'SANTA TEREZA', 'CRUZAMENTO',\n",
              "       'ILHA DO PRÍNCIPE', 'ROMÃO', 'COMDUSA', 'SANTA CECÍLIA',\n",
              "       'VILA RUBIM', 'DE LOURDES', 'DO QUADRO', 'DO CABRAL', 'HORTO',\n",
              "       'SEGURANÇA DO LAR', 'ILHA DO BOI', 'FRADINHOS', 'NAZARETH',\n",
              "       'AEROPORTO', 'ILHAS OCEÂNICAS DE TRINDADE', 'PARQUE INDUSTRIAL'],\n",
              "      dtype=object)"
            ]
          },
          "metadata": {
            "tags": []
          },
          "execution_count": 446
        }
      ]
    },
    {
      "cell_type": "code",
      "metadata": {
        "colab": {
          "base_uri": "https://localhost:8080/"
        },
        "id": "KWMWhP4zYUx5",
        "outputId": "6cbd50fa-ada7-4ca1-d9ca-3b3653d51fa3"
      },
      "source": [
        "for i in df_consultas.Bairro.unique():\n",
        "  print(i)"
      ],
      "execution_count": 447,
      "outputs": [
        {
          "output_type": "stream",
          "text": [
            "JARDIM DA PENHA\n",
            "MATA DA PRAIA\n",
            "PONTAL DE CAMBURI\n",
            "REPÚBLICA\n",
            "GOIABEIRAS\n",
            "ANDORINHAS\n",
            "CONQUISTA\n",
            "NOVA PALESTINA\n",
            "DA PENHA\n",
            "TABUAZEIRO\n",
            "BENTO FERREIRA\n",
            "SÃO PEDRO\n",
            "SANTA MARTHA\n",
            "SÃO CRISTÓVÃO\n",
            "MARUÍPE\n",
            "GRANDE VITÓRIA\n",
            "SÃO BENEDITO\n",
            "ILHA DAS CAIEIRAS\n",
            "SANTO ANDRÉ\n",
            "SOLON BORGES\n",
            "BONFIM\n",
            "JARDIM CAMBURI\n",
            "MARIA ORTIZ\n",
            "JABOUR\n",
            "ANTÔNIO HONÓRIO\n",
            "RESISTÊNCIA\n",
            "ILHA DE SANTA MARIA\n",
            "JUCUTUQUARA\n",
            "MONTE BELO\n",
            "MÁRIO CYPRESTE\n",
            "SANTO ANTÔNIO\n",
            "BELA VISTA\n",
            "PRAIA DO SUÁ\n",
            "SANTA HELENA\n",
            "ITARARÉ\n",
            "INHANGUETÁ\n",
            "UNIVERSITÁRIO\n",
            "SÃO JOSÉ\n",
            "REDENÇÃO\n",
            "SANTA CLARA\n",
            "CENTRO\n",
            "PARQUE MOSCOSO\n",
            "DO MOSCOSO\n",
            "SANTOS DUMONT\n",
            "CARATOÍRA\n",
            "ARIOVALDO FAVALESSA\n",
            "ILHA DO FRADE\n",
            "GURIGICA\n",
            "JOANA D´ARC\n",
            "CONSOLAÇÃO\n",
            "PRAIA DO CANTO\n",
            "BOA VISTA\n",
            "MORADA DE CAMBURI\n",
            "SANTA LUÍZA\n",
            "SANTA LÚCIA\n",
            "BARRO VERMELHO\n",
            "ESTRELINHA\n",
            "FORTE SÃO JOÃO\n",
            "FONTE GRANDE\n",
            "ENSEADA DO SUÁ\n",
            "SANTOS REIS\n",
            "PIEDADE\n",
            "JESUS DE NAZARETH\n",
            "SANTA TEREZA\n",
            "CRUZAMENTO\n",
            "ILHA DO PRÍNCIPE\n",
            "ROMÃO\n",
            "COMDUSA\n",
            "SANTA CECÍLIA\n",
            "VILA RUBIM\n",
            "DE LOURDES\n",
            "DO QUADRO\n",
            "DO CABRAL\n",
            "HORTO\n",
            "SEGURANÇA DO LAR\n",
            "ILHA DO BOI\n",
            "FRADINHOS\n",
            "NAZARETH\n",
            "AEROPORTO\n",
            "ILHAS OCEÂNICAS DE TRINDADE\n",
            "PARQUE INDUSTRIAL\n"
          ],
          "name": "stdout"
        }
      ]
    },
    {
      "cell_type": "code",
      "metadata": {
        "colab": {
          "base_uri": "https://localhost:8080/"
        },
        "id": "qOQVGGRy3Ncd",
        "outputId": "51d1c019-0838-4b54-e899-a19344f4eaf3"
      },
      "source": [
        "print(f'Total de bairros: {len(df_consultas.Bairro.value_counts())}')"
      ],
      "execution_count": 448,
      "outputs": [
        {
          "output_type": "stream",
          "text": [
            "Total de bairros: 81\n"
          ],
          "name": "stdout"
        }
      ]
    },
    {
      "cell_type": "markdown",
      "metadata": {
        "id": "iq2dTj5wVjnN"
      },
      "source": [
        "**Comparando a identificação do paciente (Id_paciente) com o número dos agendamentos das consultas (Id_consultas).**\n",
        " - O que podemos inferir?"
      ]
    },
    {
      "cell_type": "code",
      "metadata": {
        "colab": {
          "base_uri": "https://localhost:8080/"
        },
        "id": "SEVTMFZ04PJF",
        "outputId": "3f95b699-e66e-4224-9ed4-d9d72c05e66f"
      },
      "source": [
        "print(len(df_consultas.Id_paciente.unique()))\n",
        "print(len(df_consultas.Id_consulta.unique()))"
      ],
      "execution_count": 449,
      "outputs": [
        {
          "output_type": "stream",
          "text": [
            "62299\n",
            "110527\n"
          ],
          "name": "stdout"
        }
      ]
    },
    {
      "cell_type": "code",
      "metadata": {
        "colab": {
          "base_uri": "https://localhost:8080/"
        },
        "id": "O6ofYrfjD8Vt",
        "outputId": "a9d1f7df-41e3-4f8f-c91c-58df737e0764"
      },
      "source": [
        "total_pacientes = len(df_consultas.Id_paciente.unique())\n",
        "total_consultas = len(df_consultas.Id_consulta.unique())\n",
        "\n",
        "print(f'Média de consultas por paciente: {(total_consultas / total_pacientes):.1f}')"
      ],
      "execution_count": 450,
      "outputs": [
        {
          "output_type": "stream",
          "text": [
            "Média de consultas por paciente: 1.8\n"
          ],
          "name": "stdout"
        }
      ]
    },
    {
      "cell_type": "markdown",
      "metadata": {
        "id": "pqC9jRPo48C0"
      },
      "source": [
        "- Podemos inferir que, pelo menos mais de uma consulta passou o paciente "
      ]
    },
    {
      "cell_type": "code",
      "metadata": {
        "colab": {
          "base_uri": "https://localhost:8080/",
          "height": 584
        },
        "id": "qjf7q27GDvkU",
        "outputId": "fd1c3c23-0d95-4b94-b54b-14aa9b5e465a"
      },
      "source": [
        "plt.figure(figsize=(12,9))\n",
        "categorias = ['Pacientes', 'Consultas']\n",
        "valores = [total_pacientes, total_consultas]\n",
        "plt.bar(categorias,valores)\n",
        "plt.xlabel('Grupos')\n",
        "plt.ylabel('Quantidade')\n",
        "plt.title('Total de pacientes Vs Total de consultas')\n",
        "plt.show()"
      ],
      "execution_count": 451,
      "outputs": [
        {
          "output_type": "display_data",
          "data": {
            "image/png": "[encoded data removed]",
            "text/plain": [
              "<Figure size 864x648 with 1 Axes>"
            ]
          },
          "metadata": {
            "tags": []
          }
        }
      ]
    },
    {
      "cell_type": "markdown",
      "metadata": {
        "id": "ftVBVk8eWg9I"
      },
      "source": [
        "**Quantas variáveis binárias (apenas dois valores) existem no dataset?**"
      ]
    },
    {
      "cell_type": "code",
      "metadata": {
        "id": "QRq7Q_ktabJ7",
        "colab": {
          "base_uri": "https://localhost:8080/"
        },
        "outputId": "fefeaeff-6033-4a15-961a-471184a14839"
      },
      "source": [
        "# contando quantas idades diferentes existem no df\n",
        "df_consultas['Idade'].unique()"
      ],
      "execution_count": 452,
      "outputs": [
        {
          "output_type": "execute_result",
          "data": {
            "text/plain": [
              "array([ 62,  56,   8,  76,  23,  39,  21,  19,  30,  29,  22,  28,  54,\n",
              "        15,  50,  40,  46,   4,  13,  65,  45,  51,  32,  12,  61,  38,\n",
              "        79,  18,  63,  64,  85,  59,  55,  71,  49,  78,  31,  58,  27,\n",
              "         6,   2,  11,   7,   0,   3,   1,  69,  68,  60,  67,  36,  10,\n",
              "        35,  20,  26,  34,  33,  16,  42,   5,  47,  17,  41,  44,  37,\n",
              "        24,  66,  77,  81,  70,  53,  75,  73,  52,  74,  43,  89,  57,\n",
              "        14,   9,  48,  83,  72,  25,  80,  87,  88,  84,  82,  90,  94,\n",
              "        86,  91,  98,  92,  96,  93,  95,  97, 102, 115, 100,  99,  -1])"
            ]
          },
          "metadata": {
            "tags": []
          },
          "execution_count": 452
        }
      ]
    },
    {
      "cell_type": "code",
      "metadata": {
        "colab": {
          "base_uri": "https://localhost:8080/"
        },
        "id": "_rLqWMX95DZv",
        "outputId": "b771f52e-ff47-43b3-a513-92118edf687b"
      },
      "source": [
        "# totalizando os valores da idade diferentes existem no df\n",
        "df_consultas['Idade'].value_counts().count()"
      ],
      "execution_count": 453,
      "outputs": [
        {
          "output_type": "execute_result",
          "data": {
            "text/plain": [
              "104"
            ]
          },
          "metadata": {
            "tags": []
          },
          "execution_count": 453
        }
      ]
    },
    {
      "cell_type": "code",
      "metadata": {
        "id": "my4mZQH8Qz8Q"
      },
      "source": [
        "# plotando o histograma de algumas variáveis \n",
        "# df_consultas['Idade'].hist(bins=len(df_consultas['Idade'].unique()));"
      ],
      "execution_count": 51,
      "outputs": []
    },
    {
      "cell_type": "code",
      "metadata": {
        "colab": {
          "base_uri": "https://localhost:8080/",
          "height": 711
        },
        "id": "uKKkaBA0aeJ0",
        "outputId": "f0dbfe44-b7dc-415f-9be5-4039d31aad83"
      },
      "source": [
        "# plotando o histograma da idade\n",
        "plt.figure(figsize=(18,12))\n",
        "df_consultas['Idade'].hist(bins=len(df_consultas['Idade'].unique()));"
      ],
      "execution_count": 454,
      "outputs": [
        {
          "output_type": "display_data",
          "data": {
            "image/png": "[encoded data removed]",
            "text/plain": [
              "<Figure size 1296x864 with 1 Axes>"
            ]
          },
          "metadata": {
            "tags": []
          }
        }
      ]
    },
    {
      "cell_type": "code",
      "metadata": {
        "colab": {
          "base_uri": "https://localhost:8080/",
          "height": 747
        },
        "id": "qWA4d6DV7K5S",
        "outputId": "ac9bba2d-e5e9-40a5-d53f-2bfaffd3c1bf"
      },
      "source": [
        "plt.figure(figsize=(15,12))\n",
        "plt.title('Total de consultas por idade')\n",
        "sns.set(style=\"whitegrid\")\n",
        "sns.countplot(x='Idade', data=df_consultas)\n",
        "plt.show()"
      ],
      "execution_count": 455,
      "outputs": [
        {
          "output_type": "display_data",
          "data": {
            "image/png": "[encoded data removed]",
            "text/plain": [
              "<Figure size 1080x864 with 1 Axes>"
            ]
          },
          "metadata": {
            "tags": []
          }
        }
      ]
    },
    {
      "cell_type": "code",
      "metadata": {
        "colab": {
          "base_uri": "https://localhost:8080/",
          "height": 950
        },
        "id": "ms5BAc8R8OJR",
        "outputId": "4bca7ef9-c910-47d0-d57f-d270a5f31c1d"
      },
      "source": [
        "plt.figure(figsize=(20,16))\n",
        "plt.title('Total de consultas por idade')\n",
        "sns.countplot(y='Idade', color = 'b', data=df_consultas)\n",
        "plt.show()"
      ],
      "execution_count": 456,
      "outputs": [
        {
          "output_type": "display_data",
          "data": {
            "image/png": "[encoded data removed]",
            "text/plain": [
              "<Figure size 1440x1152 with 1 Axes>"
            ]
          },
          "metadata": {
            "tags": []
          }
        }
      ]
    },
    {
      "cell_type": "code",
      "metadata": {
        "id": "OQ4vucS-cKfC"
      },
      "source": [
        "def percentual(bool_string, characteristic): \n",
        "    query1_total = len(df_consultas.query(bool_string + \"and Não_comparecimento == 'Yes'\"))\n",
        "    query2_total = len(df_consultas.query(bool_string))\n",
        "    return_pct = (query1_total / query2_total) * 100\n",
        "    print('Percentual de pacientes {} NÃO compareceram à consulta'.format(characteristic), return_pct)\n"
      ],
      "execution_count": 457,
      "outputs": []
    },
    {
      "cell_type": "code",
      "metadata": {
        "colab": {
          "base_uri": "https://localhost:8080/"
        },
        "id": "acG7JtuCeZt0",
        "outputId": "ee2e6a15-ddeb-47c9-d079-b84ff3a07df8"
      },
      "source": [
        "percentual('Bolsa_família == 1', 'que recebe bolsa-família e')\n",
        "percentual('Bolsa_família == 0', 'que NÃO recebe bolsa-família e')"
      ],
      "execution_count": 458,
      "outputs": [
        {
          "output_type": "stream",
          "text": [
            "Percentual de pacientes que recebe bolsa-família e NÃO compareceram à consulta 23.73630420771568\n",
            "Percentual de pacientes que NÃO recebe bolsa-família e NÃO compareceram à consulta 19.807155900708366\n"
          ],
          "name": "stdout"
        }
      ]
    },
    {
      "cell_type": "code",
      "metadata": {
        "colab": {
          "base_uri": "https://localhost:8080/"
        },
        "id": "JpzSoIEHpXC6",
        "outputId": "7e49bf0f-3a55-442c-d0dd-6bad79b489ac"
      },
      "source": [
        "percentual(\"Gênero == 'F'\", 'mulheres que')\n",
        "percentual(\"Gênero == 'M'\", 'homens que')"
      ],
      "execution_count": 459,
      "outputs": [
        {
          "output_type": "stream",
          "text": [
            "Percentual de pacientes mulheres que NÃO compareceram à consulta 20.31458797327394\n",
            "Percentual de pacientes homens que NÃO compareceram à consulta 19.967947889471915\n"
          ],
          "name": "stdout"
        }
      ]
    },
    {
      "cell_type": "code",
      "metadata": {
        "colab": {
          "base_uri": "https://localhost:8080/"
        },
        "id": "lgakcMQ_tmtq",
        "outputId": "c3fb0063-4d1f-4744-ae0d-191a8e92f4a9"
      },
      "source": [
        "percentual('Deficiência == 0', 'que NÃO possuem deficiência e')\n",
        "percentual('Deficiência == 1', 'que possuem deficiência e')"
      ],
      "execution_count": 460,
      "outputs": [
        {
          "output_type": "stream",
          "text": [
            "Percentual de pacientes que NÃO possuem deficiência e NÃO compareceram à consulta 20.235302809227417\n",
            "Percentual de pacientes que possuem deficiência e NÃO compareceram à consulta 17.92360430950049\n"
          ],
          "name": "stdout"
        }
      ]
    },
    {
      "cell_type": "code",
      "metadata": {
        "colab": {
          "base_uri": "https://localhost:8080/"
        },
        "id": "6jqZ4VQOyxzx",
        "outputId": "e2bdd5f3-0ad5-45ce-e143-08a2eed30245"
      },
      "source": [
        "percentual('Hipertensão == 0', 'que NÃO é hipertenso e')\n",
        "percentual('Hipertensão == 1', 'que é hipertenso e')"
      ],
      "execution_count": 461,
      "outputs": [
        {
          "output_type": "stream",
          "text": [
            "Percentual de pacientes que NÃO é hipertenso e NÃO compareceram à consulta 20.903680995424114\n",
            "Percentual de pacientes que é hipertenso e NÃO compareceram à consulta 17.301958625751112\n"
          ],
          "name": "stdout"
        }
      ]
    },
    {
      "cell_type": "code",
      "metadata": {
        "colab": {
          "base_uri": "https://localhost:8080/"
        },
        "id": "PKik8oJlzsyr",
        "outputId": "2a5efba5-8178-4d8b-f1d8-d211fbf2960b"
      },
      "source": [
        "percentual('Diabetes == 0', 'que NÃO é diabetes e')\n",
        "percentual('Diabetes == 1', 'que é diabetes e')"
      ],
      "execution_count": 462,
      "outputs": [
        {
          "output_type": "stream",
          "text": [
            "Percentual de pacientes que NÃO é diabetes e NÃO compareceram à consulta 20.362824612025268\n",
            "Percentual de pacientes que é diabetes e NÃO compareceram à consulta 18.00327332242226\n"
          ],
          "name": "stdout"
        }
      ]
    },
    {
      "cell_type": "markdown",
      "metadata": {
        "id": "16Kq0KB11HnQ"
      },
      "source": [
        "**A idade ou o sexo afetaram a frequência às consultas?**"
      ]
    },
    {
      "cell_type": "markdown",
      "metadata": {
        "id": "wrOfv6DR0d6x"
      },
      "source": [
        "`Agora vamos ver a distribuição de idades que falta a consulta.` \n",
        "\n",
        "**Para isso, iremos criar faixas de idades!**"
      ]
    },
    {
      "cell_type": "markdown",
      "metadata": {
        "id": "kWBwdXM3-JQT"
      },
      "source": [
        "Agruparei as idades dos pacientes em grupos para estudar com mais eficácia como cada grupo se saiu com a frequência às consultas. \n",
        "\n",
        "Usarei o histograma para orientar minhas seleções de faixa etária, visto a seguir, dividir usando a função `.cut ()`"
      ]
    },
    {
      "cell_type": "code",
      "metadata": {
        "id": "BVweEyRAIU2_"
      },
      "source": [
        "df_consultas['faixas_idades'] = pd.cut(df_consultas.Idade, \n",
        "                                   bins=[-2, 12, 25, 35, 45, 55, 65, 75, 115], \n",
        "                                   labels= ['de 12 abaixo', '13 à 25', '26 à 35', \n",
        "                                            '36 à 45', '46 à 55', '56 à 65', \n",
        "                                            '66 à 75', 'de 76 acima'])"
      ],
      "execution_count": 463,
      "outputs": []
    },
    {
      "cell_type": "code",
      "metadata": {
        "id": "k3rHgpof-iOF"
      },
      "source": [
        "def faixa_idade(bool_string): \n",
        "    query1_total = len(df_consultas.query(bool_string + \"and Não_comparecimento == 'Yes'\" ))\n",
        "    query2_total = len(df_consultas.query(bool_string))\n",
        "    return_pct = (query1_total / query2_total) * 100\n",
        "    return return_pct"
      ],
      "execution_count": 464,
      "outputs": []
    },
    {
      "cell_type": "code",
      "metadata": {
        "id": "XngWTl3oHtIi"
      },
      "source": [
        "pct_under_12 = faixa_idade(\"faixas_idades == 'de 12 abaixo'\")\n",
        "pct_13_25 = faixa_idade(\"faixas_idades == '13 à 25'\")\n",
        "pct_26_35 = faixa_idade(\"faixas_idades == '26 à 35'\")\n",
        "pct_36_45 = faixa_idade(\"faixas_idades == '36 à 45'\")\n",
        "pct_46_55 = faixa_idade(\"faixas_idades == '46 à 55'\")\n",
        "pct_56_65 = faixa_idade(\"faixas_idades == '56 à 65'\")\n",
        "pct_66_75 = faixa_idade(\"faixas_idades == '66 à 75'\")\n",
        "pct_76_up = faixa_idade(\"faixas_idades == 'de 76 acima'\")"
      ],
      "execution_count": 465,
      "outputs": []
    },
    {
      "cell_type": "code",
      "metadata": {
        "id": "wKUaJriDH6j0",
        "colab": {
          "base_uri": "https://localhost:8080/",
          "height": 530
        },
        "outputId": "1dd431df-5dd2-4ce7-e126-366c00895561"
      },
      "source": [
        "percentual_idade = [pct_under_12, pct_13_25, pct_26_35, pct_36_45, pct_46_55, \n",
        "                    pct_56_65, pct_66_75, pct_76_up]\n",
        "labels = ('de 12 abaixo', '13 à 25', '26 à 35', '36 à 45', '46 à 55', \n",
        "                              '56 à 65', '66 à 75', 'de 76 acima')\n",
        "y_pos = np.arange(len(labels))\n",
        "\n",
        "plt.style.use(\"seaborn-talk\")\n",
        "\n",
        "\n",
        "plt.figure(figsize=(14, 8))\n",
        "plt.bar(y_pos, age_percentages, color='b');\n",
        "plt.xticks(y_pos, labels);\n",
        "plt.ylabel('Percentagem de Não_comparecimento');\n",
        "plt.xlabel('Grupo de idades');\n",
        "plt.title('Percentagem de Não_comparecimento por Grupo de idades');"
      ],
      "execution_count": 466,
      "outputs": [
        {
          "output_type": "display_data",
          "data": {
            "image/png": "[encoded data removed]",
            "text/plain": [
              "<Figure size 1008x576 with 1 Axes>"
            ]
          },
          "metadata": {
            "tags": []
          }
        }
      ]
    },
    {
      "cell_type": "markdown",
      "metadata": {
        "id": "WdnFBP3FD4lp"
      },
      "source": [
        "Esta visualização permite-nos ver que a faixa etária com maior taxa de ausência na consulta é de 13 a 25 anos. Com exceção dos menores de 13 anos, as ausências parecem diminuir com a idade, embora haja um ligeiro aumento acima de 76 anos.\n",
        "\n",
        "Abaixo, agrupei as faltas por gênero, o que mostrou uma diferença de menos de 1%. O gênero não afeta o não comparecimento por nenhuma significância estatística."
      ]
    },
    {
      "cell_type": "code",
      "metadata": {
        "colab": {
          "base_uri": "https://localhost:8080/"
        },
        "id": "RGCoPq7uUOe5",
        "outputId": "2f5a4501-d757-4fd1-a5ff-1f3d09d3c497"
      },
      "source": [
        "percentual(\"Gênero == 'F'\", \"mulher\")\n",
        "percentual(\"Gênero == 'M'\", \"homem\")"
      ],
      "execution_count": 467,
      "outputs": [
        {
          "output_type": "stream",
          "text": [
            "Percentual de pacientes mulher NÃO compareceram à consulta 20.31458797327394\n",
            "Percentual de pacientes homem NÃO compareceram à consulta 19.967947889471915\n"
          ],
          "name": "stdout"
        }
      ]
    },
    {
      "cell_type": "code",
      "metadata": {
        "colab": {
          "base_uri": "https://localhost:8080/"
        },
        "id": "Q59Wj0oSK30Q",
        "outputId": "7c91184f-2e1e-4ff6-c370-db5e1beb8605"
      },
      "source": [
        "# separando a base de dados por faixa de idades entre 13 e 25 anos\n",
        "idades_13_25 = df_consultas[(df_consultas.Idade > 13) & (df_consultas['Idade'] <= 25)] \n",
        "idades_13_25.value_counts().sum()"
      ],
      "execution_count": 468,
      "outputs": [
        {
          "output_type": "execute_result",
          "data": {
            "text/plain": [
              "16460"
            ]
          },
          "metadata": {
            "tags": []
          },
          "execution_count": 468
        }
      ]
    },
    {
      "cell_type": "code",
      "metadata": {
        "id": "uAG4mLFQLPJF"
      },
      "source": [
        "# separando a base de dados por toda as faixa de idades e contabilizando\n",
        "idade_12_menor = df_consultas[(df_consultas.Idade <= 12)].value_counts().sum()\n",
        "idade_13_25 = df_consultas[(df_consultas.Idade >= 13) & (df_consultas['Idade'] <= 25)].value_counts().sum()\n",
        "idade_26_35 = df_consultas[(df_consultas.Idade >= 26) & (df_consultas['Idade'] <= 35)].value_counts().sum()\n",
        "idade_36_45 = df_consultas[(df_consultas.Idade >= 36) & (df_consultas['Idade'] <= 45)].value_counts().sum()\n",
        "idade_46_55 = df_consultas[(df_consultas.Idade >= 46) & (df_consultas['Idade'] <= 55)].value_counts().sum()\n",
        "idade_56_65 = df_consultas[(df_consultas.Idade >= 56) & (df_consultas['Idade'] <= 65)].value_counts().sum()\n",
        "idade_66_75 = df_consultas[(df_consultas.Idade >= 66) & (df_consultas['Idade'] <= 75)].value_counts().sum()\n",
        "idade_76_acima = df_consultas[(df_consultas.Idade > 76)].value_counts().sum()"
      ],
      "execution_count": 469,
      "outputs": []
    },
    {
      "cell_type": "code",
      "metadata": {
        "colab": {
          "base_uri": "https://localhost:8080/"
        },
        "id": "Hhk5c_E8O-Y2",
        "outputId": "da424d5d-3a78-4efa-a8cc-bd7c111d32cd"
      },
      "source": [
        "idade_12_menor"
      ],
      "execution_count": 470,
      "outputs": [
        {
          "output_type": "execute_result",
          "data": {
            "text/plain": [
              "21037"
            ]
          },
          "metadata": {
            "tags": []
          },
          "execution_count": 470
        }
      ]
    },
    {
      "cell_type": "code",
      "metadata": {
        "colab": {
          "base_uri": "https://localhost:8080/"
        },
        "id": "ZAYZfAyvLKSO",
        "outputId": "446f5be7-9116-4073-a262-2ce23ea9c299"
      },
      "source": [
        "total_faixa_idades = idade_12_menor + idade_13_25 + idade_26_35 + idade_36_45 + idade_46_55 + idade_56_65 + idade_66_75 + idade_76_acima\n",
        "total_faixa_idades"
      ],
      "execution_count": 471,
      "outputs": [
        {
          "output_type": "execute_result",
          "data": {
            "text/plain": [
              "109956"
            ]
          },
          "metadata": {
            "tags": []
          },
          "execution_count": 471
        }
      ]
    },
    {
      "cell_type": "code",
      "metadata": {
        "colab": {
          "base_uri": "https://localhost:8080/"
        },
        "id": "5GVB2NtdCn-P",
        "outputId": "88a845d8-5e9d-47b9-c4ff-1d16ab512285"
      },
      "source": [
        "# separando a base de dados por faixa de idades\n",
        "# idade_13_25 = df_consultas[(df_consultas.Idade > 13) & (df_consultas['Idade'] <= 25)] \n",
        "print(f'''Percentagem de ausência na consulta\n",
        "- igual e menor de 12 anos: {((idade_12_menor / total_faixa_idades)*100):.2f}%\n",
        "- entre de 13 e 25 anos: {((idade_13_25 / total_faixa_idades)*100):.2f}%\n",
        "- entre de 26 e 35 anos: {((idade_26_35 / total_faixa_idades)*100):.2f}%\n",
        "- entre de 36 e 45 anos: {((idade_36_45 / total_faixa_idades)*100):.2f}%\n",
        "- entre de 46 e 55 anos: {((idade_46_55 / total_faixa_idades)*100):.2f}%\n",
        "- entre de 56 e 65 anos: {((idade_56_65 / total_faixa_idades)*100):.2f}%\n",
        "- entre de 66 e 75 anos: {((idade_66_75 / total_faixa_idades)*100):.2f}%\n",
        "- de 76 anos acima: {((idade_76_acima / total_faixa_idades)*100):.2f}%\n",
        "''') "
      ],
      "execution_count": 473,
      "outputs": [
        {
          "output_type": "stream",
          "text": [
            "Percentagem de ausência na consulta\n",
            "- igual e menor de 12 anos: 19.13%\n",
            "- entre de 13 e 25 anos: 15.97%\n",
            "- entre de 26 e 35 anos: 13.10%\n",
            "- entre de 36 e 45 anos: 13.26%\n",
            "- entre de 46 e 55 anos: 14.04%\n",
            "- entre de 56 e 65 anos: 12.92%\n",
            "- entre de 66 e 75 anos: 7.19%\n",
            "- de 76 anos acima: 4.38%\n",
            "\n"
          ],
          "name": "stdout"
        }
      ]
    },
    {
      "cell_type": "markdown",
      "metadata": {
        "id": "HeWujt-_hKCx"
      },
      "source": [
        "**Quantos valores diferentes encontramos para a variável dos SMS_recebido?**"
      ]
    },
    {
      "cell_type": "code",
      "metadata": {
        "id": "MKuw0zNSg4Wp",
        "colab": {
          "base_uri": "https://localhost:8080/",
          "height": 448
        },
        "outputId": "85c13752-cf23-45dd-f31b-4a6cb89deca5"
      },
      "source": [
        "df_consultas['SMS_recebido'].hist(bins=len(df_consultas['SMS_recebido'].unique()));"
      ],
      "execution_count": 474,
      "outputs": [
        {
          "output_type": "display_data",
          "data": {
            "image/png": "[encoded data removed]",
            "text/plain": [
              "<Figure size 748.8x514.8 with 1 Axes>"
            ]
          },
          "metadata": {
            "tags": []
          }
        }
      ]
    },
    {
      "cell_type": "code",
      "metadata": {
        "id": "7oLTbyKChAdg",
        "colab": {
          "base_uri": "https://localhost:8080/"
        },
        "outputId": "bfb202b4-1720-40ef-fa38-7ab71a9fba71"
      },
      "source": [
        "df_consultas['SMS_recebido'].unique()"
      ],
      "execution_count": 310,
      "outputs": [
        {
          "output_type": "execute_result",
          "data": {
            "text/plain": [
              "array([0, 1])"
            ]
          },
          "metadata": {
            "tags": []
          },
          "execution_count": 310
        }
      ]
    },
    {
      "cell_type": "code",
      "metadata": {
        "id": "r5Zda_R2ayaA"
      },
      "source": [
        "# criando uma nova coluna -> Tempo de espera (diferença entre a data em que a consulta foi agendada e o dia da consulta)\n",
        "df_consultas.Dia_agendado = pd.to_datetime(df_consultas.Dia_agendado)  #transformando as colunas para o tipo datetime\n",
        "df_consultas.Dia_consulta = pd.to_datetime(df_consultas.Dia_consulta)"
      ],
      "execution_count": 9,
      "outputs": []
    },
    {
      "cell_type": "code",
      "metadata": {
        "id": "r8y6g7Xfc6Eq"
      },
      "source": [
        "# realizando a diferença entre o momento da marcação da consulta e o dia da consulta\n",
        "tempo_espera = df_consultas.Dia_agendado-df_consultas.Dia_consulta"
      ],
      "execution_count": 10,
      "outputs": []
    },
    {
      "cell_type": "code",
      "metadata": {
        "colab": {
          "base_uri": "https://localhost:8080/"
        },
        "id": "jv2uIKurYDKk",
        "outputId": "2c2ef303-d536-4e7d-c950-2fa599e6490f"
      },
      "source": [
        "# visualizando as 10 primeiras linhas\n",
        "tempo_espera[:10]"
      ],
      "execution_count": 11,
      "outputs": [
        {
          "output_type": "execute_result",
          "data": {
            "text/plain": [
              "0     0 days 18:38:08\n",
              "1     0 days 16:08:27\n",
              "2     0 days 16:19:04\n",
              "3     0 days 17:29:31\n",
              "4     0 days 16:07:23\n",
              "5   -2 days +08:36:51\n",
              "6   -2 days +15:05:12\n",
              "7   -2 days +15:39:58\n",
              "8     0 days 08:02:16\n",
              "9   -2 days +12:48:25\n",
              "dtype: timedelta64[ns]"
            ]
          },
          "metadata": {
            "tags": []
          },
          "execution_count": 11
        }
      ]
    },
    {
      "cell_type": "code",
      "metadata": {
        "id": "YBg1SeKnffVk"
      },
      "source": [
        "# inserindo a coluna \"Tempo_espera\" na base de dados\n",
        "# realizando uma operação \"lambda\"\n",
        "df_consultas['Tempo_espera'] = tempo_espera.apply(lambda x: x.days) # transforma os valores em dias "
      ],
      "execution_count": 12,
      "outputs": []
    },
    {
      "cell_type": "code",
      "metadata": {
        "id": "6x9wyAc6dnJ-",
        "colab": {
          "base_uri": "https://localhost:8080/",
          "height": 549
        },
        "outputId": "c3c01dee-5996-4c66-c4a0-f017f4555012"
      },
      "source": [
        "df_consultas.head(10) # visualizando as 10 primeiras linhas"
      ],
      "execution_count": 13,
      "outputs": [
        {
          "output_type": "execute_result",
          "data": {
            "text/html": [
              "<div>\n",
              "<style scoped>\n",
              "    .dataframe tbody tr th:only-of-type {\n",
              "        vertical-align: middle;\n",
              "    }\n",
              "\n",
              "    .dataframe tbody tr th {\n",
              "        vertical-align: top;\n",
              "    }\n",
              "\n",
              "    .dataframe thead th {\n",
              "        text-align: right;\n",
              "    }\n",
              "</style>\n",
              "<table border=\"1\" class=\"dataframe\">\n",
              "  <thead>\n",
              "    <tr style=\"text-align: right;\">\n",
              "      <th></th>\n",
              "      <th>Id_paciente</th>\n",
              "      <th>Id_consulta</th>\n",
              "      <th>Gênero</th>\n",
              "      <th>Dia_agendado</th>\n",
              "      <th>Dia_consulta</th>\n",
              "      <th>Idade</th>\n",
              "      <th>Bairro</th>\n",
              "      <th>Bolsa_família</th>\n",
              "      <th>Hipertensão</th>\n",
              "      <th>Diabetes</th>\n",
              "      <th>Alcoolismo</th>\n",
              "      <th>Deficiência</th>\n",
              "      <th>SMS_recebido</th>\n",
              "      <th>Não_comparecimento</th>\n",
              "      <th>Tempo_espera</th>\n",
              "    </tr>\n",
              "  </thead>\n",
              "  <tbody>\n",
              "    <tr>\n",
              "      <th>0</th>\n",
              "      <td>2.987250e+13</td>\n",
              "      <td>5642903</td>\n",
              "      <td>F</td>\n",
              "      <td>2016-04-29 18:38:08+00:00</td>\n",
              "      <td>2016-04-29 00:00:00+00:00</td>\n",
              "      <td>62</td>\n",
              "      <td>JARDIM DA PENHA</td>\n",
              "      <td>0</td>\n",
              "      <td>1</td>\n",
              "      <td>0</td>\n",
              "      <td>0</td>\n",
              "      <td>0</td>\n",
              "      <td>0</td>\n",
              "      <td>No</td>\n",
              "      <td>0</td>\n",
              "    </tr>\n",
              "    <tr>\n",
              "      <th>1</th>\n",
              "      <td>5.589978e+14</td>\n",
              "      <td>5642503</td>\n",
              "      <td>M</td>\n",
              "      <td>2016-04-29 16:08:27+00:00</td>\n",
              "      <td>2016-04-29 00:00:00+00:00</td>\n",
              "      <td>56</td>\n",
              "      <td>JARDIM DA PENHA</td>\n",
              "      <td>0</td>\n",
              "      <td>0</td>\n",
              "      <td>0</td>\n",
              "      <td>0</td>\n",
              "      <td>0</td>\n",
              "      <td>0</td>\n",
              "      <td>No</td>\n",
              "      <td>0</td>\n",
              "    </tr>\n",
              "    <tr>\n",
              "      <th>2</th>\n",
              "      <td>4.262962e+12</td>\n",
              "      <td>5642549</td>\n",
              "      <td>F</td>\n",
              "      <td>2016-04-29 16:19:04+00:00</td>\n",
              "      <td>2016-04-29 00:00:00+00:00</td>\n",
              "      <td>62</td>\n",
              "      <td>MATA DA PRAIA</td>\n",
              "      <td>0</td>\n",
              "      <td>0</td>\n",
              "      <td>0</td>\n",
              "      <td>0</td>\n",
              "      <td>0</td>\n",
              "      <td>0</td>\n",
              "      <td>No</td>\n",
              "      <td>0</td>\n",
              "    </tr>\n",
              "    <tr>\n",
              "      <th>3</th>\n",
              "      <td>8.679512e+11</td>\n",
              "      <td>5642828</td>\n",
              "      <td>F</td>\n",
              "      <td>2016-04-29 17:29:31+00:00</td>\n",
              "      <td>2016-04-29 00:00:00+00:00</td>\n",
              "      <td>8</td>\n",
              "      <td>PONTAL DE CAMBURI</td>\n",
              "      <td>0</td>\n",
              "      <td>0</td>\n",
              "      <td>0</td>\n",
              "      <td>0</td>\n",
              "      <td>0</td>\n",
              "      <td>0</td>\n",
              "      <td>No</td>\n",
              "      <td>0</td>\n",
              "    </tr>\n",
              "    <tr>\n",
              "      <th>4</th>\n",
              "      <td>8.841186e+12</td>\n",
              "      <td>5642494</td>\n",
              "      <td>F</td>\n",
              "      <td>2016-04-29 16:07:23+00:00</td>\n",
              "      <td>2016-04-29 00:00:00+00:00</td>\n",
              "      <td>56</td>\n",
              "      <td>JARDIM DA PENHA</td>\n",
              "      <td>0</td>\n",
              "      <td>1</td>\n",
              "      <td>1</td>\n",
              "      <td>0</td>\n",
              "      <td>0</td>\n",
              "      <td>0</td>\n",
              "      <td>No</td>\n",
              "      <td>0</td>\n",
              "    </tr>\n",
              "    <tr>\n",
              "      <th>5</th>\n",
              "      <td>9.598513e+13</td>\n",
              "      <td>5626772</td>\n",
              "      <td>F</td>\n",
              "      <td>2016-04-27 08:36:51+00:00</td>\n",
              "      <td>2016-04-29 00:00:00+00:00</td>\n",
              "      <td>76</td>\n",
              "      <td>REPÚBLICA</td>\n",
              "      <td>0</td>\n",
              "      <td>1</td>\n",
              "      <td>0</td>\n",
              "      <td>0</td>\n",
              "      <td>0</td>\n",
              "      <td>0</td>\n",
              "      <td>No</td>\n",
              "      <td>-2</td>\n",
              "    </tr>\n",
              "    <tr>\n",
              "      <th>6</th>\n",
              "      <td>7.336882e+14</td>\n",
              "      <td>5630279</td>\n",
              "      <td>F</td>\n",
              "      <td>2016-04-27 15:05:12+00:00</td>\n",
              "      <td>2016-04-29 00:00:00+00:00</td>\n",
              "      <td>23</td>\n",
              "      <td>GOIABEIRAS</td>\n",
              "      <td>0</td>\n",
              "      <td>0</td>\n",
              "      <td>0</td>\n",
              "      <td>0</td>\n",
              "      <td>0</td>\n",
              "      <td>0</td>\n",
              "      <td>Yes</td>\n",
              "      <td>-2</td>\n",
              "    </tr>\n",
              "    <tr>\n",
              "      <th>7</th>\n",
              "      <td>3.449833e+12</td>\n",
              "      <td>5630575</td>\n",
              "      <td>F</td>\n",
              "      <td>2016-04-27 15:39:58+00:00</td>\n",
              "      <td>2016-04-29 00:00:00+00:00</td>\n",
              "      <td>39</td>\n",
              "      <td>GOIABEIRAS</td>\n",
              "      <td>0</td>\n",
              "      <td>0</td>\n",
              "      <td>0</td>\n",
              "      <td>0</td>\n",
              "      <td>0</td>\n",
              "      <td>0</td>\n",
              "      <td>Yes</td>\n",
              "      <td>-2</td>\n",
              "    </tr>\n",
              "    <tr>\n",
              "      <th>8</th>\n",
              "      <td>5.639473e+13</td>\n",
              "      <td>5638447</td>\n",
              "      <td>F</td>\n",
              "      <td>2016-04-29 08:02:16+00:00</td>\n",
              "      <td>2016-04-29 00:00:00+00:00</td>\n",
              "      <td>21</td>\n",
              "      <td>ANDORINHAS</td>\n",
              "      <td>0</td>\n",
              "      <td>0</td>\n",
              "      <td>0</td>\n",
              "      <td>0</td>\n",
              "      <td>0</td>\n",
              "      <td>0</td>\n",
              "      <td>No</td>\n",
              "      <td>0</td>\n",
              "    </tr>\n",
              "    <tr>\n",
              "      <th>9</th>\n",
              "      <td>7.812456e+13</td>\n",
              "      <td>5629123</td>\n",
              "      <td>F</td>\n",
              "      <td>2016-04-27 12:48:25+00:00</td>\n",
              "      <td>2016-04-29 00:00:00+00:00</td>\n",
              "      <td>19</td>\n",
              "      <td>CONQUISTA</td>\n",
              "      <td>0</td>\n",
              "      <td>0</td>\n",
              "      <td>0</td>\n",
              "      <td>0</td>\n",
              "      <td>0</td>\n",
              "      <td>0</td>\n",
              "      <td>No</td>\n",
              "      <td>-2</td>\n",
              "    </tr>\n",
              "  </tbody>\n",
              "</table>\n",
              "</div>"
            ],
            "text/plain": [
              "    Id_paciente  Id_consulta  ... Não_comparecimento Tempo_espera\n",
              "0  2.987250e+13      5642903  ...                 No            0\n",
              "1  5.589978e+14      5642503  ...                 No            0\n",
              "2  4.262962e+12      5642549  ...                 No            0\n",
              "3  8.679512e+11      5642828  ...                 No            0\n",
              "4  8.841186e+12      5642494  ...                 No            0\n",
              "5  9.598513e+13      5626772  ...                 No           -2\n",
              "6  7.336882e+14      5630279  ...                Yes           -2\n",
              "7  3.449833e+12      5630575  ...                Yes           -2\n",
              "8  5.639473e+13      5638447  ...                 No            0\n",
              "9  7.812456e+13      5629123  ...                 No           -2\n",
              "\n",
              "[10 rows x 15 columns]"
            ]
          },
          "metadata": {
            "tags": []
          },
          "execution_count": 13
        }
      ]
    },
    {
      "cell_type": "code",
      "metadata": {
        "id": "ScjAUNR0eDjE",
        "colab": {
          "base_uri": "https://localhost:8080/"
        },
        "outputId": "24794608-da2b-4518-a664-b17cfba7a492"
      },
      "source": [
        "# dados gerais da base de dados\n",
        "df_consultas.info()"
      ],
      "execution_count": 23,
      "outputs": [
        {
          "output_type": "stream",
          "text": [
            "<class 'pandas.core.frame.DataFrame'>\n",
            "RangeIndex: 110527 entries, 0 to 110526\n",
            "Data columns (total 15 columns):\n",
            " #   Column              Non-Null Count   Dtype              \n",
            "---  ------              --------------   -----              \n",
            " 0   Id_paciente         110527 non-null  float64            \n",
            " 1   Id_consulta         110527 non-null  int64              \n",
            " 2   Gênero              110527 non-null  object             \n",
            " 3   Dia_agendado        110527 non-null  datetime64[ns, UTC]\n",
            " 4   Dia_consulta        110527 non-null  datetime64[ns, UTC]\n",
            " 5   Idade               110527 non-null  int64              \n",
            " 6   Bairro              110527 non-null  object             \n",
            " 7   Bolsa_família       110527 non-null  int64              \n",
            " 8   Hipertensão         110527 non-null  int64              \n",
            " 9   Diabetes            110527 non-null  int64              \n",
            " 10  Alcoolismo          110527 non-null  int64              \n",
            " 11  Deficiência         110527 non-null  int64              \n",
            " 12  SMS_recebido        110527 non-null  int64              \n",
            " 13  Não_comparecimento  110527 non-null  object             \n",
            " 14  Tempo_espera        110527 non-null  int64              \n",
            "dtypes: datetime64[ns, UTC](2), float64(1), int64(9), object(3)\n",
            "memory usage: 12.6+ MB\n"
          ],
          "name": "stdout"
        }
      ]
    },
    {
      "cell_type": "code",
      "metadata": {
        "colab": {
          "base_uri": "https://localhost:8080/"
        },
        "id": "Nj084x-jZWqF",
        "outputId": "6a52ff93-b126-4ace-8c15-0e6054366c1e"
      },
      "source": [
        "# dados estatísticos somente da coluna \"Tempo_espera\"\n",
        "df_consultas.Tempo_espera.describe()"
      ],
      "execution_count": 20,
      "outputs": [
        {
          "output_type": "execute_result",
          "data": {
            "text/plain": [
              "count    110527.000000\n",
              "mean        -10.183702\n",
              "std          15.254996\n",
              "min        -179.000000\n",
              "25%         -15.000000\n",
              "50%          -4.000000\n",
              "75%           0.000000\n",
              "max           6.000000\n",
              "Name: Tempo_espera, dtype: float64"
            ]
          },
          "metadata": {
            "tags": []
          },
          "execution_count": 20
        }
      ]
    },
    {
      "cell_type": "markdown",
      "metadata": {
        "id": "j4Xn1X3iaZaM"
      },
      "source": [
        "**Qual foi o impacto da diferença de tempo entre o dia em que a consulta foi agendada e o dia da consulta?**\n",
        "\n",
        "Todos esses indicadores que explorei envolvem características do paciente. Agora vejo duas variáveis ​​que não estão relacionadas ao perfil do paciente: \n",
        "- a diferença de tempo entre o dia em que a consulta foi agendada;\n",
        "- o dia da consulta e,\n",
        "- se um lembrete por mensagem de texto foi ou não enviado."
      ]
    },
    {
      "cell_type": "code",
      "metadata": {
        "colab": {
          "base_uri": "https://localhost:8080/",
          "height": 364
        },
        "id": "LmIu_ZFsei2I",
        "outputId": "7e8e3c4d-7913-4a28-8e4d-f332b7834caf"
      },
      "source": [
        "plt.style.use(\"seaborn-talk\")\n",
        "\n",
        "ax = df_consultas['Tempo_espera'].plot.hist(title='Retorno para consultas agendadas', \n",
        "                                                                     figsize=(12, 5));\n",
        "ax.set_xlabel('Dias');"
      ],
      "execution_count": 28,
      "outputs": [
        {
          "output_type": "display_data",
          "data": {
            "image/png": "[encoded data removed]",
            "text/plain": [
              "<Figure size 864x360 with 1 Axes>"
            ]
          },
          "metadata": {
            "tags": [],
            "needs_background": "light"
          }
        }
      ]
    },
    {
      "cell_type": "code",
      "metadata": {
        "id": "7q3qVocodHSG"
      },
      "source": [
        "# t = [-1, 1, 3, 14, 179]\n",
        "# t_bins = pd.to_timedelta(t, unit='days')\n",
        "# labels = ['mesmo dia', '1 à 3 dias', '4 à 14 dias', 'Mais de 14 dias']\n",
        "\n",
        "# df_consultas['Tempo_espera_bins'] = pd.cut(df_consultas['Tempo_espera'], bins=t_bins, labels=labels)\n",
        "# df_consultas.groupby('Tempo_espera_bins').Não_comparecimento.value_counts()"
      ],
      "execution_count": 22,
      "outputs": []
    },
    {
      "cell_type": "code",
      "metadata": {
        "id": "y1R9pVq8a0oD"
      },
      "source": [
        "# r = '#b35806'\n",
        "# p = '#542788'\n",
        "# plt.figure(figsize=(9,4))\n",
        "# sns.countplot(data=df_consultas, x='Tempo_espera_bins', hue='Não_comparecimento', palette=[r, p]);\n",
        "# plt.legend(['Atendidas', 'Não comparecimento'])\n",
        "# plt.xlabel('Retorno para compromissos agendados');\n",
        "# plt.ylabel('Número de compromissos')\n",
        "# plt.title('Distribuição de faltas vs. Atendidas por prazo de entrega');"
      ],
      "execution_count": 23,
      "outputs": []
    },
    {
      "cell_type": "markdown",
      "metadata": {
        "id": "_8cVcpCvhw5y"
      },
      "source": [
        "**Iniciando o tratamento dos dados**"
      ]
    },
    {
      "cell_type": "markdown",
      "metadata": {
        "id": "cPpMJPRih1qw"
      },
      "source": [
        "**Qual é a menor e maior idade, respectivamente, presente no dataset?**"
      ]
    },
    {
      "cell_type": "code",
      "metadata": {
        "id": "d9rLFCNugwTs",
        "colab": {
          "base_uri": "https://localhost:8080/"
        },
        "outputId": "136dc5de-90a1-482b-cac2-4dc5ca2eae3c"
      },
      "source": [
        "# encontrando as idades negativas\n",
        "df_consultas[df_consultas['Idade'] < 0]['Idade'].value_counts()"
      ],
      "execution_count": 24,
      "outputs": [
        {
          "output_type": "execute_result",
          "data": {
            "text/plain": [
              "-1    1\n",
              "Name: Idade, dtype: int64"
            ]
          },
          "metadata": {
            "tags": []
          },
          "execution_count": 24
        }
      ]
    },
    {
      "cell_type": "code",
      "metadata": {
        "id": "jWm3iapkidmj",
        "colab": {
          "base_uri": "https://localhost:8080/"
        },
        "outputId": "21205cde-4c42-4e2d-87b8-916392bd4629"
      },
      "source": [
        "# filtrando apenas idades maiores que 0\n",
        "df_consultas_filtrado = df_consultas[df_consultas['Idade'] >= 0]\n",
        "df_consultas_filtrado.shape"
      ],
      "execution_count": 26,
      "outputs": [
        {
          "output_type": "execute_result",
          "data": {
            "text/plain": [
              "(110526, 16)"
            ]
          },
          "metadata": {
            "tags": []
          },
          "execution_count": 26
        }
      ]
    },
    {
      "cell_type": "markdown",
      "metadata": {
        "id": "fegPJgxwj3xa"
      },
      "source": [
        "**Quantos valores de idade menores do que 0 existem no dataframe?**"
      ]
    },
    {
      "cell_type": "code",
      "metadata": {
        "id": "qiUVrzs6kp_y",
        "colab": {
          "base_uri": "https://localhost:8080/"
        },
        "outputId": "4aae434e-6121-45e2-c8e4-bbea00947680"
      },
      "source": [
        "# transformando os tempo de espera para um valor não negativo\n",
        "df_consultas_filtrado['Tempo_espera'] = df_consultas_filtrado['Tempo_espera'].apply(lambda x: abs(x))"
      ],
      "execution_count": 27,
      "outputs": [
        {
          "output_type": "stream",
          "text": [
            "/usr/local/lib/python3.7/dist-packages/ipykernel_launcher.py:2: SettingWithCopyWarning: \n",
            "A value is trying to be set on a copy of a slice from a DataFrame.\n",
            "Try using .loc[row_indexer,col_indexer] = value instead\n",
            "\n",
            "See the caveats in the documentation: https://pandas.pydata.org/pandas-docs/stable/user_guide/indexing.html#returning-a-view-versus-a-copy\n",
            "  \n"
          ],
          "name": "stderr"
        }
      ]
    },
    {
      "cell_type": "code",
      "metadata": {
        "colab": {
          "base_uri": "https://localhost:8080/",
          "height": 364
        },
        "id": "WgBlYbyAiYDF",
        "outputId": "dba7a005-639f-4819-8dfe-49867886ddb8"
      },
      "source": [
        "plt.style.use(\"seaborn-talk\")\n",
        "\n",
        "ax = df_consultas_filtrado['Tempo_espera'].plot.hist(title='Retorno para consultas agendadas', \n",
        "                                                                     figsize=(12, 5));\n",
        "ax.set_xlabel('Dias');"
      ],
      "execution_count": 29,
      "outputs": [
        {
          "output_type": "display_data",
          "data": {
            "image/png": "[encoded data removed]",
            "text/plain": [
              "<Figure size 864x360 with 1 Axes>"
            ]
          },
          "metadata": {
            "tags": [],
            "needs_background": "light"
          }
        }
      ]
    },
    {
      "cell_type": "code",
      "metadata": {
        "id": "vPi-I28TlGgx",
        "colab": {
          "base_uri": "https://localhost:8080/",
          "height": 377
        },
        "outputId": "ffaa040e-0c09-43f1-a7bc-7ae507681a72"
      },
      "source": [
        "df_consultas_filtrado.head()"
      ],
      "execution_count": 30,
      "outputs": [
        {
          "output_type": "execute_result",
          "data": {
            "text/html": [
              "<div>\n",
              "<style scoped>\n",
              "    .dataframe tbody tr th:only-of-type {\n",
              "        vertical-align: middle;\n",
              "    }\n",
              "\n",
              "    .dataframe tbody tr th {\n",
              "        vertical-align: top;\n",
              "    }\n",
              "\n",
              "    .dataframe thead th {\n",
              "        text-align: right;\n",
              "    }\n",
              "</style>\n",
              "<table border=\"1\" class=\"dataframe\">\n",
              "  <thead>\n",
              "    <tr style=\"text-align: right;\">\n",
              "      <th></th>\n",
              "      <th>Id_paciente</th>\n",
              "      <th>Id_consulta</th>\n",
              "      <th>Gênero</th>\n",
              "      <th>Dia_agendado</th>\n",
              "      <th>Dia_consulta</th>\n",
              "      <th>Idade</th>\n",
              "      <th>Bairro</th>\n",
              "      <th>Bolsa_família</th>\n",
              "      <th>Hipertensão</th>\n",
              "      <th>Diabetes</th>\n",
              "      <th>Alcoolismo</th>\n",
              "      <th>Deficiência</th>\n",
              "      <th>SMS_recebido</th>\n",
              "      <th>Não_comparecimento</th>\n",
              "      <th>Tempo_espera</th>\n",
              "      <th>Tempo_espera_bins</th>\n",
              "    </tr>\n",
              "  </thead>\n",
              "  <tbody>\n",
              "    <tr>\n",
              "      <th>0</th>\n",
              "      <td>2.987250e+13</td>\n",
              "      <td>5642903</td>\n",
              "      <td>F</td>\n",
              "      <td>2016-04-29 18:38:08+00:00</td>\n",
              "      <td>2016-04-29 00:00:00+00:00</td>\n",
              "      <td>62</td>\n",
              "      <td>JARDIM DA PENHA</td>\n",
              "      <td>0</td>\n",
              "      <td>1</td>\n",
              "      <td>0</td>\n",
              "      <td>0</td>\n",
              "      <td>0</td>\n",
              "      <td>0</td>\n",
              "      <td>No</td>\n",
              "      <td>0</td>\n",
              "      <td>mesmo dia</td>\n",
              "    </tr>\n",
              "    <tr>\n",
              "      <th>1</th>\n",
              "      <td>5.589978e+14</td>\n",
              "      <td>5642503</td>\n",
              "      <td>M</td>\n",
              "      <td>2016-04-29 16:08:27+00:00</td>\n",
              "      <td>2016-04-29 00:00:00+00:00</td>\n",
              "      <td>56</td>\n",
              "      <td>JARDIM DA PENHA</td>\n",
              "      <td>0</td>\n",
              "      <td>0</td>\n",
              "      <td>0</td>\n",
              "      <td>0</td>\n",
              "      <td>0</td>\n",
              "      <td>0</td>\n",
              "      <td>No</td>\n",
              "      <td>0</td>\n",
              "      <td>mesmo dia</td>\n",
              "    </tr>\n",
              "    <tr>\n",
              "      <th>2</th>\n",
              "      <td>4.262962e+12</td>\n",
              "      <td>5642549</td>\n",
              "      <td>F</td>\n",
              "      <td>2016-04-29 16:19:04+00:00</td>\n",
              "      <td>2016-04-29 00:00:00+00:00</td>\n",
              "      <td>62</td>\n",
              "      <td>MATA DA PRAIA</td>\n",
              "      <td>0</td>\n",
              "      <td>0</td>\n",
              "      <td>0</td>\n",
              "      <td>0</td>\n",
              "      <td>0</td>\n",
              "      <td>0</td>\n",
              "      <td>No</td>\n",
              "      <td>0</td>\n",
              "      <td>mesmo dia</td>\n",
              "    </tr>\n",
              "    <tr>\n",
              "      <th>3</th>\n",
              "      <td>8.679512e+11</td>\n",
              "      <td>5642828</td>\n",
              "      <td>F</td>\n",
              "      <td>2016-04-29 17:29:31+00:00</td>\n",
              "      <td>2016-04-29 00:00:00+00:00</td>\n",
              "      <td>8</td>\n",
              "      <td>PONTAL DE CAMBURI</td>\n",
              "      <td>0</td>\n",
              "      <td>0</td>\n",
              "      <td>0</td>\n",
              "      <td>0</td>\n",
              "      <td>0</td>\n",
              "      <td>0</td>\n",
              "      <td>No</td>\n",
              "      <td>0</td>\n",
              "      <td>mesmo dia</td>\n",
              "    </tr>\n",
              "    <tr>\n",
              "      <th>4</th>\n",
              "      <td>8.841186e+12</td>\n",
              "      <td>5642494</td>\n",
              "      <td>F</td>\n",
              "      <td>2016-04-29 16:07:23+00:00</td>\n",
              "      <td>2016-04-29 00:00:00+00:00</td>\n",
              "      <td>56</td>\n",
              "      <td>JARDIM DA PENHA</td>\n",
              "      <td>0</td>\n",
              "      <td>1</td>\n",
              "      <td>1</td>\n",
              "      <td>0</td>\n",
              "      <td>0</td>\n",
              "      <td>0</td>\n",
              "      <td>No</td>\n",
              "      <td>0</td>\n",
              "      <td>mesmo dia</td>\n",
              "    </tr>\n",
              "  </tbody>\n",
              "</table>\n",
              "</div>"
            ],
            "text/plain": [
              "    Id_paciente  Id_consulta  ... Tempo_espera Tempo_espera_bins\n",
              "0  2.987250e+13      5642903  ...            0         mesmo dia\n",
              "1  5.589978e+14      5642503  ...            0         mesmo dia\n",
              "2  4.262962e+12      5642549  ...            0         mesmo dia\n",
              "3  8.679512e+11      5642828  ...            0         mesmo dia\n",
              "4  8.841186e+12      5642494  ...            0         mesmo dia\n",
              "\n",
              "[5 rows x 16 columns]"
            ]
          },
          "metadata": {
            "tags": []
          },
          "execution_count": 30
        }
      ]
    },
    {
      "cell_type": "code",
      "metadata": {
        "id": "MrL6rHz7l37q",
        "colab": {
          "base_uri": "https://localhost:8080/"
        },
        "outputId": "ef8a244e-b313-4d0c-a0d2-63f683209bd3"
      },
      "source": [
        "# aplicando a transformação para os dados categóricos\n",
        "categoricas=['Bairro','Gênero','Não_comparecimento']\n",
        "for coluna in categoricas:\n",
        "  df_consultas_filtrado[coluna]= pd.Categorical(df_consultas_filtrado[coluna]).codes\n"
      ],
      "execution_count": 32,
      "outputs": [
        {
          "output_type": "stream",
          "text": [
            "/usr/local/lib/python3.7/dist-packages/ipykernel_launcher.py:4: SettingWithCopyWarning: \n",
            "A value is trying to be set on a copy of a slice from a DataFrame.\n",
            "Try using .loc[row_indexer,col_indexer] = value instead\n",
            "\n",
            "See the caveats in the documentation: https://pandas.pydata.org/pandas-docs/stable/user_guide/indexing.html#returning-a-view-versus-a-copy\n",
            "  after removing the cwd from sys.path.\n"
          ],
          "name": "stderr"
        }
      ]
    },
    {
      "cell_type": "code",
      "metadata": {
        "id": "simTYeVenjJm",
        "colab": {
          "base_uri": "https://localhost:8080/",
          "height": 453
        },
        "outputId": "32c199a1-7164-47f5-c927-c3f78e7f2704"
      },
      "source": [
        "df_consultas_filtrado.head(8)"
      ],
      "execution_count": 33,
      "outputs": [
        {
          "output_type": "execute_result",
          "data": {
            "text/html": [
              "<div>\n",
              "<style scoped>\n",
              "    .dataframe tbody tr th:only-of-type {\n",
              "        vertical-align: middle;\n",
              "    }\n",
              "\n",
              "    .dataframe tbody tr th {\n",
              "        vertical-align: top;\n",
              "    }\n",
              "\n",
              "    .dataframe thead th {\n",
              "        text-align: right;\n",
              "    }\n",
              "</style>\n",
              "<table border=\"1\" class=\"dataframe\">\n",
              "  <thead>\n",
              "    <tr style=\"text-align: right;\">\n",
              "      <th></th>\n",
              "      <th>Id_paciente</th>\n",
              "      <th>Id_consulta</th>\n",
              "      <th>Gênero</th>\n",
              "      <th>Dia_agendado</th>\n",
              "      <th>Dia_consulta</th>\n",
              "      <th>Idade</th>\n",
              "      <th>Bairro</th>\n",
              "      <th>Bolsa_família</th>\n",
              "      <th>Hipertensão</th>\n",
              "      <th>Diabetes</th>\n",
              "      <th>Alcoolismo</th>\n",
              "      <th>Deficiência</th>\n",
              "      <th>SMS_recebido</th>\n",
              "      <th>Não_comparecimento</th>\n",
              "      <th>Tempo_espera</th>\n",
              "      <th>Tempo_espera_bins</th>\n",
              "    </tr>\n",
              "  </thead>\n",
              "  <tbody>\n",
              "    <tr>\n",
              "      <th>0</th>\n",
              "      <td>2.987250e+13</td>\n",
              "      <td>5642903</td>\n",
              "      <td>0</td>\n",
              "      <td>2016-04-29 18:38:08+00:00</td>\n",
              "      <td>2016-04-29 00:00:00+00:00</td>\n",
              "      <td>62</td>\n",
              "      <td>39</td>\n",
              "      <td>0</td>\n",
              "      <td>1</td>\n",
              "      <td>0</td>\n",
              "      <td>0</td>\n",
              "      <td>0</td>\n",
              "      <td>0</td>\n",
              "      <td>0</td>\n",
              "      <td>0</td>\n",
              "      <td>mesmo dia</td>\n",
              "    </tr>\n",
              "    <tr>\n",
              "      <th>1</th>\n",
              "      <td>5.589978e+14</td>\n",
              "      <td>5642503</td>\n",
              "      <td>1</td>\n",
              "      <td>2016-04-29 16:08:27+00:00</td>\n",
              "      <td>2016-04-29 00:00:00+00:00</td>\n",
              "      <td>56</td>\n",
              "      <td>39</td>\n",
              "      <td>0</td>\n",
              "      <td>0</td>\n",
              "      <td>0</td>\n",
              "      <td>0</td>\n",
              "      <td>0</td>\n",
              "      <td>0</td>\n",
              "      <td>0</td>\n",
              "      <td>0</td>\n",
              "      <td>mesmo dia</td>\n",
              "    </tr>\n",
              "    <tr>\n",
              "      <th>2</th>\n",
              "      <td>4.262962e+12</td>\n",
              "      <td>5642549</td>\n",
              "      <td>0</td>\n",
              "      <td>2016-04-29 16:19:04+00:00</td>\n",
              "      <td>2016-04-29 00:00:00+00:00</td>\n",
              "      <td>62</td>\n",
              "      <td>45</td>\n",
              "      <td>0</td>\n",
              "      <td>0</td>\n",
              "      <td>0</td>\n",
              "      <td>0</td>\n",
              "      <td>0</td>\n",
              "      <td>0</td>\n",
              "      <td>0</td>\n",
              "      <td>0</td>\n",
              "      <td>mesmo dia</td>\n",
              "    </tr>\n",
              "    <tr>\n",
              "      <th>3</th>\n",
              "      <td>8.679512e+11</td>\n",
              "      <td>5642828</td>\n",
              "      <td>0</td>\n",
              "      <td>2016-04-29 17:29:31+00:00</td>\n",
              "      <td>2016-04-29 00:00:00+00:00</td>\n",
              "      <td>8</td>\n",
              "      <td>54</td>\n",
              "      <td>0</td>\n",
              "      <td>0</td>\n",
              "      <td>0</td>\n",
              "      <td>0</td>\n",
              "      <td>0</td>\n",
              "      <td>0</td>\n",
              "      <td>0</td>\n",
              "      <td>0</td>\n",
              "      <td>mesmo dia</td>\n",
              "    </tr>\n",
              "    <tr>\n",
              "      <th>4</th>\n",
              "      <td>8.841186e+12</td>\n",
              "      <td>5642494</td>\n",
              "      <td>0</td>\n",
              "      <td>2016-04-29 16:07:23+00:00</td>\n",
              "      <td>2016-04-29 00:00:00+00:00</td>\n",
              "      <td>56</td>\n",
              "      <td>39</td>\n",
              "      <td>0</td>\n",
              "      <td>1</td>\n",
              "      <td>1</td>\n",
              "      <td>0</td>\n",
              "      <td>0</td>\n",
              "      <td>0</td>\n",
              "      <td>0</td>\n",
              "      <td>0</td>\n",
              "      <td>mesmo dia</td>\n",
              "    </tr>\n",
              "    <tr>\n",
              "      <th>5</th>\n",
              "      <td>9.598513e+13</td>\n",
              "      <td>5626772</td>\n",
              "      <td>0</td>\n",
              "      <td>2016-04-27 08:36:51+00:00</td>\n",
              "      <td>2016-04-29 00:00:00+00:00</td>\n",
              "      <td>76</td>\n",
              "      <td>58</td>\n",
              "      <td>0</td>\n",
              "      <td>1</td>\n",
              "      <td>0</td>\n",
              "      <td>0</td>\n",
              "      <td>0</td>\n",
              "      <td>0</td>\n",
              "      <td>0</td>\n",
              "      <td>2</td>\n",
              "      <td>mesmo dia</td>\n",
              "    </tr>\n",
              "    <tr>\n",
              "      <th>6</th>\n",
              "      <td>7.336882e+14</td>\n",
              "      <td>5630279</td>\n",
              "      <td>0</td>\n",
              "      <td>2016-04-27 15:05:12+00:00</td>\n",
              "      <td>2016-04-29 00:00:00+00:00</td>\n",
              "      <td>23</td>\n",
              "      <td>25</td>\n",
              "      <td>0</td>\n",
              "      <td>0</td>\n",
              "      <td>0</td>\n",
              "      <td>0</td>\n",
              "      <td>0</td>\n",
              "      <td>0</td>\n",
              "      <td>1</td>\n",
              "      <td>2</td>\n",
              "      <td>mesmo dia</td>\n",
              "    </tr>\n",
              "    <tr>\n",
              "      <th>7</th>\n",
              "      <td>3.449833e+12</td>\n",
              "      <td>5630575</td>\n",
              "      <td>0</td>\n",
              "      <td>2016-04-27 15:39:58+00:00</td>\n",
              "      <td>2016-04-29 00:00:00+00:00</td>\n",
              "      <td>39</td>\n",
              "      <td>25</td>\n",
              "      <td>0</td>\n",
              "      <td>0</td>\n",
              "      <td>0</td>\n",
              "      <td>0</td>\n",
              "      <td>0</td>\n",
              "      <td>0</td>\n",
              "      <td>1</td>\n",
              "      <td>2</td>\n",
              "      <td>mesmo dia</td>\n",
              "    </tr>\n",
              "  </tbody>\n",
              "</table>\n",
              "</div>"
            ],
            "text/plain": [
              "    Id_paciente  Id_consulta  ...  Tempo_espera Tempo_espera_bins\n",
              "0  2.987250e+13      5642903  ...             0         mesmo dia\n",
              "1  5.589978e+14      5642503  ...             0         mesmo dia\n",
              "2  4.262962e+12      5642549  ...             0         mesmo dia\n",
              "3  8.679512e+11      5642828  ...             0         mesmo dia\n",
              "4  8.841186e+12      5642494  ...             0         mesmo dia\n",
              "5  9.598513e+13      5626772  ...             2         mesmo dia\n",
              "6  7.336882e+14      5630279  ...             2         mesmo dia\n",
              "7  3.449833e+12      5630575  ...             2         mesmo dia\n",
              "\n",
              "[8 rows x 16 columns]"
            ]
          },
          "metadata": {
            "tags": []
          },
          "execution_count": 33
        }
      ]
    },
    {
      "cell_type": "markdown",
      "metadata": {
        "id": "E8rezcUsnsys"
      },
      "source": [
        "**Qual o tipo de transformação foi utilizada?**"
      ]
    },
    {
      "cell_type": "code",
      "metadata": {
        "id": "wD15PJ3Vn3Y6",
        "colab": {
          "base_uri": "https://localhost:8080/",
          "height": 478
        },
        "outputId": "35319762-012a-43e2-8a46-94c305bf76a6"
      },
      "source": [
        "# analisando os SMS enviados e o número de vezes que o paciente compareceu ou não \n",
        "sms_x_comparecer = df_consultas_filtrado.groupby(['SMS_recebido', 'Não_comparecimento'])['SMS_recebido'].count().unstack('Não_comparecimento').fillna(0)\n",
        "sms_x_comparecer[[0, 1]].plot(kind='bar', stacked=True) \n",
        "plt.title('Analise do número de SMS recebido e se a paciente compareceu ou não à consulta') \n",
        "plt.xlabel('Numero de SMS recebidos') \n",
        "plt.ylabel('Frequência');"
      ],
      "execution_count": 36,
      "outputs": [
        {
          "output_type": "display_data",
          "data": {
            "image/png": "[encoded data removed]",
            "text/plain": [
              "<Figure size 748.8x514.8 with 1 Axes>"
            ]
          },
          "metadata": {
            "tags": [],
            "needs_background": "light"
          }
        }
      ]
    },
    {
      "cell_type": "code",
      "metadata": {
        "id": "jyLMIaYSrXyN",
        "colab": {
          "base_uri": "https://localhost:8080/",
          "height": 142
        },
        "outputId": "f8aa76bf-57f3-4bed-b6cc-d7147b7eaa13"
      },
      "source": [
        "sms_x_comparecer"
      ],
      "execution_count": 37,
      "outputs": [
        {
          "output_type": "execute_result",
          "data": {
            "text/html": [
              "<div>\n",
              "<style scoped>\n",
              "    .dataframe tbody tr th:only-of-type {\n",
              "        vertical-align: middle;\n",
              "    }\n",
              "\n",
              "    .dataframe tbody tr th {\n",
              "        vertical-align: top;\n",
              "    }\n",
              "\n",
              "    .dataframe thead th {\n",
              "        text-align: right;\n",
              "    }\n",
              "</style>\n",
              "<table border=\"1\" class=\"dataframe\">\n",
              "  <thead>\n",
              "    <tr style=\"text-align: right;\">\n",
              "      <th>Não_comparecimento</th>\n",
              "      <th>0</th>\n",
              "      <th>1</th>\n",
              "    </tr>\n",
              "    <tr>\n",
              "      <th>SMS_recebido</th>\n",
              "      <th></th>\n",
              "      <th></th>\n",
              "    </tr>\n",
              "  </thead>\n",
              "  <tbody>\n",
              "    <tr>\n",
              "      <th>0</th>\n",
              "      <td>62509</td>\n",
              "      <td>12535</td>\n",
              "    </tr>\n",
              "    <tr>\n",
              "      <th>1</th>\n",
              "      <td>25698</td>\n",
              "      <td>9784</td>\n",
              "    </tr>\n",
              "  </tbody>\n",
              "</table>\n",
              "</div>"
            ],
            "text/plain": [
              "Não_comparecimento      0      1\n",
              "SMS_recebido                    \n",
              "0                   62509  12535\n",
              "1                   25698   9784"
            ]
          },
          "metadata": {
            "tags": []
          },
          "execution_count": 37
        }
      ]
    },
    {
      "cell_type": "markdown",
      "metadata": {
        "id": "_aavr6TOFmtv"
      },
      "source": [
        "**Qual é a proporção de pacientes que receberam o sms e NÃO compareceram?**"
      ]
    },
    {
      "cell_type": "code",
      "metadata": {
        "id": "3zyTyOiKIfwD",
        "colab": {
          "base_uri": "https://localhost:8080/",
          "height": 573
        },
        "outputId": "86fede2c-30c0-463a-882f-ba191aded7cc"
      },
      "source": [
        "#plotando o número de consultas por região \n",
        "regioes = df_consultas_filtrado['Bairro'].unique()\n",
        "plt.figure(figsize=(22,10))\n",
        "ax = sns.countplot(x='Bairro', data=df_consultas_filtrado, order=regioes)\n",
        "ax.set_xticklabels(ax.get_xticklabels(), rotation=45, ha=\"right\", fontsize=8)\n",
        "plt.title('Consultas por região', fontsize=14, fontweight='bold')\n",
        "plt.show();"
      ],
      "execution_count": 41,
      "outputs": [
        {
          "output_type": "display_data",
          "data": {
            "image/png": "[encoded data removed]",
            "text/plain": [
              "<Figure size 1584x720 with 1 Axes>"
            ]
          },
          "metadata": {
            "tags": [],
            "needs_background": "light"
          }
        }
      ]
    },
    {
      "cell_type": "markdown",
      "metadata": {
        "id": "YfpMyeMYJbNz"
      },
      "source": [
        "**Qual região possui o maior número de consultas marcadas?**"
      ]
    },
    {
      "cell_type": "code",
      "metadata": {
        "id": "ZXF5pb3eGdvA"
      },
      "source": [
        "#selecionando os dados para a construção da previsão\n",
        "entradas = ['Gênero','Idade','Bairro','Bolsa_família','Hipertensão',\n",
        "            'Diabetes','Alcoolismo','SMS_recebido','Tempo_espera']\n",
        "saida = ['Não_comparecimento']"
      ],
      "execution_count": 42,
      "outputs": []
    },
    {
      "cell_type": "code",
      "metadata": {
        "id": "uwQyjt0cKZ0A"
      },
      "source": [
        "x = df_consultas_filtrado[entradas]\n",
        "y = df_consultas_filtrado[saida]"
      ],
      "execution_count": 43,
      "outputs": []
    },
    {
      "cell_type": "code",
      "metadata": {
        "id": "naQ0S8IfJxgz"
      },
      "source": [
        "from sklearn.model_selection import train_test_split\n",
        "x_train, x_test, y_train, y_test = train_test_split(x, y, test_size=0.3, random_state=1) "
      ],
      "execution_count": 44,
      "outputs": []
    },
    {
      "cell_type": "code",
      "metadata": {
        "id": "rC0wxjvOKkAn",
        "colab": {
          "base_uri": "https://localhost:8080/"
        },
        "outputId": "4ec316a1-0576-477f-f2af-57d3b7d3997e"
      },
      "source": [
        "x_train.shape"
      ],
      "execution_count": 45,
      "outputs": [
        {
          "output_type": "execute_result",
          "data": {
            "text/plain": [
              "(77368, 9)"
            ]
          },
          "metadata": {
            "tags": []
          },
          "execution_count": 45
        }
      ]
    },
    {
      "cell_type": "code",
      "metadata": {
        "id": "9UgADdeJKn5v",
        "colab": {
          "base_uri": "https://localhost:8080/"
        },
        "outputId": "14012ba2-dceb-4a34-d836-9801db5a6de8"
      },
      "source": [
        "# aplicando um modelo de classificação - árvore de decisão\n",
        "# importando a biblioteca\n",
        "from sklearn.tree import DecisionTreeClassifier\n",
        "\n",
        "clf_arvore = DecisionTreeClassifier()   # instanciando o algoritmo\n",
        "clf_arvore.fit(x_train, y_train)  # treinando o modelo"
      ],
      "execution_count": 46,
      "outputs": [
        {
          "output_type": "execute_result",
          "data": {
            "text/plain": [
              "DecisionTreeClassifier(ccp_alpha=0.0, class_weight=None, criterion='gini',\n",
              "                       max_depth=None, max_features=None, max_leaf_nodes=None,\n",
              "                       min_impurity_decrease=0.0, min_impurity_split=None,\n",
              "                       min_samples_leaf=1, min_samples_split=2,\n",
              "                       min_weight_fraction_leaf=0.0, presort='deprecated',\n",
              "                       random_state=None, splitter='best')"
            ]
          },
          "metadata": {
            "tags": []
          },
          "execution_count": 46
        }
      ]
    },
    {
      "cell_type": "code",
      "metadata": {
        "id": "ka_hiy7xLAwg"
      },
      "source": [
        "# realizando a previsão com os dados\n",
        "y_previsto = clf_arvore.predict(x_test) "
      ],
      "execution_count": 47,
      "outputs": []
    },
    {
      "cell_type": "code",
      "metadata": {
        "id": "0A5nhhyVMJiY",
        "colab": {
          "base_uri": "https://localhost:8080/"
        },
        "outputId": "3a1b9383-d7db-4d9f-fa17-4b460cab7fdd"
      },
      "source": [
        "# avaliando acurácia do modelo\n",
        "# importando a biblioteca\n",
        "from sklearn.metrics import accuracy_score\n",
        "\n",
        "acuracia = accuracy_score(y_test, y_previsto)\n",
        "print('Acurácia da àrvore de Decisão: ',acuracia)"
      ],
      "execution_count": 48,
      "outputs": [
        {
          "output_type": "stream",
          "text": [
            "Acurácia da àrvore de Decisão:  0.7335786235599252\n"
          ],
          "name": "stdout"
        }
      ]
    },
    {
      "cell_type": "code",
      "metadata": {
        "id": "nE-ltwzZMy8g",
        "colab": {
          "base_uri": "https://localhost:8080/"
        },
        "outputId": "fa0f1d9f-7ab0-4542-adbc-b2305a2ef8eb"
      },
      "source": [
        "# contruindo a matriz de confusão\n",
        "# importando a biblioteca\n",
        "from sklearn.metrics import classification_report, confusion_matrix\n",
        "\n",
        "matriz_confusao = confusion_matrix(y_test, y_previsto)\n",
        "print(matriz_confusao)"
      ],
      "execution_count": 49,
      "outputs": [
        {
          "output_type": "stream",
          "text": [
            "[[22227  4258]\n",
            " [ 4576  2097]]\n"
          ],
          "name": "stdout"
        }
      ]
    },
    {
      "cell_type": "code",
      "metadata": {
        "id": "TJkJds5DZpoi",
        "colab": {
          "base_uri": "https://localhost:8080/"
        },
        "outputId": "6c076652-a484-4f25-d2cf-3d20e00521ce"
      },
      "source": [
        "# relatório geral\n",
        "print(classification_report(y_test,y_previsto))"
      ],
      "execution_count": 50,
      "outputs": [
        {
          "output_type": "stream",
          "text": [
            "              precision    recall  f1-score   support\n",
            "\n",
            "           0       0.83      0.84      0.83     26485\n",
            "           1       0.33      0.31      0.32      6673\n",
            "\n",
            "    accuracy                           0.73     33158\n",
            "   macro avg       0.58      0.58      0.58     33158\n",
            "weighted avg       0.73      0.73      0.73     33158\n",
            "\n"
          ],
          "name": "stdout"
        }
      ]
    },
    {
      "cell_type": "code",
      "metadata": {
        "id": "m98v2mF0N5hX",
        "colab": {
          "base_uri": "https://localhost:8080/",
          "height": 463
        },
        "outputId": "70b04040-4218-400b-e551-20bfbc8a18c2"
      },
      "source": [
        "# plotando a matriz de confusão\n",
        "# importando a biblioteca\n",
        "from mlxtend.plotting import plot_confusion_matrix\n",
        "\n",
        "fig, ax = plot_confusion_matrix(conf_mat=matriz_confusao)\n",
        "plt.show();"
      ],
      "execution_count": 52,
      "outputs": [
        {
          "output_type": "display_data",
          "data": {
            "image/png": "[encoded data removed]",
            "text/plain": [
              "<Figure size 748.8x514.8 with 1 Axes>"
            ]
          },
          "metadata": {
            "tags": [],
            "needs_background": "light"
          }
        }
      ]
    },
    {
      "cell_type": "markdown",
      "metadata": {
        "id": "1W7M5SQRlddO"
      },
      "source": [
        "**Material de consulta**\n",
        "- https://www.kaggle.com/catherinenewcomb/attendance-of-medical-appts"
      ]
    }
  ]
}