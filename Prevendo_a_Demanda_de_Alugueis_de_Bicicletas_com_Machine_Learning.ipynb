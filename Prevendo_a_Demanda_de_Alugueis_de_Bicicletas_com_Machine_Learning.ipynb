{
  "nbformat": 4,
  "nbformat_minor": 0,
  "metadata": {
    "colab": {
      "name": "Prevendo a Demanda de Alugueis de Bicicletas com Machine Learning.ipynb",
      "provenance": [],
      "collapsed_sections": [],
      "authorship_tag": "ABX9TyN4a8HSJDHvaVPVSbY1ccCD",
      "include_colab_link": true
    },
    "kernelspec": {
      "name": "python3",
      "display_name": "Python 3"
    },
    "language_info": {
      "name": "python"
    }
  },
  "cells": [
    {
      "cell_type": "markdown",
      "metadata": {
        "id": "view-in-github",
        "colab_type": "text"
      },
      "source": [
        "<a href=\"https://colab.research.google.com/github/FGalvao77/data-science-projects/blob/main/Prevendo_a_Demanda_de_Alugueis_de_Bicicletas_com_Machine_Learning.ipynb\" target=\"_parent\"><img src=\"https://colab.research.google.com/assets/colab-badge.svg\" alt=\"Open In Colab\"/></a>"
      ]
    },
    {
      "cell_type": "markdown",
      "metadata": {
        "id": "DfK0zaDrtkVo"
      },
      "source": [
        "# **Prevendo a Demanda de Aluguéis de Bicicletas**"
      ]
    },
    {
      "cell_type": "markdown",
      "metadata": {
        "id": "orncKUZQtuB3"
      },
      "source": [
        "Os sistemas de compartilhamento de bicicletas são a nova geração de aluguel de bicicletas tradicionais, onde todo o processo de associação, aluguel e devolução se tornou automático.\n",
        "\n",
        "Através desses sistemas, o usuário pode alugar facilmente uma bicicleta de uma posição específica e retornar para outra posição.\n",
        "\n",
        "Atualmente, existem cerca de 500 programas de compartilhamento de bicicletas em todo o mundo, compostos por mais de 500 mil bicicletas.\n",
        "\n",
        "Hoje, existe um grande interesse nesses sistemas devido ao seu importante papel nos problemas de tráfego, ambientais e de saúde.\n",
        "\n",
        "Ao contrário de outros serviços de transporte, como ônibus ou metrô, a duração da viagem, a partida e a posição de chegada são explicitamente registradas nesses sistemas.\n",
        "\n",
        "Nesse artigo o nosso objetivo é testar diferentes tipos de algoritmos de regressão para prever a quantidade de bicicletas alugadas.\n",
        "\n",
        "A ``Regressão`` é uma técnica que busca entender a relação de uma variável dependente(variável de resposta) com variáveis independentes, nesse tipo de problema o valor que iremos **predizer será sempre contínuo**."
      ]
    },
    {
      "cell_type": "markdown",
      "metadata": {
        "id": "Uyt7-gHLt2II"
      },
      "source": [
        "Vamos utilizar um conjunto de dados que está disponível no repositório UCI\n",
        " - https://archive.ics.uci.edu/ml/datasets/bike+sharing+dataset"
      ]
    },
    {
      "cell_type": "code",
      "metadata": {
        "id": "CSu30LW6tIP6"
      },
      "source": [
        "# importando as bibliotecas\n",
        "import pandas as pd\n",
        "import numpy as np\n",
        "import matplotlib.pyplot as plt\n",
        "import seaborn as sns\n",
        "from sklearn.linear_model import LinearRegression\n",
        "from sklearn.metrics import mean_squared_error\n",
        "from sklearn.tree import DecisionTreeRegressor\n",
        "from sklearn.ensemble import RandomForestRegressor\n",
        "\n",
        "%matplotlib inline"
      ],
      "execution_count": null,
      "outputs": []
    },
    {
      "cell_type": "code",
      "metadata": {
        "colab": {
          "resources": {
            "http://localhost:8080/nbextensions/google.colab/files.js": {
              "data": "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",
              "ok": true,
              "headers": [
                [
                  "content-type",
                  "application/javascript"
                ]
              ],
              "status": 200,
              "status_text": ""
            }
          },
          "base_uri": "https://localhost:8080/",
          "height": 72
        },
        "id": "zedJyfMAt70f",
        "outputId": "4ec41902-c554-41f8-c548-3a37443346ab"
      },
      "source": [
        "# realizando o carregamento do conjunto de dados para google colab\n",
        "from google.colab import files  # biblioteca utilizada para carregar os dados para o google colab\n",
        "uploaded = files.upload()"
      ],
      "execution_count": null,
      "outputs": [
        {
          "output_type": "display_data",
          "data": {
            "text/html": [
              "\n",
              "     <input type=\"file\" id=\"files-a59da8e5-9d08-45e3-bc4e-3f13fe7920b8\" name=\"files[]\" multiple disabled\n",
              "        style=\"border:none\" />\n",
              "     <output id=\"result-a59da8e5-9d08-45e3-bc4e-3f13fe7920b8\">\n",
              "      Upload widget is only available when the cell has been executed in the\n",
              "      current browser session. Please rerun this cell to enable.\n",
              "      </output>\n",
              "      <script src=\"/nbextensions/google.colab/files.js\"></script> "
            ],
            "text/plain": [
              "<IPython.core.display.HTML object>"
            ]
          },
          "metadata": {
            "tags": []
          }
        },
        {
          "output_type": "stream",
          "text": [
            "Saving hour.csv to hour.csv\n"
          ],
          "name": "stdout"
        }
      ]
    },
    {
      "cell_type": "code",
      "metadata": {
        "colab": {
          "base_uri": "https://localhost:8080/",
          "height": 359
        },
        "id": "zj6AR9FMt7zc",
        "outputId": "11dc806b-0b0f-4339-d379-aba6d9dbf551"
      },
      "source": [
        "# carregando e visualizando a base de dados\n",
        "bike = pd.read_csv('hour.csv')\n",
        "bike.head(10)   # as 10 primeiras linhas"
      ],
      "execution_count": null,
      "outputs": [
        {
          "output_type": "execute_result",
          "data": {
            "text/html": [
              "<div>\n",
              "<style scoped>\n",
              "    .dataframe tbody tr th:only-of-type {\n",
              "        vertical-align: middle;\n",
              "    }\n",
              "\n",
              "    .dataframe tbody tr th {\n",
              "        vertical-align: top;\n",
              "    }\n",
              "\n",
              "    .dataframe thead th {\n",
              "        text-align: right;\n",
              "    }\n",
              "</style>\n",
              "<table border=\"1\" class=\"dataframe\">\n",
              "  <thead>\n",
              "    <tr style=\"text-align: right;\">\n",
              "      <th></th>\n",
              "      <th>instant</th>\n",
              "      <th>dteday</th>\n",
              "      <th>season</th>\n",
              "      <th>yr</th>\n",
              "      <th>mnth</th>\n",
              "      <th>hr</th>\n",
              "      <th>holiday</th>\n",
              "      <th>weekday</th>\n",
              "      <th>workingday</th>\n",
              "      <th>weathersit</th>\n",
              "      <th>temp</th>\n",
              "      <th>atemp</th>\n",
              "      <th>hum</th>\n",
              "      <th>windspeed</th>\n",
              "      <th>casual</th>\n",
              "      <th>registered</th>\n",
              "      <th>cnt</th>\n",
              "    </tr>\n",
              "  </thead>\n",
              "  <tbody>\n",
              "    <tr>\n",
              "      <th>0</th>\n",
              "      <td>1</td>\n",
              "      <td>2011-01-01</td>\n",
              "      <td>1</td>\n",
              "      <td>0</td>\n",
              "      <td>1</td>\n",
              "      <td>0</td>\n",
              "      <td>0</td>\n",
              "      <td>6</td>\n",
              "      <td>0</td>\n",
              "      <td>1</td>\n",
              "      <td>0.24</td>\n",
              "      <td>0.2879</td>\n",
              "      <td>0.81</td>\n",
              "      <td>0.0000</td>\n",
              "      <td>3</td>\n",
              "      <td>13</td>\n",
              "      <td>16</td>\n",
              "    </tr>\n",
              "    <tr>\n",
              "      <th>1</th>\n",
              "      <td>2</td>\n",
              "      <td>2011-01-01</td>\n",
              "      <td>1</td>\n",
              "      <td>0</td>\n",
              "      <td>1</td>\n",
              "      <td>1</td>\n",
              "      <td>0</td>\n",
              "      <td>6</td>\n",
              "      <td>0</td>\n",
              "      <td>1</td>\n",
              "      <td>0.22</td>\n",
              "      <td>0.2727</td>\n",
              "      <td>0.80</td>\n",
              "      <td>0.0000</td>\n",
              "      <td>8</td>\n",
              "      <td>32</td>\n",
              "      <td>40</td>\n",
              "    </tr>\n",
              "    <tr>\n",
              "      <th>2</th>\n",
              "      <td>3</td>\n",
              "      <td>2011-01-01</td>\n",
              "      <td>1</td>\n",
              "      <td>0</td>\n",
              "      <td>1</td>\n",
              "      <td>2</td>\n",
              "      <td>0</td>\n",
              "      <td>6</td>\n",
              "      <td>0</td>\n",
              "      <td>1</td>\n",
              "      <td>0.22</td>\n",
              "      <td>0.2727</td>\n",
              "      <td>0.80</td>\n",
              "      <td>0.0000</td>\n",
              "      <td>5</td>\n",
              "      <td>27</td>\n",
              "      <td>32</td>\n",
              "    </tr>\n",
              "    <tr>\n",
              "      <th>3</th>\n",
              "      <td>4</td>\n",
              "      <td>2011-01-01</td>\n",
              "      <td>1</td>\n",
              "      <td>0</td>\n",
              "      <td>1</td>\n",
              "      <td>3</td>\n",
              "      <td>0</td>\n",
              "      <td>6</td>\n",
              "      <td>0</td>\n",
              "      <td>1</td>\n",
              "      <td>0.24</td>\n",
              "      <td>0.2879</td>\n",
              "      <td>0.75</td>\n",
              "      <td>0.0000</td>\n",
              "      <td>3</td>\n",
              "      <td>10</td>\n",
              "      <td>13</td>\n",
              "    </tr>\n",
              "    <tr>\n",
              "      <th>4</th>\n",
              "      <td>5</td>\n",
              "      <td>2011-01-01</td>\n",
              "      <td>1</td>\n",
              "      <td>0</td>\n",
              "      <td>1</td>\n",
              "      <td>4</td>\n",
              "      <td>0</td>\n",
              "      <td>6</td>\n",
              "      <td>0</td>\n",
              "      <td>1</td>\n",
              "      <td>0.24</td>\n",
              "      <td>0.2879</td>\n",
              "      <td>0.75</td>\n",
              "      <td>0.0000</td>\n",
              "      <td>0</td>\n",
              "      <td>1</td>\n",
              "      <td>1</td>\n",
              "    </tr>\n",
              "    <tr>\n",
              "      <th>5</th>\n",
              "      <td>6</td>\n",
              "      <td>2011-01-01</td>\n",
              "      <td>1</td>\n",
              "      <td>0</td>\n",
              "      <td>1</td>\n",
              "      <td>5</td>\n",
              "      <td>0</td>\n",
              "      <td>6</td>\n",
              "      <td>0</td>\n",
              "      <td>2</td>\n",
              "      <td>0.24</td>\n",
              "      <td>0.2576</td>\n",
              "      <td>0.75</td>\n",
              "      <td>0.0896</td>\n",
              "      <td>0</td>\n",
              "      <td>1</td>\n",
              "      <td>1</td>\n",
              "    </tr>\n",
              "    <tr>\n",
              "      <th>6</th>\n",
              "      <td>7</td>\n",
              "      <td>2011-01-01</td>\n",
              "      <td>1</td>\n",
              "      <td>0</td>\n",
              "      <td>1</td>\n",
              "      <td>6</td>\n",
              "      <td>0</td>\n",
              "      <td>6</td>\n",
              "      <td>0</td>\n",
              "      <td>1</td>\n",
              "      <td>0.22</td>\n",
              "      <td>0.2727</td>\n",
              "      <td>0.80</td>\n",
              "      <td>0.0000</td>\n",
              "      <td>2</td>\n",
              "      <td>0</td>\n",
              "      <td>2</td>\n",
              "    </tr>\n",
              "    <tr>\n",
              "      <th>7</th>\n",
              "      <td>8</td>\n",
              "      <td>2011-01-01</td>\n",
              "      <td>1</td>\n",
              "      <td>0</td>\n",
              "      <td>1</td>\n",
              "      <td>7</td>\n",
              "      <td>0</td>\n",
              "      <td>6</td>\n",
              "      <td>0</td>\n",
              "      <td>1</td>\n",
              "      <td>0.20</td>\n",
              "      <td>0.2576</td>\n",
              "      <td>0.86</td>\n",
              "      <td>0.0000</td>\n",
              "      <td>1</td>\n",
              "      <td>2</td>\n",
              "      <td>3</td>\n",
              "    </tr>\n",
              "    <tr>\n",
              "      <th>8</th>\n",
              "      <td>9</td>\n",
              "      <td>2011-01-01</td>\n",
              "      <td>1</td>\n",
              "      <td>0</td>\n",
              "      <td>1</td>\n",
              "      <td>8</td>\n",
              "      <td>0</td>\n",
              "      <td>6</td>\n",
              "      <td>0</td>\n",
              "      <td>1</td>\n",
              "      <td>0.24</td>\n",
              "      <td>0.2879</td>\n",
              "      <td>0.75</td>\n",
              "      <td>0.0000</td>\n",
              "      <td>1</td>\n",
              "      <td>7</td>\n",
              "      <td>8</td>\n",
              "    </tr>\n",
              "    <tr>\n",
              "      <th>9</th>\n",
              "      <td>10</td>\n",
              "      <td>2011-01-01</td>\n",
              "      <td>1</td>\n",
              "      <td>0</td>\n",
              "      <td>1</td>\n",
              "      <td>9</td>\n",
              "      <td>0</td>\n",
              "      <td>6</td>\n",
              "      <td>0</td>\n",
              "      <td>1</td>\n",
              "      <td>0.32</td>\n",
              "      <td>0.3485</td>\n",
              "      <td>0.76</td>\n",
              "      <td>0.0000</td>\n",
              "      <td>8</td>\n",
              "      <td>6</td>\n",
              "      <td>14</td>\n",
              "    </tr>\n",
              "  </tbody>\n",
              "</table>\n",
              "</div>"
            ],
            "text/plain": [
              "   instant      dteday  season  yr  ...  windspeed  casual  registered  cnt\n",
              "0        1  2011-01-01       1   0  ...     0.0000       3          13   16\n",
              "1        2  2011-01-01       1   0  ...     0.0000       8          32   40\n",
              "2        3  2011-01-01       1   0  ...     0.0000       5          27   32\n",
              "3        4  2011-01-01       1   0  ...     0.0000       3          10   13\n",
              "4        5  2011-01-01       1   0  ...     0.0000       0           1    1\n",
              "5        6  2011-01-01       1   0  ...     0.0896       0           1    1\n",
              "6        7  2011-01-01       1   0  ...     0.0000       2           0    2\n",
              "7        8  2011-01-01       1   0  ...     0.0000       1           2    3\n",
              "8        9  2011-01-01       1   0  ...     0.0000       1           7    8\n",
              "9       10  2011-01-01       1   0  ...     0.0000       8           6   14\n",
              "\n",
              "[10 rows x 17 columns]"
            ]
          },
          "metadata": {
            "tags": []
          },
          "execution_count": 4
        }
      ]
    },
    {
      "cell_type": "markdown",
      "metadata": {
        "id": "WEeLoH7DvkHG"
      },
      "source": [
        "**Entendendo a base de dados**"
      ]
    },
    {
      "cell_type": "markdown",
      "metadata": {
        "id": "Fld8yKUJvoX1"
      },
      "source": [
        "- ``instant``: índice de registro\n",
        "- ``dteday``: data do aluguel (ano-mês-dia)\n",
        "- ``season``: estação (1: inverno, 2: primavera, 3: verão, 4: outono)\n",
        "- ``yr``: ano (0: 2011, 1: 2012)\n",
        "- ``mnth``: mês (1 a 12)\n",
        "- ``hr``: hora (0 a 23)\n",
        "- ``holiday``: o dia com clima é feriado ou não (extraído de [Web Link])\n",
        "- ``weekday``: dia da semana\n",
        "- ``workingday``: se o dia não for final de semana nem feriado, for 1, caso contrário será 0 – equivalente ao dia útil.\n",
        "- ``weathersit``: tempo\n",
        "  - 1: limpo, poucas nuvens, parcialmente nublado, parcialmente nublado\n",
        "  - 2: névoa + nublado, névoa + nuvens partidas, névoa + poucas nuvens, névoa\n",
        "3: neve fraca, chuva fraca + trovoada + nuvens dispersas, chuva fraca + nuvens dispersas\n",
        "  - 4: chuva forte + paletes de gelo + trovoada + névoa, neve + nevoeiro\n",
        "- ``temp``: temperatura normalizada em graus Celsius. Os valores são derivados de (t-t_min) / (t_max-t_min), t_min = -8, t_max = + 39 (apenas na escala horária)\n",
        "- ``atemp``: temperatura normal de sensação em graus Celsius. Os valores são derivados de (t-t_min) / (t_max-t_min), t_min = -16, t_max = + 50 (apenas na escala horária)\n",
        "- ``hum``: umidade normalizada. Os valores são divididos em 100 (máximo)\n",
        "windspeed: velocidade do vento normalizada. Os valores são divididos em 67 (máximo)\n",
        "- ``casual``: número de usuários casuais\n",
        "- ``registered``: número de usuários registrados\n",
        "- ``cnt``: contagem do total de bicicletas alugadas, incluindo bicicletas casuais e registradas (variável target)"
      ]
    },
    {
      "cell_type": "markdown",
      "metadata": {
        "id": "FP_RynNNwelP"
      },
      "source": [
        "## **Análise de Dados e Pré-processamento de Dados**"
      ]
    },
    {
      "cell_type": "code",
      "metadata": {
        "colab": {
          "base_uri": "https://localhost:8080/",
          "height": 545
        },
        "id": "ZMjI4RCnt7TH",
        "outputId": "490971c1-6e1c-433d-afc2-640cd049c647"
      },
      "source": [
        "# informações estatísticas da base de dados\n",
        "bike.describe().T"
      ],
      "execution_count": null,
      "outputs": [
        {
          "output_type": "execute_result",
          "data": {
            "text/html": [
              "<div>\n",
              "<style scoped>\n",
              "    .dataframe tbody tr th:only-of-type {\n",
              "        vertical-align: middle;\n",
              "    }\n",
              "\n",
              "    .dataframe tbody tr th {\n",
              "        vertical-align: top;\n",
              "    }\n",
              "\n",
              "    .dataframe thead th {\n",
              "        text-align: right;\n",
              "    }\n",
              "</style>\n",
              "<table border=\"1\" class=\"dataframe\">\n",
              "  <thead>\n",
              "    <tr style=\"text-align: right;\">\n",
              "      <th></th>\n",
              "      <th>count</th>\n",
              "      <th>mean</th>\n",
              "      <th>std</th>\n",
              "      <th>min</th>\n",
              "      <th>25%</th>\n",
              "      <th>50%</th>\n",
              "      <th>75%</th>\n",
              "      <th>max</th>\n",
              "    </tr>\n",
              "  </thead>\n",
              "  <tbody>\n",
              "    <tr>\n",
              "      <th>instant</th>\n",
              "      <td>17379.0</td>\n",
              "      <td>8690.000000</td>\n",
              "      <td>5017.029500</td>\n",
              "      <td>1.00</td>\n",
              "      <td>4345.5000</td>\n",
              "      <td>8690.0000</td>\n",
              "      <td>13034.5000</td>\n",
              "      <td>17379.0000</td>\n",
              "    </tr>\n",
              "    <tr>\n",
              "      <th>season</th>\n",
              "      <td>17379.0</td>\n",
              "      <td>2.501640</td>\n",
              "      <td>1.106918</td>\n",
              "      <td>1.00</td>\n",
              "      <td>2.0000</td>\n",
              "      <td>3.0000</td>\n",
              "      <td>3.0000</td>\n",
              "      <td>4.0000</td>\n",
              "    </tr>\n",
              "    <tr>\n",
              "      <th>yr</th>\n",
              "      <td>17379.0</td>\n",
              "      <td>0.502561</td>\n",
              "      <td>0.500008</td>\n",
              "      <td>0.00</td>\n",
              "      <td>0.0000</td>\n",
              "      <td>1.0000</td>\n",
              "      <td>1.0000</td>\n",
              "      <td>1.0000</td>\n",
              "    </tr>\n",
              "    <tr>\n",
              "      <th>mnth</th>\n",
              "      <td>17379.0</td>\n",
              "      <td>6.537775</td>\n",
              "      <td>3.438776</td>\n",
              "      <td>1.00</td>\n",
              "      <td>4.0000</td>\n",
              "      <td>7.0000</td>\n",
              "      <td>10.0000</td>\n",
              "      <td>12.0000</td>\n",
              "    </tr>\n",
              "    <tr>\n",
              "      <th>hr</th>\n",
              "      <td>17379.0</td>\n",
              "      <td>11.546752</td>\n",
              "      <td>6.914405</td>\n",
              "      <td>0.00</td>\n",
              "      <td>6.0000</td>\n",
              "      <td>12.0000</td>\n",
              "      <td>18.0000</td>\n",
              "      <td>23.0000</td>\n",
              "    </tr>\n",
              "    <tr>\n",
              "      <th>holiday</th>\n",
              "      <td>17379.0</td>\n",
              "      <td>0.028770</td>\n",
              "      <td>0.167165</td>\n",
              "      <td>0.00</td>\n",
              "      <td>0.0000</td>\n",
              "      <td>0.0000</td>\n",
              "      <td>0.0000</td>\n",
              "      <td>1.0000</td>\n",
              "    </tr>\n",
              "    <tr>\n",
              "      <th>weekday</th>\n",
              "      <td>17379.0</td>\n",
              "      <td>3.003683</td>\n",
              "      <td>2.005771</td>\n",
              "      <td>0.00</td>\n",
              "      <td>1.0000</td>\n",
              "      <td>3.0000</td>\n",
              "      <td>5.0000</td>\n",
              "      <td>6.0000</td>\n",
              "    </tr>\n",
              "    <tr>\n",
              "      <th>workingday</th>\n",
              "      <td>17379.0</td>\n",
              "      <td>0.682721</td>\n",
              "      <td>0.465431</td>\n",
              "      <td>0.00</td>\n",
              "      <td>0.0000</td>\n",
              "      <td>1.0000</td>\n",
              "      <td>1.0000</td>\n",
              "      <td>1.0000</td>\n",
              "    </tr>\n",
              "    <tr>\n",
              "      <th>weathersit</th>\n",
              "      <td>17379.0</td>\n",
              "      <td>1.425283</td>\n",
              "      <td>0.639357</td>\n",
              "      <td>1.00</td>\n",
              "      <td>1.0000</td>\n",
              "      <td>1.0000</td>\n",
              "      <td>2.0000</td>\n",
              "      <td>4.0000</td>\n",
              "    </tr>\n",
              "    <tr>\n",
              "      <th>temp</th>\n",
              "      <td>17379.0</td>\n",
              "      <td>0.496987</td>\n",
              "      <td>0.192556</td>\n",
              "      <td>0.02</td>\n",
              "      <td>0.3400</td>\n",
              "      <td>0.5000</td>\n",
              "      <td>0.6600</td>\n",
              "      <td>1.0000</td>\n",
              "    </tr>\n",
              "    <tr>\n",
              "      <th>atemp</th>\n",
              "      <td>17379.0</td>\n",
              "      <td>0.475775</td>\n",
              "      <td>0.171850</td>\n",
              "      <td>0.00</td>\n",
              "      <td>0.3333</td>\n",
              "      <td>0.4848</td>\n",
              "      <td>0.6212</td>\n",
              "      <td>1.0000</td>\n",
              "    </tr>\n",
              "    <tr>\n",
              "      <th>hum</th>\n",
              "      <td>17379.0</td>\n",
              "      <td>0.627229</td>\n",
              "      <td>0.192930</td>\n",
              "      <td>0.00</td>\n",
              "      <td>0.4800</td>\n",
              "      <td>0.6300</td>\n",
              "      <td>0.7800</td>\n",
              "      <td>1.0000</td>\n",
              "    </tr>\n",
              "    <tr>\n",
              "      <th>windspeed</th>\n",
              "      <td>17379.0</td>\n",
              "      <td>0.190098</td>\n",
              "      <td>0.122340</td>\n",
              "      <td>0.00</td>\n",
              "      <td>0.1045</td>\n",
              "      <td>0.1940</td>\n",
              "      <td>0.2537</td>\n",
              "      <td>0.8507</td>\n",
              "    </tr>\n",
              "    <tr>\n",
              "      <th>casual</th>\n",
              "      <td>17379.0</td>\n",
              "      <td>35.676218</td>\n",
              "      <td>49.305030</td>\n",
              "      <td>0.00</td>\n",
              "      <td>4.0000</td>\n",
              "      <td>17.0000</td>\n",
              "      <td>48.0000</td>\n",
              "      <td>367.0000</td>\n",
              "    </tr>\n",
              "    <tr>\n",
              "      <th>registered</th>\n",
              "      <td>17379.0</td>\n",
              "      <td>153.786869</td>\n",
              "      <td>151.357286</td>\n",
              "      <td>0.00</td>\n",
              "      <td>34.0000</td>\n",
              "      <td>115.0000</td>\n",
              "      <td>220.0000</td>\n",
              "      <td>886.0000</td>\n",
              "    </tr>\n",
              "    <tr>\n",
              "      <th>cnt</th>\n",
              "      <td>17379.0</td>\n",
              "      <td>189.463088</td>\n",
              "      <td>181.387599</td>\n",
              "      <td>1.00</td>\n",
              "      <td>40.0000</td>\n",
              "      <td>142.0000</td>\n",
              "      <td>281.0000</td>\n",
              "      <td>977.0000</td>\n",
              "    </tr>\n",
              "  </tbody>\n",
              "</table>\n",
              "</div>"
            ],
            "text/plain": [
              "              count         mean  ...         75%         max\n",
              "instant     17379.0  8690.000000  ...  13034.5000  17379.0000\n",
              "season      17379.0     2.501640  ...      3.0000      4.0000\n",
              "yr          17379.0     0.502561  ...      1.0000      1.0000\n",
              "mnth        17379.0     6.537775  ...     10.0000     12.0000\n",
              "hr          17379.0    11.546752  ...     18.0000     23.0000\n",
              "holiday     17379.0     0.028770  ...      0.0000      1.0000\n",
              "weekday     17379.0     3.003683  ...      5.0000      6.0000\n",
              "workingday  17379.0     0.682721  ...      1.0000      1.0000\n",
              "weathersit  17379.0     1.425283  ...      2.0000      4.0000\n",
              "temp        17379.0     0.496987  ...      0.6600      1.0000\n",
              "atemp       17379.0     0.475775  ...      0.6212      1.0000\n",
              "hum         17379.0     0.627229  ...      0.7800      1.0000\n",
              "windspeed   17379.0     0.190098  ...      0.2537      0.8507\n",
              "casual      17379.0    35.676218  ...     48.0000    367.0000\n",
              "registered  17379.0   153.786869  ...    220.0000    886.0000\n",
              "cnt         17379.0   189.463088  ...    281.0000    977.0000\n",
              "\n",
              "[16 rows x 8 columns]"
            ]
          },
          "metadata": {
            "tags": []
          },
          "execution_count": 5
        }
      ]
    },
    {
      "cell_type": "markdown",
      "metadata": {
        "id": "Bv9apUMQwrRl"
      },
      "source": [
        "Através dessa pequena análise já conseguimos 2 tipos de insights, o números de registros por coluna e a quantidade máxima e mínima de bicicletas alugadas."
      ]
    },
    {
      "cell_type": "code",
      "metadata": {
        "colab": {
          "base_uri": "https://localhost:8080/"
        },
        "id": "uv1t8RMaaqkr",
        "outputId": "27ca545e-21ac-4ab7-a870-c1a2ca643156"
      },
      "source": [
        "# contabilizando os valores ausentes somente do df_train e do nosso alvo\n",
        "bike.isna().value_counts().sum()"
      ],
      "execution_count": null,
      "outputs": [
        {
          "output_type": "execute_result",
          "data": {
            "text/plain": [
              "17379"
            ]
          },
          "metadata": {
            "tags": []
          },
          "execution_count": 10
        }
      ]
    },
    {
      "cell_type": "code",
      "metadata": {
        "colab": {
          "base_uri": "https://localhost:8080/",
          "height": 698
        },
        "id": "-kfrUqwea2Bc",
        "outputId": "d7b2f0c8-2d77-4a57-e7a8-d56585d3318b"
      },
      "source": [
        "# verificando se há valores nulos no df\n",
        "# caso exista, haverá linhas brancas no gráfico\n",
        "plt.figure(figsize=(14,11))\n",
        "sns.heatmap(bike.isnull(), cmap='Blues', cbar=True);"
      ],
      "execution_count": null,
      "outputs": [
        {
          "output_type": "display_data",
          "data": {
            "image/png": "[encoded data removed]",
            "text/plain": [
              "<Figure size 1008x792 with 2 Axes>"
            ]
          },
          "metadata": {
            "tags": []
          }
        }
      ]
    },
    {
      "cell_type": "code",
      "metadata": {
        "colab": {
          "base_uri": "https://localhost:8080/",
          "height": 576
        },
        "id": "MKQusUjtbHgn",
        "outputId": "ecfa0924-ef88-4f76-be05-36f2b339ad7e"
      },
      "source": [
        "# aqui iremos visualizar a quantidade de dados ausentes proporcional a quantidade total de dados em cada coluna\n",
        "total = bike.isnull().sum().sort_values(ascending = False)\n",
        "percentual = (bike.isnull().sum()/bike.isnull().count()*100).sort_values(ascending = False)\n",
        "faltantes  = pd.concat([total, percentual], axis=1, keys=['Total', 'Dados faltando (%)'])\n",
        "faltantes.head(len(bike))     # visualizando em relação a quantidade de colunas na base de dados"
      ],
      "execution_count": null,
      "outputs": [
        {
          "output_type": "execute_result",
          "data": {
            "text/html": [
              "<div>\n",
              "<style scoped>\n",
              "    .dataframe tbody tr th:only-of-type {\n",
              "        vertical-align: middle;\n",
              "    }\n",
              "\n",
              "    .dataframe tbody tr th {\n",
              "        vertical-align: top;\n",
              "    }\n",
              "\n",
              "    .dataframe thead th {\n",
              "        text-align: right;\n",
              "    }\n",
              "</style>\n",
              "<table border=\"1\" class=\"dataframe\">\n",
              "  <thead>\n",
              "    <tr style=\"text-align: right;\">\n",
              "      <th></th>\n",
              "      <th>Total</th>\n",
              "      <th>Dados faltando (%)</th>\n",
              "    </tr>\n",
              "  </thead>\n",
              "  <tbody>\n",
              "    <tr>\n",
              "      <th>cnt</th>\n",
              "      <td>0</td>\n",
              "      <td>0.0</td>\n",
              "    </tr>\n",
              "    <tr>\n",
              "      <th>weekday</th>\n",
              "      <td>0</td>\n",
              "      <td>0.0</td>\n",
              "    </tr>\n",
              "    <tr>\n",
              "      <th>dteday</th>\n",
              "      <td>0</td>\n",
              "      <td>0.0</td>\n",
              "    </tr>\n",
              "    <tr>\n",
              "      <th>season</th>\n",
              "      <td>0</td>\n",
              "      <td>0.0</td>\n",
              "    </tr>\n",
              "    <tr>\n",
              "      <th>yr</th>\n",
              "      <td>0</td>\n",
              "      <td>0.0</td>\n",
              "    </tr>\n",
              "    <tr>\n",
              "      <th>mnth</th>\n",
              "      <td>0</td>\n",
              "      <td>0.0</td>\n",
              "    </tr>\n",
              "    <tr>\n",
              "      <th>hr</th>\n",
              "      <td>0</td>\n",
              "      <td>0.0</td>\n",
              "    </tr>\n",
              "    <tr>\n",
              "      <th>holiday</th>\n",
              "      <td>0</td>\n",
              "      <td>0.0</td>\n",
              "    </tr>\n",
              "    <tr>\n",
              "      <th>workingday</th>\n",
              "      <td>0</td>\n",
              "      <td>0.0</td>\n",
              "    </tr>\n",
              "    <tr>\n",
              "      <th>registered</th>\n",
              "      <td>0</td>\n",
              "      <td>0.0</td>\n",
              "    </tr>\n",
              "    <tr>\n",
              "      <th>weathersit</th>\n",
              "      <td>0</td>\n",
              "      <td>0.0</td>\n",
              "    </tr>\n",
              "    <tr>\n",
              "      <th>temp</th>\n",
              "      <td>0</td>\n",
              "      <td>0.0</td>\n",
              "    </tr>\n",
              "    <tr>\n",
              "      <th>atemp</th>\n",
              "      <td>0</td>\n",
              "      <td>0.0</td>\n",
              "    </tr>\n",
              "    <tr>\n",
              "      <th>hum</th>\n",
              "      <td>0</td>\n",
              "      <td>0.0</td>\n",
              "    </tr>\n",
              "    <tr>\n",
              "      <th>windspeed</th>\n",
              "      <td>0</td>\n",
              "      <td>0.0</td>\n",
              "    </tr>\n",
              "    <tr>\n",
              "      <th>casual</th>\n",
              "      <td>0</td>\n",
              "      <td>0.0</td>\n",
              "    </tr>\n",
              "    <tr>\n",
              "      <th>instant</th>\n",
              "      <td>0</td>\n",
              "      <td>0.0</td>\n",
              "    </tr>\n",
              "  </tbody>\n",
              "</table>\n",
              "</div>"
            ],
            "text/plain": [
              "            Total  Dados faltando (%)\n",
              "cnt             0                 0.0\n",
              "weekday         0                 0.0\n",
              "dteday          0                 0.0\n",
              "season          0                 0.0\n",
              "yr              0                 0.0\n",
              "mnth            0                 0.0\n",
              "hr              0                 0.0\n",
              "holiday         0                 0.0\n",
              "workingday      0                 0.0\n",
              "registered      0                 0.0\n",
              "weathersit      0                 0.0\n",
              "temp            0                 0.0\n",
              "atemp           0                 0.0\n",
              "hum             0                 0.0\n",
              "windspeed       0                 0.0\n",
              "casual          0                 0.0\n",
              "instant         0                 0.0"
            ]
          },
          "metadata": {
            "tags": []
          },
          "execution_count": 13
        }
      ]
    },
    {
      "cell_type": "code",
      "metadata": {
        "colab": {
          "base_uri": "https://localhost:8080/",
          "height": 605
        },
        "id": "hxUEF4Lgt7Qo",
        "outputId": "bce64c94-1aa4-4872-97c4-cf22e9b2610f"
      },
      "source": [
        "# distribuição do atributo cnt\n",
        "plt.figure(figsize=(16,9))\n",
        "sns.set_style('darkgrid')\n",
        "sns.distplot(bike['cnt']);"
      ],
      "execution_count": null,
      "outputs": [
        {
          "output_type": "stream",
          "text": [
            "/usr/local/lib/python3.7/dist-packages/seaborn/distributions.py:2557: FutureWarning: `distplot` is a deprecated function and will be removed in a future version. Please adapt your code to use either `displot` (a figure-level function with similar flexibility) or `histplot` (an axes-level function for histograms).\n",
            "  warnings.warn(msg, FutureWarning)\n"
          ],
          "name": "stderr"
        },
        {
          "output_type": "display_data",
          "data": {
            "image/png": "[encoded data removed]",
            "text/plain": [
              "<Figure size 1152x648 with 1 Axes>"
            ]
          },
          "metadata": {
            "tags": []
          }
        }
      ]
    },
    {
      "cell_type": "markdown",
      "metadata": {
        "id": "963x79fbxFjU"
      },
      "source": [
        "A distribuição dos dados dessa coluna está na faixa de 0 a 1000 com uma maior concentração entre as faixas de 0 a 200."
      ]
    },
    {
      "cell_type": "code",
      "metadata": {
        "id": "KoPvSMMxt7N_",
        "colab": {
          "base_uri": "https://localhost:8080/",
          "height": 565
        },
        "outputId": "2ddfbfec-5de2-417d-d687-7cb59aeeee46"
      },
      "source": [
        "# calculando a correlação entre as variáveis\n",
        "bike.corr()"
      ],
      "execution_count": null,
      "outputs": [
        {
          "output_type": "execute_result",
          "data": {
            "text/html": [
              "<div>\n",
              "<style scoped>\n",
              "    .dataframe tbody tr th:only-of-type {\n",
              "        vertical-align: middle;\n",
              "    }\n",
              "\n",
              "    .dataframe tbody tr th {\n",
              "        vertical-align: top;\n",
              "    }\n",
              "\n",
              "    .dataframe thead th {\n",
              "        text-align: right;\n",
              "    }\n",
              "</style>\n",
              "<table border=\"1\" class=\"dataframe\">\n",
              "  <thead>\n",
              "    <tr style=\"text-align: right;\">\n",
              "      <th></th>\n",
              "      <th>instant</th>\n",
              "      <th>season</th>\n",
              "      <th>yr</th>\n",
              "      <th>mnth</th>\n",
              "      <th>hr</th>\n",
              "      <th>holiday</th>\n",
              "      <th>weekday</th>\n",
              "      <th>workingday</th>\n",
              "      <th>weathersit</th>\n",
              "      <th>temp</th>\n",
              "      <th>atemp</th>\n",
              "      <th>hum</th>\n",
              "      <th>windspeed</th>\n",
              "      <th>casual</th>\n",
              "      <th>registered</th>\n",
              "      <th>cnt</th>\n",
              "    </tr>\n",
              "  </thead>\n",
              "  <tbody>\n",
              "    <tr>\n",
              "      <th>instant</th>\n",
              "      <td>1.000000</td>\n",
              "      <td>0.404046</td>\n",
              "      <td>0.866014</td>\n",
              "      <td>0.489164</td>\n",
              "      <td>-0.004775</td>\n",
              "      <td>0.014723</td>\n",
              "      <td>0.001357</td>\n",
              "      <td>-0.003416</td>\n",
              "      <td>-0.014198</td>\n",
              "      <td>0.136178</td>\n",
              "      <td>0.137615</td>\n",
              "      <td>0.009577</td>\n",
              "      <td>-0.074505</td>\n",
              "      <td>0.158295</td>\n",
              "      <td>0.282046</td>\n",
              "      <td>0.278379</td>\n",
              "    </tr>\n",
              "    <tr>\n",
              "      <th>season</th>\n",
              "      <td>0.404046</td>\n",
              "      <td>1.000000</td>\n",
              "      <td>-0.010742</td>\n",
              "      <td>0.830386</td>\n",
              "      <td>-0.006117</td>\n",
              "      <td>-0.009585</td>\n",
              "      <td>-0.002335</td>\n",
              "      <td>0.013743</td>\n",
              "      <td>-0.014524</td>\n",
              "      <td>0.312025</td>\n",
              "      <td>0.319380</td>\n",
              "      <td>0.150625</td>\n",
              "      <td>-0.149773</td>\n",
              "      <td>0.120206</td>\n",
              "      <td>0.174226</td>\n",
              "      <td>0.178056</td>\n",
              "    </tr>\n",
              "    <tr>\n",
              "      <th>yr</th>\n",
              "      <td>0.866014</td>\n",
              "      <td>-0.010742</td>\n",
              "      <td>1.000000</td>\n",
              "      <td>-0.010473</td>\n",
              "      <td>-0.003867</td>\n",
              "      <td>0.006692</td>\n",
              "      <td>-0.004485</td>\n",
              "      <td>-0.002196</td>\n",
              "      <td>-0.019157</td>\n",
              "      <td>0.040913</td>\n",
              "      <td>0.039222</td>\n",
              "      <td>-0.083546</td>\n",
              "      <td>-0.008740</td>\n",
              "      <td>0.142779</td>\n",
              "      <td>0.253684</td>\n",
              "      <td>0.250495</td>\n",
              "    </tr>\n",
              "    <tr>\n",
              "      <th>mnth</th>\n",
              "      <td>0.489164</td>\n",
              "      <td>0.830386</td>\n",
              "      <td>-0.010473</td>\n",
              "      <td>1.000000</td>\n",
              "      <td>-0.005772</td>\n",
              "      <td>0.018430</td>\n",
              "      <td>0.010400</td>\n",
              "      <td>-0.003477</td>\n",
              "      <td>0.005400</td>\n",
              "      <td>0.201691</td>\n",
              "      <td>0.208096</td>\n",
              "      <td>0.164411</td>\n",
              "      <td>-0.135386</td>\n",
              "      <td>0.068457</td>\n",
              "      <td>0.122273</td>\n",
              "      <td>0.120638</td>\n",
              "    </tr>\n",
              "    <tr>\n",
              "      <th>hr</th>\n",
              "      <td>-0.004775</td>\n",
              "      <td>-0.006117</td>\n",
              "      <td>-0.003867</td>\n",
              "      <td>-0.005772</td>\n",
              "      <td>1.000000</td>\n",
              "      <td>0.000479</td>\n",
              "      <td>-0.003498</td>\n",
              "      <td>0.002285</td>\n",
              "      <td>-0.020203</td>\n",
              "      <td>0.137603</td>\n",
              "      <td>0.133750</td>\n",
              "      <td>-0.276498</td>\n",
              "      <td>0.137252</td>\n",
              "      <td>0.301202</td>\n",
              "      <td>0.374141</td>\n",
              "      <td>0.394071</td>\n",
              "    </tr>\n",
              "    <tr>\n",
              "      <th>holiday</th>\n",
              "      <td>0.014723</td>\n",
              "      <td>-0.009585</td>\n",
              "      <td>0.006692</td>\n",
              "      <td>0.018430</td>\n",
              "      <td>0.000479</td>\n",
              "      <td>1.000000</td>\n",
              "      <td>-0.102088</td>\n",
              "      <td>-0.252471</td>\n",
              "      <td>-0.017036</td>\n",
              "      <td>-0.027340</td>\n",
              "      <td>-0.030973</td>\n",
              "      <td>-0.010588</td>\n",
              "      <td>0.003988</td>\n",
              "      <td>0.031564</td>\n",
              "      <td>-0.047345</td>\n",
              "      <td>-0.030927</td>\n",
              "    </tr>\n",
              "    <tr>\n",
              "      <th>weekday</th>\n",
              "      <td>0.001357</td>\n",
              "      <td>-0.002335</td>\n",
              "      <td>-0.004485</td>\n",
              "      <td>0.010400</td>\n",
              "      <td>-0.003498</td>\n",
              "      <td>-0.102088</td>\n",
              "      <td>1.000000</td>\n",
              "      <td>0.035955</td>\n",
              "      <td>0.003311</td>\n",
              "      <td>-0.001795</td>\n",
              "      <td>-0.008821</td>\n",
              "      <td>-0.037158</td>\n",
              "      <td>0.011502</td>\n",
              "      <td>0.032721</td>\n",
              "      <td>0.021578</td>\n",
              "      <td>0.026900</td>\n",
              "    </tr>\n",
              "    <tr>\n",
              "      <th>workingday</th>\n",
              "      <td>-0.003416</td>\n",
              "      <td>0.013743</td>\n",
              "      <td>-0.002196</td>\n",
              "      <td>-0.003477</td>\n",
              "      <td>0.002285</td>\n",
              "      <td>-0.252471</td>\n",
              "      <td>0.035955</td>\n",
              "      <td>1.000000</td>\n",
              "      <td>0.044672</td>\n",
              "      <td>0.055390</td>\n",
              "      <td>0.054667</td>\n",
              "      <td>0.015688</td>\n",
              "      <td>-0.011830</td>\n",
              "      <td>-0.300942</td>\n",
              "      <td>0.134326</td>\n",
              "      <td>0.030284</td>\n",
              "    </tr>\n",
              "    <tr>\n",
              "      <th>weathersit</th>\n",
              "      <td>-0.014198</td>\n",
              "      <td>-0.014524</td>\n",
              "      <td>-0.019157</td>\n",
              "      <td>0.005400</td>\n",
              "      <td>-0.020203</td>\n",
              "      <td>-0.017036</td>\n",
              "      <td>0.003311</td>\n",
              "      <td>0.044672</td>\n",
              "      <td>1.000000</td>\n",
              "      <td>-0.102640</td>\n",
              "      <td>-0.105563</td>\n",
              "      <td>0.418130</td>\n",
              "      <td>0.026226</td>\n",
              "      <td>-0.152628</td>\n",
              "      <td>-0.120966</td>\n",
              "      <td>-0.142426</td>\n",
              "    </tr>\n",
              "    <tr>\n",
              "      <th>temp</th>\n",
              "      <td>0.136178</td>\n",
              "      <td>0.312025</td>\n",
              "      <td>0.040913</td>\n",
              "      <td>0.201691</td>\n",
              "      <td>0.137603</td>\n",
              "      <td>-0.027340</td>\n",
              "      <td>-0.001795</td>\n",
              "      <td>0.055390</td>\n",
              "      <td>-0.102640</td>\n",
              "      <td>1.000000</td>\n",
              "      <td>0.987672</td>\n",
              "      <td>-0.069881</td>\n",
              "      <td>-0.023125</td>\n",
              "      <td>0.459616</td>\n",
              "      <td>0.335361</td>\n",
              "      <td>0.404772</td>\n",
              "    </tr>\n",
              "    <tr>\n",
              "      <th>atemp</th>\n",
              "      <td>0.137615</td>\n",
              "      <td>0.319380</td>\n",
              "      <td>0.039222</td>\n",
              "      <td>0.208096</td>\n",
              "      <td>0.133750</td>\n",
              "      <td>-0.030973</td>\n",
              "      <td>-0.008821</td>\n",
              "      <td>0.054667</td>\n",
              "      <td>-0.105563</td>\n",
              "      <td>0.987672</td>\n",
              "      <td>1.000000</td>\n",
              "      <td>-0.051918</td>\n",
              "      <td>-0.062336</td>\n",
              "      <td>0.454080</td>\n",
              "      <td>0.332559</td>\n",
              "      <td>0.400929</td>\n",
              "    </tr>\n",
              "    <tr>\n",
              "      <th>hum</th>\n",
              "      <td>0.009577</td>\n",
              "      <td>0.150625</td>\n",
              "      <td>-0.083546</td>\n",
              "      <td>0.164411</td>\n",
              "      <td>-0.276498</td>\n",
              "      <td>-0.010588</td>\n",
              "      <td>-0.037158</td>\n",
              "      <td>0.015688</td>\n",
              "      <td>0.418130</td>\n",
              "      <td>-0.069881</td>\n",
              "      <td>-0.051918</td>\n",
              "      <td>1.000000</td>\n",
              "      <td>-0.290105</td>\n",
              "      <td>-0.347028</td>\n",
              "      <td>-0.273933</td>\n",
              "      <td>-0.322911</td>\n",
              "    </tr>\n",
              "    <tr>\n",
              "      <th>windspeed</th>\n",
              "      <td>-0.074505</td>\n",
              "      <td>-0.149773</td>\n",
              "      <td>-0.008740</td>\n",
              "      <td>-0.135386</td>\n",
              "      <td>0.137252</td>\n",
              "      <td>0.003988</td>\n",
              "      <td>0.011502</td>\n",
              "      <td>-0.011830</td>\n",
              "      <td>0.026226</td>\n",
              "      <td>-0.023125</td>\n",
              "      <td>-0.062336</td>\n",
              "      <td>-0.290105</td>\n",
              "      <td>1.000000</td>\n",
              "      <td>0.090287</td>\n",
              "      <td>0.082321</td>\n",
              "      <td>0.093234</td>\n",
              "    </tr>\n",
              "    <tr>\n",
              "      <th>casual</th>\n",
              "      <td>0.158295</td>\n",
              "      <td>0.120206</td>\n",
              "      <td>0.142779</td>\n",
              "      <td>0.068457</td>\n",
              "      <td>0.301202</td>\n",
              "      <td>0.031564</td>\n",
              "      <td>0.032721</td>\n",
              "      <td>-0.300942</td>\n",
              "      <td>-0.152628</td>\n",
              "      <td>0.459616</td>\n",
              "      <td>0.454080</td>\n",
              "      <td>-0.347028</td>\n",
              "      <td>0.090287</td>\n",
              "      <td>1.000000</td>\n",
              "      <td>0.506618</td>\n",
              "      <td>0.694564</td>\n",
              "    </tr>\n",
              "    <tr>\n",
              "      <th>registered</th>\n",
              "      <td>0.282046</td>\n",
              "      <td>0.174226</td>\n",
              "      <td>0.253684</td>\n",
              "      <td>0.122273</td>\n",
              "      <td>0.374141</td>\n",
              "      <td>-0.047345</td>\n",
              "      <td>0.021578</td>\n",
              "      <td>0.134326</td>\n",
              "      <td>-0.120966</td>\n",
              "      <td>0.335361</td>\n",
              "      <td>0.332559</td>\n",
              "      <td>-0.273933</td>\n",
              "      <td>0.082321</td>\n",
              "      <td>0.506618</td>\n",
              "      <td>1.000000</td>\n",
              "      <td>0.972151</td>\n",
              "    </tr>\n",
              "    <tr>\n",
              "      <th>cnt</th>\n",
              "      <td>0.278379</td>\n",
              "      <td>0.178056</td>\n",
              "      <td>0.250495</td>\n",
              "      <td>0.120638</td>\n",
              "      <td>0.394071</td>\n",
              "      <td>-0.030927</td>\n",
              "      <td>0.026900</td>\n",
              "      <td>0.030284</td>\n",
              "      <td>-0.142426</td>\n",
              "      <td>0.404772</td>\n",
              "      <td>0.400929</td>\n",
              "      <td>-0.322911</td>\n",
              "      <td>0.093234</td>\n",
              "      <td>0.694564</td>\n",
              "      <td>0.972151</td>\n",
              "      <td>1.000000</td>\n",
              "    </tr>\n",
              "  </tbody>\n",
              "</table>\n",
              "</div>"
            ],
            "text/plain": [
              "             instant    season        yr  ...    casual  registered       cnt\n",
              "instant     1.000000  0.404046  0.866014  ...  0.158295    0.282046  0.278379\n",
              "season      0.404046  1.000000 -0.010742  ...  0.120206    0.174226  0.178056\n",
              "yr          0.866014 -0.010742  1.000000  ...  0.142779    0.253684  0.250495\n",
              "mnth        0.489164  0.830386 -0.010473  ...  0.068457    0.122273  0.120638\n",
              "hr         -0.004775 -0.006117 -0.003867  ...  0.301202    0.374141  0.394071\n",
              "holiday     0.014723 -0.009585  0.006692  ...  0.031564   -0.047345 -0.030927\n",
              "weekday     0.001357 -0.002335 -0.004485  ...  0.032721    0.021578  0.026900\n",
              "workingday -0.003416  0.013743 -0.002196  ... -0.300942    0.134326  0.030284\n",
              "weathersit -0.014198 -0.014524 -0.019157  ... -0.152628   -0.120966 -0.142426\n",
              "temp        0.136178  0.312025  0.040913  ...  0.459616    0.335361  0.404772\n",
              "atemp       0.137615  0.319380  0.039222  ...  0.454080    0.332559  0.400929\n",
              "hum         0.009577  0.150625 -0.083546  ... -0.347028   -0.273933 -0.322911\n",
              "windspeed  -0.074505 -0.149773 -0.008740  ...  0.090287    0.082321  0.093234\n",
              "casual      0.158295  0.120206  0.142779  ...  1.000000    0.506618  0.694564\n",
              "registered  0.282046  0.174226  0.253684  ...  0.506618    1.000000  0.972151\n",
              "cnt         0.278379  0.178056  0.250495  ...  0.694564    0.972151  1.000000\n",
              "\n",
              "[16 rows x 16 columns]"
            ]
          },
          "metadata": {
            "tags": []
          },
          "execution_count": 7
        }
      ]
    },
    {
      "cell_type": "markdown",
      "metadata": {
        "id": "8mvrddfixUQj"
      },
      "source": [
        "Analisar com base nessa tabela fica um pouco complicado, não é impossível mas se temos alternativas por que não usar?"
      ]
    },
    {
      "cell_type": "code",
      "metadata": {
        "colab": {
          "base_uri": "https://localhost:8080/",
          "height": 698
        },
        "id": "8KROdjVMZyAN",
        "outputId": "216bc660-bfea-4ffe-a119-c382b60cc1b3"
      },
      "source": [
        "# plotando gráfico de calor para uma melhor visualização da correlação do df_train\n",
        "# aqui utilizaremos somentes as features selecionadas\n",
        "corr = bike.corr()\n",
        "ax = plt.subplots(figsize=(14, 11))\n",
        "sns.heatmap(corr,  annot=True, annot_kws={\"size\": 10});"
      ],
      "execution_count": null,
      "outputs": [
        {
          "output_type": "display_data",
          "data": {
            "image/png": "[encoded data removed]",
            "text/plain": [
              "<Figure size 1008x792 with 2 Axes>"
            ]
          },
          "metadata": {
            "tags": []
          }
        }
      ]
    },
    {
      "cell_type": "code",
      "metadata": {
        "id": "dr940lket7LF",
        "colab": {
          "base_uri": "https://localhost:8080/"
        },
        "outputId": "e6336e30-dacf-46d8-b722-42f298eee412"
      },
      "source": [
        "correlations = bike.corr()\n",
        "correlations['cnt']"
      ],
      "execution_count": null,
      "outputs": [
        {
          "output_type": "execute_result",
          "data": {
            "text/plain": [
              "instant       0.278379\n",
              "season        0.178056\n",
              "yr            0.250495\n",
              "mnth          0.120638\n",
              "hr            0.394071\n",
              "holiday      -0.030927\n",
              "weekday       0.026900\n",
              "workingday    0.030284\n",
              "weathersit   -0.142426\n",
              "temp          0.404772\n",
              "atemp         0.400929\n",
              "hum          -0.322911\n",
              "windspeed     0.093234\n",
              "casual        0.694564\n",
              "registered    0.972151\n",
              "cnt           1.000000\n",
              "Name: cnt, dtype: float64"
            ]
          },
          "metadata": {
            "tags": []
          },
          "execution_count": 16
        }
      ]
    },
    {
      "cell_type": "code",
      "metadata": {
        "colab": {
          "base_uri": "https://localhost:8080/"
        },
        "id": "Cm4z6JZhb9B9",
        "outputId": "50040bed-aa27-40f0-eca2-42b8b7ce2f32"
      },
      "source": [
        "# vamos organizar a exibição de forma crescente\n",
        "correlations = bike.corr()\n",
        "correlations['cnt'].sort_values(ascending=False).head(len(bike))"
      ],
      "execution_count": null,
      "outputs": [
        {
          "output_type": "execute_result",
          "data": {
            "text/plain": [
              "cnt           1.000000\n",
              "registered    0.972151\n",
              "casual        0.694564\n",
              "temp          0.404772\n",
              "atemp         0.400929\n",
              "hr            0.394071\n",
              "instant       0.278379\n",
              "yr            0.250495\n",
              "season        0.178056\n",
              "mnth          0.120638\n",
              "windspeed     0.093234\n",
              "workingday    0.030284\n",
              "weekday       0.026900\n",
              "holiday      -0.030927\n",
              "weathersit   -0.142426\n",
              "hum          -0.322911\n",
              "Name: cnt, dtype: float64"
            ]
          },
          "metadata": {
            "tags": []
          },
          "execution_count": 17
        }
      ]
    },
    {
      "cell_type": "markdown",
      "metadata": {
        "id": "fpGPIQaLxd6j"
      },
      "source": [
        "A nossa intenção e saber o grau de correlação das variáveis com a variável que queremos prever (`cnt`), então podemos simplesmente filtrar a coluna com essas informações."
      ]
    },
    {
      "cell_type": "markdown",
      "metadata": {
        "id": "z1U1UXj6xg4o"
      },
      "source": [
        "Vamos dar uma olhada mais uma vez na descrição da variável target:\n",
        "\n",
        "``cnt``: contagem do total de bicicletas alugadas, incluindo bicicletas casuais e registradas.\n",
        "\n",
        "Observe que cnt já inclui os valores de usuários casuais e registrados, então não faz sentindo manter essas 2 variáveis , pois esses dados são redundantes."
      ]
    },
    {
      "cell_type": "markdown",
      "metadata": {
        "id": "r9NSaBtMxl3j"
      },
      "source": [
        "## **Excluindo os atributos que são subcategorias do atributo alvo: casual, registered e do tipo date**"
      ]
    },
    {
      "cell_type": "markdown",
      "metadata": {
        "id": "5AUlgvlYy2Mm"
      },
      "source": [
        "Também precisamos excluir a variável dteday que é do tipo date, os algoritmos de regressão não aceitam esse tipo de dado, e ela representa apenas a data do evento e não vai contribuir em nada para o modelo.\n",
        "\n",
        "Na variável `columns` iremos guardar as nossas **features**, então precisamos excluir também a variável target (`cnt`)."
      ]
    },
    {
      "cell_type": "code",
      "metadata": {
        "id": "aq0dIpXFxESD",
        "colab": {
          "base_uri": "https://localhost:8080/"
        },
        "outputId": "dc4c445b-257e-4eb9-a736-04a2f7ba3a00"
      },
      "source": [
        "columns = bike.columns.drop(['cnt', 'casual', \n",
        "                             'dteday', 'registered'])\n",
        "columns"
      ],
      "execution_count": null,
      "outputs": [
        {
          "output_type": "execute_result",
          "data": {
            "text/plain": [
              "Index(['instant', 'season', 'yr', 'mnth', 'hr', 'holiday', 'weekday',\n",
              "       'workingday', 'weathersit', 'temp', 'atemp', 'hum', 'windspeed'],\n",
              "      dtype='object')"
            ]
          },
          "metadata": {
            "tags": []
          },
          "execution_count": 18
        }
      ]
    },
    {
      "cell_type": "markdown",
      "metadata": {
        "id": "2BQ6RhJ1zF-X"
      },
      "source": [
        "Perfeito! Já temos as features que iremos usar para treinar os algoritmos."
      ]
    },
    {
      "cell_type": "markdown",
      "metadata": {
        "id": "zaZQWNbyzH0F"
      },
      "source": [
        "## **Utilizando Machine Learning para realizar a previsão**"
      ]
    },
    {
      "cell_type": "code",
      "metadata": {
        "id": "GzVjdNxDxEO3"
      },
      "source": [
        "# importando o método train_test_split \n",
        "# para realizar a separação aleatória dos dados de treino e teste\n",
        "from sklearn.model_selection import train_test_split"
      ],
      "execution_count": null,
      "outputs": []
    },
    {
      "cell_type": "code",
      "metadata": {
        "id": "admvdztExEMH"
      },
      "source": [
        "# separando os dados de treino e teste\n",
        "X_train, X_test, y_train, y_test = train_test_split(bike[columns],\n",
        "                                                    bike['cnt'], \n",
        "                                                    test_size=0.20, \n",
        "                                                    random_state=42)"
      ],
      "execution_count": null,
      "outputs": []
    },
    {
      "cell_type": "markdown",
      "metadata": {
        "id": "1tllS3Glzzb0"
      },
      "source": [
        "Passamos as features que serão os dados de treino, a variável target e especificamos que 80% desses dados serão usados para treino e 20% para teste.\n",
        "\n",
        "O ``random_state`` (semente aleatória) garante que você tenha o mesmo resultado que foi apresentado aqui quando você for fazer o experimento na sua máquina.\n",
        "\n",
        "Agora vamos começar a testar os nossos modelos, o primeiro deles será o de ``regressão linear`` que é o tipo mais básico."
      ]
    },
    {
      "cell_type": "code",
      "metadata": {
        "id": "aQnwRMtExEJc"
      },
      "source": [
        "# instanciando o algoritmo na variável lr\n",
        "lr = LinearRegression()"
      ],
      "execution_count": null,
      "outputs": []
    },
    {
      "cell_type": "code",
      "metadata": {
        "id": "cQzp42v6xEGr"
      },
      "source": [
        "# treinando o algoritmo e gerando o modelo de regressão\n",
        "model = lr.fit(X_train, y_train)\n",
        "\n",
        "# realizando a predição\n",
        "result = model.predict(X_test)"
      ],
      "execution_count": null,
      "outputs": []
    },
    {
      "cell_type": "markdown",
      "metadata": {
        "id": "cRNidA0j0YUr"
      },
      "source": [
        "Entregamos os dados do conjunto de teste para o modelo fazer a predição e guardamos os resultados na variável resultado."
      ]
    },
    {
      "cell_type": "code",
      "metadata": {
        "colab": {
          "base_uri": "https://localhost:8080/"
        },
        "id": "vWzfziD5z5L6",
        "outputId": "a0bb1379-c7c6-41a8-e175-8846028bc03d"
      },
      "source": [
        "# calculando o erro médio quadrático\n",
        "mean_squared_error(y_test, result)"
      ],
      "execution_count": null,
      "outputs": [
        {
          "output_type": "execute_result",
          "data": {
            "text/plain": [
              "19376.952766955474"
            ]
          },
          "metadata": {
            "tags": []
          },
          "execution_count": 23
        }
      ]
    },
    {
      "cell_type": "markdown",
      "metadata": {
        "id": "bX-hGUKS0i_1"
      },
      "source": [
        "O ``mean_squared_error`` é a diferença média quadrática entre o valor predito e o valor real, quanto menor for esse valor mais próximo o modelo está de acertar."
      ]
    },
    {
      "cell_type": "code",
      "metadata": {
        "colab": {
          "base_uri": "https://localhost:8080/"
        },
        "id": "9HgyZf4Vz5Js",
        "outputId": "93e96c4c-e843-4b9b-e3f0-3f7d3c4e074e"
      },
      "source": [
        "# computando o score\n",
        "model.score(X_test, y_test)"
      ],
      "execution_count": null,
      "outputs": [
        {
          "output_type": "execute_result",
          "data": {
            "text/plain": [
              "0.3880719703569244"
            ]
          },
          "metadata": {
            "tags": []
          },
          "execution_count": 24
        }
      ]
    },
    {
      "cell_type": "markdown",
      "metadata": {
        "id": "kKKfFuLP0siJ"
      },
      "source": [
        "O valor dessa ``métrica`` varia entre 0 e 1, indicando em percentagem, o quanto o modelo consegue explicar os valores observados. Quanto maior esse valor , mais explicativo é o modelo."
      ]
    },
    {
      "cell_type": "code",
      "metadata": {
        "colab": {
          "base_uri": "https://localhost:8080/"
        },
        "id": "DEaEhytsz5G8",
        "outputId": "782c23de-7e5e-4d86-c4fe-4274d7df550d"
      },
      "source": [
        "# comparando os resultados aplicando os dados de treinamento\n",
        "result_train = model.predict(X_train)\n",
        "mean_squared_error(y_train, result_train)"
      ],
      "execution_count": null,
      "outputs": [
        {
          "output_type": "execute_result",
          "data": {
            "text/plain": [
              "20292.14100917642"
            ]
          },
          "metadata": {
            "tags": []
          },
          "execution_count": 25
        }
      ]
    },
    {
      "cell_type": "code",
      "metadata": {
        "colab": {
          "base_uri": "https://localhost:8080/"
        },
        "id": "s_6K8M3Wz5EN",
        "outputId": "96223a74-bfd4-4d22-f82c-3db7f7246a81"
      },
      "source": [
        "model.score(X_train, y_train)"
      ],
      "execution_count": null,
      "outputs": [
        {
          "output_type": "execute_result",
          "data": {
            "text/plain": [
              "0.38882636769645695"
            ]
          },
          "metadata": {
            "tags": []
          },
          "execution_count": 26
        }
      ]
    },
    {
      "cell_type": "markdown",
      "metadata": {
        "id": "lAVYYMlm1L9B"
      },
      "source": [
        "Nesse primeiro modelo temos um erro muito alto e um valor de score muito baixo, esses resultados não são nem um pouco satisfatórios.\n",
        "\n",
        "Um dos motivos é que temos muitos dados binários no conjunto de dados (0 e 1), os modelos de regressão linear tendem a funcionar melhor quando temos dados numéricos contínuos.\n",
        "\n",
        "Os modelos de árvore apresentam melhores resultados, vamos ver a seguir se essa premissa se confirma."
      ]
    },
    {
      "cell_type": "markdown",
      "metadata": {
        "id": "XeXi5JI4-2ld"
      },
      "source": [
        "## **Testando os resultados utilizando um modelo baseado em Árvore de Decisão**"
      ]
    },
    {
      "cell_type": "markdown",
      "metadata": {
        "id": "BhVacq5r-5q9"
      },
      "source": [
        "Vamos fazer os mesmos processos alterando apenas o tipo de modelo."
      ]
    },
    {
      "cell_type": "code",
      "metadata": {
        "id": "qA6QKrnU1M_B"
      },
      "source": [
        "# instanciando o algoritmo\n",
        "tree = DecisionTreeRegressor()"
      ],
      "execution_count": null,
      "outputs": []
    },
    {
      "cell_type": "code",
      "metadata": {
        "id": "_3CnwMIl1NrM"
      },
      "source": [
        "# treinando o algoritmo e gerando o modelo\n",
        "model_tree = tree.fit(X_train, y_train)\n",
        "result_tree = tree.predict(X_test)"
      ],
      "execution_count": null,
      "outputs": []
    },
    {
      "cell_type": "code",
      "metadata": {
        "colab": {
          "base_uri": "https://localhost:8080/"
        },
        "id": "ooTHBqzr1NoJ",
        "outputId": "c6780aad-a5a6-4fc8-d59f-015a615bdf64"
      },
      "source": [
        "# calculando o erro médio quadrático\n",
        "mean_squared_error(y_test, result_tree)"
      ],
      "execution_count": null,
      "outputs": [
        {
          "output_type": "execute_result",
          "data": {
            "text/plain": [
              "3482.2333141542003"
            ]
          },
          "metadata": {
            "tags": []
          },
          "execution_count": 26
        }
      ]
    },
    {
      "cell_type": "markdown",
      "metadata": {
        "id": "_z1z9YjN_jbW"
      },
      "source": [
        "Olha como o valor de erro já diminuiu em comparação com o modelo anterior."
      ]
    },
    {
      "cell_type": "code",
      "metadata": {
        "colab": {
          "base_uri": "https://localhost:8080/"
        },
        "id": "cGLaYrFB1Nlp",
        "outputId": "61c99d37-3ab9-4871-ab89-05fde2de0d60"
      },
      "source": [
        "# computando o score\n",
        "model_tree.score(X_test, y_test)"
      ],
      "execution_count": null,
      "outputs": [
        {
          "output_type": "execute_result",
          "data": {
            "text/plain": [
              "0.8900303780312789"
            ]
          },
          "metadata": {
            "tags": []
          },
          "execution_count": 27
        }
      ]
    },
    {
      "cell_type": "markdown",
      "metadata": {
        "id": "X9fLh3fu_wuC"
      },
      "source": [
        "Os resultados são bem melhores e já conseguimos cumprir o objetivo de diminuir o valor do erro e ter um score mais alto e validar a hipótese de que esse tipo de modelo tende a ser superior para o tipo de dado que estamos trabalhando."
      ]
    },
    {
      "cell_type": "markdown",
      "metadata": {
        "id": "1o8d15iG_yZh"
      },
      "source": [
        "## **Melhorando os resultados utilizando o Random Forest**"
      ]
    },
    {
      "cell_type": "markdown",
      "metadata": {
        "id": "nDiEaxVZ_2RD"
      },
      "source": [
        "Apesar dos ótimos resultados que tivemos com a árvore de decisão o nosso modelo pode estar sofrendo ``overfitting`` (sobreajuste).\n",
        "\n",
        "Os modelos ensembles como o Random forest tem a missão de resolver esse tipo de problema e por isso apresentam resultados ainda mais satisfatórios.\n",
        "\n",
        "Seu funcionamento é bem simples, ele usa várias árvores de decisão e pega o valor que cada uma das árvores, o resultado final vai ser o valor médio dessas árvores.\n",
        "\n",
        "Seguiremos com os processos já detalhados anteriormente."
      ]
    },
    {
      "cell_type": "code",
      "metadata": {
        "id": "-HLPnyP51NjY"
      },
      "source": [
        "# instanciando o algoritmo\n",
        "tree_rf = RandomForestRegressor()"
      ],
      "execution_count": null,
      "outputs": []
    },
    {
      "cell_type": "code",
      "metadata": {
        "id": "FhSFC4pQ1NgQ"
      },
      "source": [
        "# treinando o algoritmo e gerando o modelo\n",
        "model_rf = tree_rf.fit(X_train, y_train)\n",
        "result_rf = model_rf.predict(X_test)"
      ],
      "execution_count": null,
      "outputs": []
    },
    {
      "cell_type": "code",
      "metadata": {
        "colab": {
          "base_uri": "https://localhost:8080/"
        },
        "id": "IRs2wXog1Neg",
        "outputId": "1d13ff69-a95f-4643-93d1-da509164d8a1"
      },
      "source": [
        "# calculando o erro médio quadrático\n",
        "mean_squared_error(y_test, result_rf)"
      ],
      "execution_count": null,
      "outputs": [
        {
          "output_type": "execute_result",
          "data": {
            "text/plain": [
              "1666.9743313003453"
            ]
          },
          "metadata": {
            "tags": []
          },
          "execution_count": 32
        }
      ]
    },
    {
      "cell_type": "code",
      "metadata": {
        "colab": {
          "base_uri": "https://localhost:8080/"
        },
        "id": "S-zn7cQL1NbT",
        "outputId": "92e8c7f2-3e38-43fa-d293-8973d25904f9"
      },
      "source": [
        "# computando o score\n",
        "model_rf.score(X_test, y_test)"
      ],
      "execution_count": null,
      "outputs": [
        {
          "output_type": "execute_result",
          "data": {
            "text/plain": [
              "0.9473566184380766"
            ]
          },
          "metadata": {
            "tags": []
          },
          "execution_count": 33
        }
      ]
    },
    {
      "cell_type": "markdown",
      "metadata": {
        "id": "FxLFF0L2Ars7"
      },
      "source": [
        "Excelente não acha? Como já esperávamos os resultados são ainda mais surpreendentes.\n",
        "\n",
        "Mas reforçando o que já foi dito, não é sempre que esse tipo de modelo dará os melhores resultados, tudo vai depender dos dados analisados."
      ]
    },
    {
      "cell_type": "markdown",
      "metadata": {
        "id": "sK96GSxrAtdg"
      },
      "source": [
        "## **Ajustando os hiperparametros do Random Forest**"
      ]
    },
    {
      "cell_type": "markdown",
      "metadata": {
        "id": "2GMVjtOZAv5I"
      },
      "source": [
        "Todos os modelos testados até o momento foram instanciados na sua forma mais básica sem nenhum ajuste de parâmetro.\n",
        "\n",
        "Já temos o modelo que apresenta os melhores resultados e agora a meta e tentar encontrar os melhores parâmetros."
      ]
    },
    {
      "cell_type": "code",
      "metadata": {
        "id": "mB6HiQ2t1NYq"
      },
      "source": [
        "from sklearn.model_selection import GridSearchCV"
      ],
      "execution_count": null,
      "outputs": []
    },
    {
      "cell_type": "code",
      "metadata": {
        "id": "iTE-isKrAw0v"
      },
      "source": [
        "# especificando os parâmetros de tunning\n",
        "params = {'min_samples_leaf': [1,10],\n",
        "          'min_samples_split': [2,10],\n",
        "          'n_estimators': [100,250,600,1400]}"
      ],
      "execution_count": null,
      "outputs": []
    },
    {
      "cell_type": "markdown",
      "metadata": {
        "id": "kV4RVT5OBdzD"
      },
      "source": [
        "De acordo com a documentação do sklearn - https://scikit-learn.org/stable/modules/generated/sklearn.ensemble.RandomForestRegressor."
      ]
    },
    {
      "cell_type": "markdown",
      "metadata": {
        "id": "c5zgfA9KBhQr"
      },
      "source": [
        "- ``min_samples_leaf`` é o número mínimo de amostras necessárias para estar em um nó folha;\n",
        "\n",
        "- ``min_samples_split`` é o número mínimo de amostras necessárias para dividir um nó interno eo,\n",
        "\n",
        "- ``n_estimators`` é o número de árvores que será gerada."
      ]
    },
    {
      "cell_type": "code",
      "metadata": {
        "id": "b8aWONevAxdu"
      },
      "source": [
        "# instanciando o RandomForest e o GridSearchCV\n",
        "rf = RandomForestRegressor()\n",
        "grid = GridSearchCV(rf, params)"
      ],
      "execution_count": null,
      "outputs": []
    },
    {
      "cell_type": "markdown",
      "metadata": {
        "id": "KK0sbTOiB-D2"
      },
      "source": [
        "Para o grid passamos o modelo e os parâmetros que definimos para que ele faça os testes exaustivos."
      ]
    },
    {
      "cell_type": "code",
      "metadata": {
        "colab": {
          "base_uri": "https://localhost:8080/"
        },
        "id": "5TnieR5CAxaz",
        "outputId": "c178afd1-7f31-483b-da77-962225ec3561"
      },
      "source": [
        "# executando o grid\n",
        "grid.fit(X_train, y_train)"
      ],
      "execution_count": null,
      "outputs": [
        {
          "output_type": "execute_result",
          "data": {
            "text/plain": [
              "GridSearchCV(cv=None, error_score=nan,\n",
              "             estimator=RandomForestRegressor(bootstrap=True, ccp_alpha=0.0,\n",
              "                                             criterion='mse', max_depth=None,\n",
              "                                             max_features='auto',\n",
              "                                             max_leaf_nodes=None,\n",
              "                                             max_samples=None,\n",
              "                                             min_impurity_decrease=0.0,\n",
              "                                             min_impurity_split=None,\n",
              "                                             min_samples_leaf=1,\n",
              "                                             min_samples_split=2,\n",
              "                                             min_weight_fraction_leaf=0.0,\n",
              "                                             n_estimators=100, n_jobs=None,\n",
              "                                             oob_score=False, random_state=None,\n",
              "                                             verbose=0, warm_start=False),\n",
              "             iid='deprecated', n_jobs=None,\n",
              "             param_grid={'min_samples_leaf': [1, 10],\n",
              "                         'min_samples_split': [2, 10],\n",
              "                         'n_estimators': [100, 250, 600, 1400]},\n",
              "             pre_dispatch='2*n_jobs', refit=True, return_train_score=False,\n",
              "             scoring=None, verbose=0)"
            ]
          },
          "metadata": {
            "tags": []
          },
          "execution_count": 40
        }
      ]
    },
    {
      "cell_type": "markdown",
      "metadata": {
        "id": "y_SpgkdvCJ5Z"
      },
      "source": [
        "Quando estiver executando essa parte do código tenha paciência esse processo é um pouco demorado mesmo."
      ]
    },
    {
      "cell_type": "code",
      "metadata": {
        "colab": {
          "base_uri": "https://localhost:8080/"
        },
        "id": "u51yDS_GAxYc",
        "outputId": "e82bf38e-2ee6-4e27-cf4b-1fd6606bdd65"
      },
      "source": [
        "# verificando os melhores parâmetros\n",
        "grid.best_params_"
      ],
      "execution_count": null,
      "outputs": [
        {
          "output_type": "execute_result",
          "data": {
            "text/plain": [
              "{'min_samples_leaf': 1, 'min_samples_split': 2, 'n_estimators': 1400}"
            ]
          },
          "metadata": {
            "tags": []
          },
          "execution_count": 41
        }
      ]
    },
    {
      "cell_type": "markdown",
      "metadata": {
        "id": "SoTUdFK-CSp0"
      },
      "source": [
        "Essa é a melhor configuração que ele encontrou."
      ]
    },
    {
      "cell_type": "code",
      "metadata": {
        "id": "67SwWLc5AxV3"
      },
      "source": [
        "# recuperando o melhor estimator\n",
        "rf_best = grid.best_estimator_"
      ],
      "execution_count": null,
      "outputs": []
    },
    {
      "cell_type": "code",
      "metadata": {
        "id": "u9p_ErLBAxTO"
      },
      "source": [
        "# gerando o resultado final\n",
        "result_final = rf_best.predict(X_test)"
      ],
      "execution_count": null,
      "outputs": []
    },
    {
      "cell_type": "markdown",
      "metadata": {
        "id": "TjsGDINVClhp"
      },
      "source": [
        "Utilizamos os melhores parâmetros encontrados para fazer a predição."
      ]
    },
    {
      "cell_type": "code",
      "metadata": {
        "colab": {
          "base_uri": "https://localhost:8080/"
        },
        "id": "WlHdjDucAxRO",
        "outputId": "1f0f1f81-9390-4a89-88ef-1f2261a97fdc"
      },
      "source": [
        "# calculando o erro médio quadrático\n",
        "mean_squared_error(y_test, result_final)"
      ],
      "execution_count": null,
      "outputs": [
        {
          "output_type": "execute_result",
          "data": {
            "text/plain": [
              "1620.476656877187"
            ]
          },
          "metadata": {
            "tags": []
          },
          "execution_count": 45
        }
      ]
    },
    {
      "cell_type": "markdown",
      "metadata": {
        "id": "Vk0hGxKUC2Mm"
      },
      "source": [
        "O erro foi ainda menor que o anterior que era de aproximadamente 1680."
      ]
    },
    {
      "cell_type": "code",
      "metadata": {
        "colab": {
          "base_uri": "https://localhost:8080/"
        },
        "id": "rDuPDqY3AxOI",
        "outputId": "974fcc1b-20fd-438d-b1f4-a42e2bddac92"
      },
      "source": [
        "# computando o score\n",
        "rf_best.score(X_test, y_test)"
      ],
      "execution_count": null,
      "outputs": [
        {
          "output_type": "execute_result",
          "data": {
            "text/plain": [
              "0.9488250242619928"
            ]
          },
          "metadata": {
            "tags": []
          },
          "execution_count": 46
        }
      ]
    },
    {
      "cell_type": "markdown",
      "metadata": {
        "id": "uAaZh_l_DAOf"
      },
      "source": [
        "Esse é o score do nosso modelo final, uma grande evolução nos resultados."
      ]
    },
    {
      "cell_type": "markdown",
      "metadata": {
        "id": "OKyOS81hDB19"
      },
      "source": [
        "## **Aula de Regressão**\n",
        "- https://youtu.be/m8FrAx42okI"
      ]
    },
    {
      "cell_type": "markdown",
      "metadata": {
        "id": "-xTirOOJDPRP"
      },
      "source": [
        "## **Conclusão**\n",
        "\n",
        "Testamos alguns algoritmos de regressão e analisamos os seus respectivos resultados, esse era o nosso principal objetivo.\n",
        "\n",
        "Por essa razão decidimos não nos aprofundar muito na parte pré-processamento dos dados.\n",
        "\n",
        "Existem inúmeras técnicas que você podemos e devemos testar, como a ``normalização das features`` por exemplo.\n",
        "\n",
        "Você já tem a base agora use e abuse dos experimentos, afinal esse é o trabalho do Cientista de Dados."
      ]
    },
    {
      "cell_type": "code",
      "metadata": {
        "id": "ZSbydscqAxLK"
      },
      "source": [
        ""
      ],
      "execution_count": null,
      "outputs": []
    }
  ]
}